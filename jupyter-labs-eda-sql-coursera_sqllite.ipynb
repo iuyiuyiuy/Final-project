{
 "cells": [
  {
   "cell_type": "markdown",
   "source": "<p style=\"text-align:center\">\n    <a href=\"https://skills.network/?utm_medium=Exinfluencer&utm_source=Exinfluencer&utm_content=000026UJ&utm_term=10006555&utm_id=NA-SkillsNetwork-Channel-SkillsNetworkCoursesIBMDS0321ENSkillsNetwork26802033-2022-01-01\" target=\"_blank\">\n    <img src=\"https://cf-courses-data.s3.us.cloud-object-storage.appdomain.cloud/assets/logos/SN_web_lightmode.png\" width=\"200\" alt=\"Skills Network Logo\"  />\n    </a>\n</p>\n\n<h1 align=center><font size = 5>Assignment: SQL Notebook for Peer Assignment</font></h1>\n\nEstimated time needed: **60** minutes.\n\n## Introduction\n\nUsing this Python notebook you will:\n\n1.  Understand the Spacex DataSet\n2.  Load the dataset  into the corresponding table in a Db2 database\n3.  Execute SQL queries to answer assignment questions\n",
   "metadata": {
    "cell_id": "ddbc3da9-225f-4cc7-9bb0-2cdc82046d35",
    "deepnote_cell_type": "markdown",
    "deepnote_cell_height": 413.765625
   }
  },
  {
   "cell_type": "markdown",
   "source": "## Overview of the DataSet\n\nSpaceX has gained worldwide attention for a series of historic milestones.\n\nIt is the only private company ever to return a spacecraft from low-earth orbit, which it first accomplished in December 2010.\nSpaceX advertises Falcon 9 rocket launches on its website with a cost of 62 million dollars wheras other providers cost upward of 165 million dollars each, much of the savings is because Space X can reuse the first stage.\n\nTherefore if we can determine if the first stage will land, we can determine the cost of a launch.\n\nThis information can be used if an alternate company wants to bid against SpaceX for a rocket launch.\n\nThis dataset includes a record for each payload carried during a SpaceX mission into outer space.\n",
   "metadata": {
    "cell_id": "00001-01da73c0-13d0-434f-9b84-d5bba51f1bc2",
    "deepnote_cell_type": "markdown",
    "deepnote_cell_height": 298.78125
   }
  },
  {
   "cell_type": "markdown",
   "source": "### Download the datasets\n\nThis assignment requires you to load the spacex dataset.\n\nIn many cases the dataset to be analyzed is available as a .CSV (comma separated values) file, perhaps on the internet. Click on the link below to download and save the dataset (.CSV file):\n\n<a href=\"https://cf-courses-data.s3.us.cloud-object-storage.appdomain.cloud/IBM-DS0321EN-SkillsNetwork/labs/module_2/data/Spacex.csv?utm_medium=Exinfluencer&utm_source=Exinfluencer&utm_content=000026UJ&utm_term=10006555&utm_id=NA-SkillsNetwork-Channel-SkillsNetworkCoursesIBMDS0321ENSkillsNetwork26802033-2022-01-01\" target=\"_blank\">Spacex DataSet</a>\n",
   "metadata": {
    "cell_id": "00002-850853a4-42ed-460e-8799-2b5f11aa111b",
    "deepnote_cell_type": "markdown",
    "deepnote_cell_height": 195.59375
   }
  },
  {
   "cell_type": "markdown",
   "source": "### Store the dataset in database table\n\n**it is highly recommended to manually load the table using the database console LOAD tool in DB2**.\n\n<img src = \"https://cf-courses-data.s3.us.cloud-object-storage.appdomain.cloud/IBM-DS0321EN-SkillsNetwork/labs/module_2/images/spacexload.png\">\n\nNow open the Db2 console, open the LOAD tool, Select / Drag the .CSV file for the  dataset, Next create a New Table, and then follow the steps on-screen instructions to load the data. Name the new table as follows:\n\n**SPACEXDATASET**\n\n**Follow these steps while using old DB2 UI which is having Open Console Screen**\n\n**Note:While loading Spacex dataset, ensure that detect datatypes is disabled. Later click on the pencil icon(edit option).**\n\n1.  Change the Date Format by manually typing DD-MM-YYYY and timestamp format as DD-MM-YYYY HH\\:MM:SS\n\n2.  Change the PAYLOAD_MASS\\_\\_KG\\_  datatype  to INTEGER.\n\n<img src = \"https://cf-courses-data.s3.us.cloud-object-storage.appdomain.cloud/IBM-DS0321EN-SkillsNetwork/labs/module_2/images/spacexload2.png\">\n",
   "metadata": {
    "cell_id": "00003-1adcad8b-ef1a-4d81-b34f-afee07b52bb8",
    "deepnote_cell_type": "markdown",
    "deepnote_cell_height": 1134.625
   }
  },
  {
   "cell_type": "markdown",
   "source": "**Changes to be considered when having DB2 instance with the new UI having Go to UI screen**\n\n*   Refer to this insruction in this <a href=\"https://cf-courses-data.s3.us.cloud-object-storage.appdomain.cloud/IBMDeveloperSkillsNetwork-DB0201EN-SkillsNetwork/labs/Labs_Coursera_V5/labs/Lab%20-%20Sign%20up%20for%20IBM%20Cloud%20-%20Create%20Db2%20service%20instance%20-%20Get%20started%20with%20the%20Db2%20console/instructional-labs.md.html?utm_medium=Exinfluencer&utm_source=Exinfluencer&utm_content=000026UJ&utm_term=10006555&utm_id=NA-SkillsNetwork-Channel-SkillsNetworkCoursesIBMDS0321ENSkillsNetwork26802033-2022-01-01\">link</a> for viewing  the new  Go to UI screen.\n\n*   Later click on **Data link(below SQL)**  in the Go to UI screen  and click on **Load Data** tab.\n\n*   Later browse for the downloaded spacex file.\n\n<img src=\"https://cf-courses-data.s3.us.cloud-object-storage.appdomain.cloud/IBM-DS0321EN-SkillsNetwork/labs/module_2/images/browsefile.png\" width=\"800\"/>\n\n*   Once done select the schema andload the file.\n\n <img src=\"https://cf-courses-data.s3.us.cloud-object-storage.appdomain.cloud/IBM-DS0321EN-SkillsNetwork/labs/module_2/images/spacexload3.png\" width=\"800\"/>\n",
   "metadata": {
    "cell_id": "00004-4ef54a00-f066-4df3-b11c-fe5789a35702",
    "deepnote_cell_type": "markdown",
    "deepnote_cell_height": 853.421875
   }
  },
  {
   "cell_type": "code",
   "metadata": {
    "cell_id": "00005-ce7c2379-e92d-4469-88a3-1adaf6749538",
    "deepnote_to_be_reexecuted": false,
    "source_hash": "73035953",
    "execution_start": 1656566682197,
    "execution_millis": 9542,
    "deepnote_cell_type": "code",
    "deepnote_cell_height": 528.09375
   },
   "source": "!pip install sqlalchemy==1.3.9\n",
   "execution_count": 1,
   "outputs": [
    {
     "name": "stdout",
     "text": "Collecting sqlalchemy==1.3.9\n  Downloading SQLAlchemy-1.3.9.tar.gz (6.0 MB)\n\u001b[2K     \u001b[90m━━━━━━━━━━━━━━━━━━━━━━━━━━━━━━━━━━━━━━━━\u001b[0m \u001b[32m6.0/6.0 MB\u001b[0m \u001b[31m64.9 MB/s\u001b[0m eta \u001b[36m0:00:00\u001b[0m\n\u001b[?25h  Preparing metadata (setup.py) ... \u001b[?25ldone\n\u001b[?25hBuilding wheels for collected packages: sqlalchemy\n  Building wheel for sqlalchemy (setup.py) ... \u001b[?25ldone\n\u001b[?25h  Created wheel for sqlalchemy: filename=SQLAlchemy-1.3.9-cp39-cp39-linux_x86_64.whl size=1156874 sha256=4b7539d7a5f6253db1b020532bef748fee3cdacfbf0af290c2f4cfeef50c91bb\n  Stored in directory: /root/.cache/pip/wheels/5b/43/0d/de1699809f9e6aaa54a97275298fa07075cb19acc557b18955\nSuccessfully built sqlalchemy\nInstalling collected packages: sqlalchemy\n  Attempting uninstall: sqlalchemy\n    Found existing installation: SQLAlchemy 1.4.37\n    Not uninstalling sqlalchemy at /shared-libs/python3.9/py/lib/python3.9/site-packages, outside environment /root/venv\n    Can't uninstall 'SQLAlchemy'. No files were found to uninstall.\n\u001b[31mERROR: pip's dependency resolver does not currently take into account all the packages that are installed. This behaviour is the source of the following dependency conflicts.\nsnowflake-sqlalchemy 1.3.4 requires sqlalchemy<2.0.0,>=1.4.0, but you have sqlalchemy 1.3.9 which is incompatible.\nduckdb-engine 0.1.8 requires sqlalchemy<2.0.0,>=1.3.19, but you have sqlalchemy 1.3.9 which is incompatible.\nclickhouse-sqlalchemy 0.2.0 requires sqlalchemy<1.5,>=1.4, but you have sqlalchemy 1.3.9 which is incompatible.\u001b[0m\u001b[31m\n\u001b[0mSuccessfully installed sqlalchemy-1.3.9\n\u001b[33mWARNING: You are using pip version 22.0.4; however, version 22.1.2 is available.\nYou should consider upgrading via the '/root/venv/bin/python -m pip install --upgrade pip' command.\u001b[0m\u001b[33m\n\u001b[0m",
     "output_type": "stream"
    }
   ]
  },
  {
   "cell_type": "markdown",
   "source": "### Connect to the database\n\nLet us first load the SQL extension and establish a connection with the database\n",
   "metadata": {
    "cell_id": "00006-be7f4fa7-6518-4fc5-b628-4d045d93e219",
    "deepnote_cell_type": "markdown",
    "deepnote_cell_height": 100.390625
   }
  },
  {
   "cell_type": "code",
   "metadata": {
    "cell_id": "3b8cab7535694b53bd7011fdfa8ba332",
    "tags": [],
    "deepnote_to_be_reexecuted": false,
    "source_hash": "66704192",
    "execution_start": 1656566691443,
    "execution_millis": 4545,
    "deepnote_cell_type": "code",
    "deepnote_cell_height": 378
   },
   "source": "!pip install sql==2022.4.0",
   "execution_count": 2,
   "outputs": [
    {
     "name": "stdout",
     "text": "Collecting sql==2022.4.0\n  Downloading sql-2022.4.0.tar.gz (4.2 kB)\n  Preparing metadata (setup.py) ... \u001b[?25ldone\n\u001b[?25hBuilding wheels for collected packages: sql\n  Building wheel for sql (setup.py) ... \u001b[?25ldone\n\u001b[?25h  Created wheel for sql: filename=sql-2022.4.0-py3-none-any.whl size=4327 sha256=e429ba3904cde82adec791938e4cce500b7b803061a543659e41a177e6f72c1b\n  Stored in directory: /root/.cache/pip/wheels/46/08/97/9539d985c524b7a3793898bbf6c95879a0e9daf5fc9ba49fd0\nSuccessfully built sql\nInstalling collected packages: sql\nSuccessfully installed sql-2022.4.0\n\u001b[33mWARNING: You are using pip version 22.0.4; however, version 22.1.2 is available.\nYou should consider upgrading via the '/root/venv/bin/python -m pip install --upgrade pip' command.\u001b[0m\u001b[33m\n\u001b[0m",
     "output_type": "stream"
    }
   ]
  },
  {
   "cell_type": "code",
   "metadata": {
    "cell_id": "00007-14c5afe7-87b3-42be-a1a2-80c38dd39e3f",
    "deepnote_to_be_reexecuted": false,
    "source_hash": "8b6308ed",
    "execution_start": 1656566695993,
    "execution_millis": 4,
    "deepnote_cell_type": "code",
    "deepnote_cell_height": 111.6875
   },
   "source": "%load_ext sql",
   "execution_count": 3,
   "outputs": [
    {
     "name": "stdout",
     "text": "The sql module is not an IPython extension.\n",
     "output_type": "stream"
    }
   ]
  },
  {
   "cell_type": "code",
   "metadata": {
    "cell_id": "00008-168752a0-5d66-4b6f-a7a4-8821a932a645",
    "deepnote_to_be_reexecuted": false,
    "source_hash": "1bed1758",
    "execution_start": 1656566696003,
    "execution_millis": 2,
    "deepnote_cell_type": "code",
    "deepnote_cell_height": 135
   },
   "source": "import csv, sqlite3\n\ncon = sqlite3.connect(\"my_data1.db\")\ncur = con.cursor()",
   "execution_count": 4,
   "outputs": []
  },
  {
   "cell_type": "code",
   "metadata": {
    "cell_id": "00009-bb99dbdb-90a0-44ea-847e-fcaba1b9caa8",
    "deepnote_to_be_reexecuted": false,
    "source_hash": "c7425952",
    "execution_start": 1656566696008,
    "execution_millis": 6431,
    "deepnote_cell_type": "code",
    "deepnote_cell_height": 176.390625
   },
   "source": "!pip install -q pandas==1.1.5",
   "execution_count": 5,
   "outputs": [
    {
     "name": "stdout",
     "text": "\u001b[33mWARNING: You are using pip version 22.0.4; however, version 22.1.2 is available.\nYou should consider upgrading via the '/root/venv/bin/python -m pip install --upgrade pip' command.\u001b[0m\u001b[33m\n\u001b[0m",
     "output_type": "stream"
    }
   ]
  },
  {
   "cell_type": "code",
   "metadata": {
    "cell_id": "00010-c6a3651a-36a4-4491-a559-7cbc4075028f",
    "deepnote_to_be_reexecuted": false,
    "source_hash": "15f7d5cd",
    "execution_start": 1656566702446,
    "execution_millis": 578,
    "owner_user_id": "d2daf00e-103f-41b7-a109-7eb2cb21323b",
    "deepnote_cell_type": "code",
    "deepnote_cell_height": 111.6875
   },
   "source": "%sql sqlite:///my_data1.db",
   "execution_count": 6,
   "outputs": [
    {
     "name": "stderr",
     "text": "UsageError: Cell magic `%%sql` not found.\n",
     "output_type": "stream"
    }
   ]
  },
  {
   "cell_type": "code",
   "metadata": {
    "cell_id": "00011-83997e20-bbd3-4031-84e6-ac2411b031b4",
    "deepnote_to_be_reexecuted": true,
    "source_hash": "240906f8",
    "execution_start": 1656241936299,
    "execution_millis": 743,
    "deepnote_cell_type": "code",
    "deepnote_cell_height": 171.890625
   },
   "source": "import pandas as pd\ndf = pd.read_csv(\"https://cf-courses-data.s3.us.cloud-object-storage.appdomain.cloud/IBM-DS0321EN-SkillsNetwork/labs/module_2/data/Spacex.csv\")\ndf.to_sql(\"SPACEXTBL\", con, if_exists='replace', index=False,method=\"multi\")",
   "execution_count": null,
   "outputs": [
    {
     "name": "stderr",
     "text": "/shared-libs/python3.9/py/lib/python3.9/site-packages/pandas/core/generic.py:2779: UserWarning: The spaces in these column names will not be changed. In pandas versions < 0.14, spaces were converted to underscores.\n  sql.to_sql(\n",
     "output_type": "stream"
    }
   ]
  },
  {
   "cell_type": "markdown",
   "source": "## Tasks\n\nNow write and execute SQL queries to solve the assignment tasks.\n\n**Note: If the column names are in mixed case enclose it in double quotes\nFor Example \"Landing_Outcome\"**\n\n### Task 1\n\n##### Display the names of the unique launch sites  in the space mission\n",
   "metadata": {
    "cell_id": "00012-b08465b6-e5b2-4f74-91ce-f1fbac850a03",
    "deepnote_cell_type": "markdown",
    "deepnote_cell_height": 230.796875
   }
  },
  {
   "cell_type": "code",
   "metadata": {
    "cell_id": "00013-5745ff70-897a-4b6a-85f5-efbaa3617965",
    "deepnote_to_be_reexecuted": true,
    "source_hash": "a51ad291",
    "execution_start": 1656241929939,
    "execution_millis": 5,
    "deepnote_cell_type": "code",
    "deepnote_cell_height": 144.1875
   },
   "source": "%%sql SELECT DISTINCT(LAUNCH_SITE) FROM SPACEX",
   "execution_count": null,
   "outputs": [
    {
     "output_type": "error",
     "ename": "SyntaxError",
     "evalue": "invalid syntax (<ipython-input-9-b7d4c60ffccd>, line 1)",
     "traceback": [
      "\u001b[0;36m  File \u001b[0;32m\"<ipython-input-9-b7d4c60ffccd>\"\u001b[0;36m, line \u001b[0;32m1\u001b[0m\n\u001b[0;31m    SELECT DISTINCT(LAUNCH_SITE) FROM SPACEX\u001b[0m\n\u001b[0m           ^\u001b[0m\n\u001b[0;31mSyntaxError\u001b[0m\u001b[0;31m:\u001b[0m invalid syntax\n"
     ]
    }
   ]
  },
  {
   "cell_type": "markdown",
   "source": "### Task 2\n\n##### Display 5 records where launch sites begin with the string 'CCA'\n",
   "metadata": {
    "cell_id": "00014-e84837d7-ac49-4883-98c3-74222f268550",
    "deepnote_cell_type": "markdown",
    "deepnote_cell_height": 102
   }
  },
  {
   "cell_type": "code",
   "metadata": {
    "cell_id": "00015-efe47a2c-214f-4c67-8965-6252e48ca97f",
    "deepnote_to_be_reexecuted": true,
    "source_hash": "916eb43f",
    "deepnote_cell_type": "code",
    "deepnote_cell_height": 81
   },
   "source": "%%sql SELECT * FROM SPACEX WHERE LAUNCH_SITE LIKE 'CCA%' LIMIT 5",
   "execution_count": null,
   "outputs": []
  },
  {
   "cell_type": "markdown",
   "source": "### Task 3\n\n##### Display the total payload mass carried by boosters launched by NASA (CRS)\n",
   "metadata": {
    "cell_id": "00016-3ae190aa-797c-4bbc-a082-766cc61a3864",
    "deepnote_cell_type": "markdown",
    "deepnote_cell_height": 102
   }
  },
  {
   "cell_type": "code",
   "metadata": {
    "cell_id": "00017-6f35f22c-5588-4ea2-a009-8ba3657014bd",
    "deepnote_to_be_reexecuted": true,
    "source_hash": "843be9b2",
    "deepnote_cell_type": "code",
    "deepnote_cell_height": 81
   },
   "source": "SELECT sum(PAYLOAD_MASS__KG_) AS Total_payload_mass FROM SPACEX WHERE CUSTOMER LIKE 'NASA (CRS)'",
   "execution_count": null,
   "outputs": []
  },
  {
   "cell_type": "markdown",
   "source": "### Task 4\n\n##### Display average payload mass carried by booster version F9 v1.1\n",
   "metadata": {
    "cell_id": "00018-3b2c0c8d-a559-410c-8d14-4cc104d5dbd4",
    "deepnote_cell_type": "markdown",
    "deepnote_cell_height": 102
   }
  },
  {
   "cell_type": "code",
   "metadata": {
    "cell_id": "00019-7fb4ae6f-31c0-46bf-aa20-432305334d90",
    "deepnote_to_be_reexecuted": true,
    "source_hash": "45877926",
    "deepnote_cell_type": "code",
    "deepnote_cell_height": 81
   },
   "source": "SELECT AVG(PAYLOAD_MASS__KG_) AS Average_payload_mass FROM SPACEX WHERE BOOSTER_VERSION LIKE 'F9 v1.1%'",
   "execution_count": null,
   "outputs": []
  },
  {
   "cell_type": "markdown",
   "source": "### Task 5\n\n##### List the date when the first succesful landing outcome in ground pad was acheived.\n\n*Hint:Use min function*\n",
   "metadata": {
    "cell_id": "00020-3ddf6712-f6ca-484b-8811-cc4b5ccc6330",
    "deepnote_cell_type": "markdown",
    "deepnote_cell_height": 136.390625
   }
  },
  {
   "cell_type": "code",
   "metadata": {
    "cell_id": "00021-f7c071e5-3a63-4dff-b30f-47a308f3fecc",
    "deepnote_to_be_reexecuted": true,
    "source_hash": "53333b97",
    "deepnote_cell_type": "code",
    "deepnote_cell_height": 81
   },
   "source": "SELECT min(DATE) FROM SPACEX WHERE LANDING__OUTCOME = 'Success (ground pad)' ",
   "execution_count": null,
   "outputs": []
  },
  {
   "cell_type": "markdown",
   "source": "### Task 6\n\n##### List the names of the boosters which have success in drone ship and have payload mass greater than 4000 but less than 6000\n",
   "metadata": {
    "cell_id": "00022-c81159c4-20f6-4818-9853-692ead1d233d",
    "deepnote_cell_type": "markdown",
    "deepnote_cell_height": 126
   }
  },
  {
   "cell_type": "code",
   "metadata": {
    "cell_id": "00023-d9c736ac-494a-4e5a-a06d-7240346e1469",
    "deepnote_to_be_reexecuted": true,
    "source_hash": "c1bdc45d",
    "deepnote_cell_type": "code",
    "deepnote_cell_height": 81
   },
   "source": "SELECT BOOSTER_VERSION FROM SPACEX WHERE LANDING__OUTCOME = 'Success (drone ship)' AND PAYLOAD_MASS__KG_ > 4000 AND PAYLOAD_MASS__KG_ < 6000",
   "execution_count": null,
   "outputs": []
  },
  {
   "cell_type": "markdown",
   "source": "### Task 7\n\n##### List the total number of successful and failure mission outcomes\n",
   "metadata": {
    "cell_id": "00024-08ebda2b-f263-4bfd-b119-b5545818b90b",
    "deepnote_cell_type": "markdown",
    "deepnote_cell_height": 102
   }
  },
  {
   "cell_type": "code",
   "metadata": {
    "cell_id": "00025-978efb11-fc8f-4c46-a114-bedf20378e04",
    "deepnote_to_be_reexecuted": true,
    "source_hash": "9e96ff93",
    "deepnote_cell_type": "code",
    "deepnote_cell_height": 81
   },
   "source": "SELECT SUM(CASE WHEN MISSION_OUTCOME like '%Success%' THEN 1 ELSE 0 END) AS Total_number_of_success, SUM(CASE WHEN MISSION_OUTCOME like '%Failure%' THEN 1 ELSE 0 END) AS Total_number_of_failure FROM SPACEX ",
   "execution_count": null,
   "outputs": []
  },
  {
   "cell_type": "markdown",
   "source": "### Task 8\n\n##### List the   names of the booster_versions which have carried the maximum payload mass. Use a subquery\n",
   "metadata": {
    "cell_id": "00026-6ee4dd52-2af5-453b-87da-a6d8d99e3122",
    "deepnote_cell_type": "markdown",
    "deepnote_cell_height": 102
   }
  },
  {
   "cell_type": "code",
   "metadata": {
    "cell_id": "00027-5845180e-337b-4b4e-940a-0452cc98c2c5",
    "deepnote_to_be_reexecuted": true,
    "source_hash": "5a3a6890",
    "deepnote_cell_type": "code",
    "deepnote_cell_height": 81
   },
   "source": "SELECT BOOSTER_VERSION,PAYLOAD_MASS__KG_ FROM SPACEX WHERE PAYLOAD_MASS__KG_ = (SELECT MAX(PAYLOAD_MASS__KG_) FROM SPACEX)",
   "execution_count": null,
   "outputs": []
  },
  {
   "cell_type": "markdown",
   "source": "### Task 9\n\n##### List the records which will display the month names, failure landing_outcomes in drone ship ,booster versions, launch_site for the months in year 2015.\n\n**Note: SQLLite does not support monthnames. So you need to use  substr(Date, 4, 2) as month to get the months and substr(Date,7,4)='2015' for year.**\n",
   "metadata": {
    "cell_id": "00028-509b7f96-62c7-4e98-9787-65145f459562",
    "deepnote_cell_type": "markdown",
    "deepnote_cell_height": 182.796875
   }
  },
  {
   "cell_type": "code",
   "metadata": {
    "cell_id": "00029-fd9f2e49-55ae-42d2-9847-59caabb670f6",
    "deepnote_to_be_reexecuted": true,
    "source_hash": "b0769d3b",
    "deepnote_cell_type": "code",
    "deepnote_cell_height": 207
   },
   "source": "SELECT substr(DATE,1,4) AS Year, \nsubstr(DATE,6,2) AS Month,\nLANDING__OUTCOME, \nBOOSTER_VERSION, \nLAUNCH_SITE \nFROM SPACEX \nWHERE LANDING__OUTCOME like '%Failure (drone ship)%' \nAND substr(DATE,1,4) = '2015'",
   "execution_count": null,
   "outputs": []
  },
  {
   "cell_type": "markdown",
   "source": "### Task 10\n\n##### Rank the  count of  successful landing_outcomes between the date 04-06-2010 and 20-03-2017 in descending order.\n",
   "metadata": {
    "cell_id": "00030-8052f3da-cd8a-4013-86e6-479f9eb510b6",
    "deepnote_cell_type": "markdown",
    "deepnote_cell_height": 126
   }
  },
  {
   "cell_type": "code",
   "metadata": {
    "cell_id": "00031-b34a8b5b-4c30-4523-86f7-816db341dbc5",
    "deepnote_to_be_reexecuted": true,
    "source_hash": "9901fa7",
    "deepnote_cell_type": "code",
    "deepnote_cell_height": 189
   },
   "source": "SELECT DATE, \nCOUNT(LANDING__OUTCOME) AS No_of_success\nFROM SPACEX \nWHERE LANDING__OUTCOME LIKE '%Success%' \nAND DATE BETWEEN '2010-06-04' AND '2017-03-20'  \nGROUP BY DATE\nORDER BY DATE DESC",
   "execution_count": null,
   "outputs": []
  },
  {
   "cell_type": "markdown",
   "source": "### Reference Links\n\n*   <a href =\"https://cf-courses-data.s3.us.cloud-object-storage.appdomain.cloud/IBMDeveloperSkillsNetwork-DB0201EN-SkillsNetwork/labs/Labs_Coursera_V5/labs/Lab%20-%20String%20Patterns%20-%20Sorting%20-%20Grouping/instructional-labs.md.html?utm_medium=Exinfluencer&utm_source=Exinfluencer&utm_content=000026UJ&utm_term=10006555&utm_id=NA-SkillsNetwork-Channel-SkillsNetworkCoursesIBMDS0321ENSkillsNetwork26802033-2022-01-01&origin=www.coursera.org\">Hands-on Lab : String Patterns, Sorting and Grouping</a>\n\n*   <a  href=\"https://cf-courses-data.s3.us.cloud-object-storage.appdomain.cloud/IBMDeveloperSkillsNetwork-DB0201EN-SkillsNetwork/labs/Labs_Coursera_V5/labs/Lab%20-%20Built-in%20functions%20/Hands-on_Lab__Built-in_Functions.md.html?utm_medium=Exinfluencer&utm_source=Exinfluencer&utm_content=000026UJ&utm_term=10006555&utm_id=NA-SkillsNetwork-Channel-SkillsNetworkCoursesIBMDS0321ENSkillsNetwork26802033-2022-01-01&origin=www.coursera.org\">Hands-on Lab: Built-in functions</a>\n\n*   <a  href=\"https://cf-courses-data.s3.us.cloud-object-storage.appdomain.cloud/IBMDeveloperSkillsNetwork-DB0201EN-SkillsNetwork/labs/Labs_Coursera_V5/labs/Lab%20-%20Sub-queries%20and%20Nested%20SELECTs%20/instructional-labs.md.html?utm_medium=Exinfluencer&utm_source=Exinfluencer&utm_content=000026UJ&utm_term=10006555&utm_id=NA-SkillsNetwork-Channel-SkillsNetworkCoursesIBMDS0321ENSkillsNetwork26802033-2022-01-01&origin=www.coursera.org\">Hands-on Lab : Sub-queries and Nested SELECT Statements</a>\n\n*   <a href=\"https://cf-courses-data.s3.us.cloud-object-storage.appdomain.cloud/IBMDeveloperSkillsNetwork-DB0201EN-SkillsNetwork/labs/Module%205/DB0201EN-Week3-1-3-SQLmagic.ipynb?utm_medium=Exinfluencer&utm_source=Exinfluencer&utm_content=000026UJ&utm_term=10006555&utm_id=NA-SkillsNetwork-Channel-SkillsNetworkCoursesIBMDS0321ENSkillsNetwork26802033-2022-01-01\">Hands-on Tutorial: Accessing Databases with SQL magic</a>\n\n*   <a href= \"https://cf-courses-data.s3.us.cloud-object-storage.appdomain.cloud/IBMDeveloperSkillsNetwork-DB0201EN-SkillsNetwork/labs/Module%205/DB0201EN-Week3-1-4-Analyzing.ipynb?utm_medium=Exinfluencer&utm_source=Exinfluencer&utm_content=000026UJ&utm_term=10006555&utm_id=NA-SkillsNetwork-Channel-SkillsNetworkCoursesIBMDS0321ENSkillsNetwork26802033-2022-01-01\">Hands-on Lab: Analyzing a real World Data Set</a>\n",
   "metadata": {
    "cell_id": "00032-396243dc-38fb-474f-9a1f-51f96d9fe8f7",
    "deepnote_cell_type": "markdown",
    "deepnote_cell_height": 215.984375
   }
  },
  {
   "cell_type": "markdown",
   "source": "## Author(s)\n\n<h4> Lakshmi Holla </h4>\n",
   "metadata": {
    "cell_id": "00033-b13538aa-6780-4d41-a3b5-de842c5e335f",
    "deepnote_cell_type": "markdown",
    "deepnote_cell_height": 110
   }
  },
  {
   "cell_type": "markdown",
   "source": "## Other Contributors\n\n<h4> Rav Ahuja </h4>\n",
   "metadata": {
    "cell_id": "00034-b9bd0cc4-e222-4125-a626-f08ecf2d19f1",
    "deepnote_cell_type": "markdown",
    "deepnote_cell_height": 110
   }
  },
  {
   "cell_type": "markdown",
   "source": "## Change log\n\n| Date       | Version | Changed by    | Change Description        |\n| ---------- | ------- | ------------- | ------------------------- |\n| 2021-07-09 | 0.2     | Lakshmi Holla | Changes made in magic sql |\n| 2021-05-20 | 0.1     | Lakshmi Holla | Created Initial Version   |\n",
   "metadata": {
    "cell_id": "00035-0229fcef-3156-429c-8909-764423a77f84",
    "deepnote_cell_type": "markdown",
    "deepnote_cell_height": 159.1875
   }
  },
  {
   "cell_type": "markdown",
   "source": "## <h3 align=\"center\"> © IBM Corporation 2021. All rights reserved. <h3/>\n",
   "metadata": {
    "cell_id": "00036-b391969c-65e4-49fd-87a9-b6c50f93e16d",
    "deepnote_cell_type": "markdown",
    "deepnote_cell_height": 62
   }
  },
  {
   "cell_type": "markdown",
   "source": "<a style='text-decoration:none;line-height:16px;display:flex;color:#5B5B62;padding:10px;justify-content:end;' href='https://deepnote.com?utm_source=created-in-deepnote-cell&projectId=a4faeef7-db1c-45f7-a671-1790ea6e0be7' target=\"_blank\">\n<img alt='Created in deepnote.com' style='display:inline;max-height:16px;margin:0px;margin-right:7.5px;' src='data:image/svg+xml;base64,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' > </img>\nCreated in <span style='font-weight:600;margin-left:4px;'>Deepnote</span></a>",
   "metadata": {
    "tags": [],
    "created_in_deepnote_cell": true,
    "deepnote_cell_type": "markdown"
   }
  }
 ],
 "nbformat": 4,
 "nbformat_minor": 4,
 "metadata": {
  "kernelspec": {
   "display_name": "Python 3",
   "language": "python",
   "name": "python3"
  },
  "language_info": {
   "codemirror_mode": {
    "name": "ipython",
    "version": 3
   },
   "file_extension": ".py",
   "mimetype": "text/x-python",
   "name": "python",
   "nbconvert_exporter": "python",
   "pygments_lexer": "ipython3",
   "version": "3.8.8"
  },
  "deepnote_notebook_id": "7e037e11-c580-4109-a306-6300f4187875",
  "deepnote": {},
  "deepnote_execution_queue": []
 }
}