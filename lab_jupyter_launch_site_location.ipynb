{
 "cells": [
  {
   "cell_type": "markdown",
   "source": "<p style=\"text-align:center\">\n    <a href=\"https://skills.network/?utm_medium=Exinfluencer&utm_source=Exinfluencer&utm_content=000026UJ&utm_term=10006555&utm_id=NA-SkillsNetwork-Channel-SkillsNetworkCoursesIBMDS0321ENSkillsNetwork26802033-2022-01-01\" target=\"_blank\">\n    <img src=\"https://cf-courses-data.s3.us.cloud-object-storage.appdomain.cloud/assets/logos/SN_web_lightmode.png\" width=\"200\" alt=\"Skills Network Logo\"  />\n    </a>\n</p>\n",
   "metadata": {
    "id": "3n3ltmfnrqpi",
    "outputId": "a2d4f52a-2fb7-4668-f5f0-fe862aab8eb0",
    "papermill": {
     "duration": 1.489571,
     "end_time": "2020-09-19T06:26:57.168979",
     "exception": false,
     "start_time": "2020-09-19T06:26:55.679408",
     "status": "completed"
    },
    "tags": [],
    "cell_id": "3b646d9e-13ea-4e69-b5df-a7e059ab61b9",
    "deepnote_cell_type": "markdown",
    "deepnote_cell_height": 139.78125
   }
  },
  {
   "cell_type": "markdown",
   "source": "# **Launch Sites Locations Analysis with Folium**\n",
   "metadata": {
    "cell_id": "00001-ab1816f9-ff63-4006-bbf8-cdb57b0697de",
    "deepnote_cell_type": "markdown",
    "deepnote_cell_height": 134
   }
  },
  {
   "cell_type": "markdown",
   "source": "Estimated time needed: **40** minutes\n",
   "metadata": {
    "cell_id": "00002-55e0973b-fd88-46d6-bc4d-0f0853c31c91",
    "deepnote_cell_type": "markdown",
    "deepnote_cell_height": 52.390625
   }
  },
  {
   "cell_type": "markdown",
   "source": "The launch success rate may depend on many factors such as payload mass, orbit type, and so on. It may also depend on the location and proximities of a launch site, i.e., the initial position of rocket trajectories. Finding an optimal location for building a launch site certainly involves many factors and hopefully we could discover some of the factors by analyzing the existing launch site locations.\n",
   "metadata": {
    "cell_id": "00003-3c9dbe89-dda2-4267-b4de-5180a4d7cefd",
    "deepnote_cell_type": "markdown",
    "deepnote_cell_height": 119.59375
   }
  },
  {
   "cell_type": "markdown",
   "source": "In the previous exploratory data analysis labs, you have visualized the SpaceX launch dataset using `matplotlib` and `seaborn` and discovered some preliminary correlations between the launch site and success rates. In this lab, you will be performing more interactive visual analytics using `Folium`.\n",
   "metadata": {
    "cell_id": "00004-0f826bc3-b2c7-483b-b51c-c9fc5390a35b",
    "deepnote_cell_type": "markdown",
    "deepnote_cell_height": 97.1875
   }
  },
  {
   "cell_type": "markdown",
   "source": "## Objectives\n",
   "metadata": {
    "cell_id": "00005-2b9bed9e-f573-48c4-83df-5400b88cc9d0",
    "deepnote_cell_type": "markdown",
    "deepnote_cell_height": 70
   }
  },
  {
   "cell_type": "markdown",
   "source": "This lab contains the following tasks:\n\n*   **TASK 1:** Mark all launch sites on a map\n*   **TASK 2:** Mark the success/failed launches for each site on the map\n*   **TASK 3:** Calculate the distances between a launch site to its proximities\n\nAfter completed the above tasks, you should be able to find some geographical patterns about launch sites.\n",
   "metadata": {
    "cell_id": "00006-29db5468-9ed9-4e98-a2a4-941e8250922f",
    "deepnote_cell_type": "markdown",
    "deepnote_cell_height": 175.984375
   }
  },
  {
   "cell_type": "markdown",
   "source": "Let's first import required Python packages for this lab:\n",
   "metadata": {
    "cell_id": "00007-3e41bb04-6786-44df-88f8-a1c42628455e",
    "deepnote_cell_type": "markdown",
    "deepnote_cell_height": 52.390625
   }
  },
  {
   "cell_type": "code",
   "metadata": {
    "cell_id": "00008-7f9f08ac-b520-4ab4-8f37-ab03b12b3dc0",
    "deepnote_to_be_reexecuted": false,
    "source_hash": "53a6fcee",
    "execution_start": 1656567327107,
    "execution_millis": 9216,
    "deepnote_cell_type": "code",
    "deepnote_cell_height": 587.1875
   },
   "source": "!pip3 install folium\n!pip3 install wget",
   "execution_count": 1,
   "outputs": [
    {
     "name": "stdout",
     "text": "Requirement already satisfied: folium in /shared-libs/python3.9/py/lib/python3.9/site-packages (0.12.1.post1)\nRequirement already satisfied: requests in /shared-libs/python3.9/py/lib/python3.9/site-packages (from folium) (2.27.1)\nRequirement already satisfied: branca>=0.3.0 in /shared-libs/python3.9/py/lib/python3.9/site-packages (from folium) (0.5.0)\nRequirement already satisfied: numpy in /shared-libs/python3.9/py/lib/python3.9/site-packages (from folium) (1.22.4)\nRequirement already satisfied: jinja2>=2.9 in /shared-libs/python3.9/py-core/lib/python3.9/site-packages (from folium) (2.11.3)\nRequirement already satisfied: MarkupSafe>=0.23 in /shared-libs/python3.9/py-core/lib/python3.9/site-packages (from jinja2>=2.9->folium) (2.0.1)\nRequirement already satisfied: urllib3<1.27,>=1.21.1 in /shared-libs/python3.9/py/lib/python3.9/site-packages (from requests->folium) (1.26.9)\nRequirement already satisfied: idna<4,>=2.5 in /shared-libs/python3.9/py-core/lib/python3.9/site-packages (from requests->folium) (3.3)\nRequirement already satisfied: certifi>=2017.4.17 in /shared-libs/python3.9/py/lib/python3.9/site-packages (from requests->folium) (2022.5.18.1)\nRequirement already satisfied: charset-normalizer~=2.0.0 in /shared-libs/python3.9/py-core/lib/python3.9/site-packages (from requests->folium) (2.0.12)\n\u001b[33mWARNING: You are using pip version 22.0.4; however, version 22.1.2 is available.\nYou should consider upgrading via the '/root/venv/bin/python -m pip install --upgrade pip' command.\u001b[0m\u001b[33m\n\u001b[0mCollecting wget\n  Downloading wget-3.2.zip (10 kB)\n  Preparing metadata (setup.py) ... \u001b[?25ldone\n\u001b[?25hBuilding wheels for collected packages: wget\n  Building wheel for wget (setup.py) ... \u001b[?25ldone\n\u001b[?25h  Created wheel for wget: filename=wget-3.2-py3-none-any.whl size=9675 sha256=0990de5d7b9a5e7367f01a48ef1e637738901cad9e6404e8f81eca838484373f\n  Stored in directory: /root/.cache/pip/wheels/04/5f/3e/46cc37c5d698415694d83f607f833f83f0149e49b3af9d0f38\nSuccessfully built wget\nInstalling collected packages: wget\nSuccessfully installed wget-3.2\n\u001b[33mWARNING: You are using pip version 22.0.4; however, version 22.1.2 is available.\nYou should consider upgrading via the '/root/venv/bin/python -m pip install --upgrade pip' command.\u001b[0m\u001b[33m\n\u001b[0m",
     "output_type": "stream"
    }
   ]
  },
  {
   "cell_type": "code",
   "metadata": {
    "cell_id": "00009-ad4a34d6-7d33-4eb8-8947-6e5d43d48c4f",
    "deepnote_to_be_reexecuted": false,
    "source_hash": "c7abab63",
    "execution_start": 1656567336323,
    "execution_millis": 583,
    "deepnote_cell_type": "code",
    "deepnote_cell_height": 117
   },
   "source": "import folium\nimport wget\nimport pandas as pd",
   "execution_count": 2,
   "outputs": []
  },
  {
   "cell_type": "code",
   "metadata": {
    "cell_id": "00010-029a4e7a-ca80-42f8-aee2-d3148ae294d0",
    "deepnote_to_be_reexecuted": false,
    "source_hash": "5edef253",
    "execution_start": 1656567336909,
    "execution_millis": 130,
    "deepnote_cell_type": "code",
    "deepnote_cell_height": 171
   },
   "source": "# Import folium MarkerCluster plugin\nfrom folium.plugins import MarkerCluster\n# Import folium MousePosition plugin\nfrom folium.plugins import MousePosition\n# Import folium DivIcon plugin\nfrom folium.features import DivIcon",
   "execution_count": 3,
   "outputs": []
  },
  {
   "cell_type": "markdown",
   "source": "If you need to refresh your memory about folium, you may download and refer to this previous folium lab:\n",
   "metadata": {
    "cell_id": "00011-07fb2546-d904-42a5-ae30-560003302274",
    "deepnote_cell_type": "markdown",
    "deepnote_cell_height": 52.390625
   }
  },
  {
   "cell_type": "markdown",
   "source": "[Generating Maps with Python](https://cf-courses-data.s3.us.cloud-object-storage.appdomain.cloud/IBM-DS0321EN-SkillsNetwork/labs/module\\_3/DV0101EN-3-5-1-Generating-Maps-in-Python-py-v2.0.ipynb)\n",
   "metadata": {
    "cell_id": "00012-afd91a37-3e21-40d8-bcc6-5965b3057714",
    "deepnote_cell_type": "markdown",
    "deepnote_cell_height": 52.390625
   }
  },
  {
   "cell_type": "markdown",
   "source": "## Task 1: Mark all launch sites on a map\n",
   "metadata": {
    "cell_id": "00013-f25ed4f4-170c-46ff-a5ef-3dce974a73dc",
    "deepnote_cell_type": "markdown",
    "deepnote_cell_height": 70
   }
  },
  {
   "cell_type": "markdown",
   "source": "First, let's try to add each site's location on a map using site's latitude and longitude coordinates\n",
   "metadata": {
    "cell_id": "00014-62a13ff1-a112-471b-91b5-bf66f2a57ac1",
    "deepnote_cell_type": "markdown",
    "deepnote_cell_height": 52.390625
   }
  },
  {
   "cell_type": "markdown",
   "source": "The following dataset with the name `spacex_launch_geo.csv` is an augmented dataset with latitude and longitude added for each site.\n",
   "metadata": {
    "cell_id": "00015-d1570ab9-6369-4fc7-9fb4-96ee7d5aac38",
    "deepnote_cell_type": "markdown",
    "deepnote_cell_height": 74.796875
   }
  },
  {
   "cell_type": "code",
   "metadata": {
    "cell_id": "00016-518f3f74-fca3-4962-a439-68b1b5cf04d1",
    "deepnote_to_be_reexecuted": false,
    "source_hash": "e4705f92",
    "execution_start": 1656567337042,
    "execution_millis": 87,
    "deepnote_cell_type": "code",
    "deepnote_cell_height": 117
   },
   "source": "# Download and read the `spacex_launch_geo.csv`\nspacex_csv_file = wget.download('https://cf-courses-data.s3.us.cloud-object-storage.appdomain.cloud/IBM-DS0321EN-SkillsNetwork/datasets/spacex_launch_geo.csv')\nspacex_df=pd.read_csv(spacex_csv_file)",
   "execution_count": 4,
   "outputs": []
  },
  {
   "cell_type": "markdown",
   "source": "Now, you can take a look at what are the coordinates for each site.\n",
   "metadata": {
    "cell_id": "00017-1d0a8553-df4c-4863-b031-3cf08f2a6b55",
    "deepnote_cell_type": "markdown",
    "deepnote_cell_height": 52.390625
   }
  },
  {
   "cell_type": "code",
   "metadata": {
    "cell_id": "00018-715019c4-d864-4da7-9e55-d7f4ac52aa92",
    "deepnote_to_be_reexecuted": false,
    "source_hash": "10745633",
    "execution_start": 1656567337146,
    "execution_millis": 68,
    "deepnote_cell_type": "code",
    "deepnote_cell_height": 426
   },
   "source": "# Select relevant sub-columns: `Launch Site`, `Lat(Latitude)`, `Long(Longitude)`, `class`\nspacex_df = spacex_df[['Launch Site', 'Lat', 'Long', 'class']]\nlaunch_sites_df = spacex_df.groupby(['Launch Site'], as_index=False).first()\nlaunch_sites_df = launch_sites_df[['Launch Site', 'Lat', 'Long']]\nlaunch_sites_df",
   "execution_count": 5,
   "outputs": [
    {
     "output_type": "execute_result",
     "execution_count": 5,
     "data": {
      "application/vnd.deepnote.dataframe.v3+json": {
       "column_count": 3,
       "row_count": 4,
       "columns": [
        {
         "name": "Launch Site",
         "dtype": "object",
         "stats": {
          "unique_count": 4,
          "nan_count": 0,
          "categories": [
           {
            "name": "CCAFS LC-40",
            "count": 1
           },
           {
            "name": "CCAFS SLC-40",
            "count": 1
           },
           {
            "name": "2 others",
            "count": 2
           }
          ]
         }
        },
        {
         "name": "Lat",
         "dtype": "float64",
         "stats": {
          "unique_count": 4,
          "nan_count": 0,
          "min": "28.56230197",
          "max": "34.63283416",
          "histogram": [
           {
            "bin_start": 28.56230197,
            "bin_end": 29.169355189,
            "count": 3
           },
           {
            "bin_start": 29.169355189,
            "bin_end": 29.776408408,
            "count": 0
           },
           {
            "bin_start": 29.776408408,
            "bin_end": 30.383461627,
            "count": 0
           },
           {
            "bin_start": 30.383461627,
            "bin_end": 30.990514846,
            "count": 0
           },
           {
            "bin_start": 30.990514846,
            "bin_end": 31.597568065,
            "count": 0
           },
           {
            "bin_start": 31.597568065,
            "bin_end": 32.204621284,
            "count": 0
           },
           {
            "bin_start": 32.204621284,
            "bin_end": 32.811674503,
            "count": 0
           },
           {
            "bin_start": 32.811674503,
            "bin_end": 33.418727722,
            "count": 0
           },
           {
            "bin_start": 33.418727722,
            "bin_end": 34.025780941,
            "count": 0
           },
           {
            "bin_start": 34.025780941,
            "bin_end": 34.63283416,
            "count": 1
           }
          ]
         }
        },
        {
         "name": "Long",
         "dtype": "float64",
         "stats": {
          "unique_count": 4,
          "nan_count": 0,
          "min": "-120.6107455",
          "max": "-80.57682003",
          "histogram": [
           {
            "bin_start": -120.6107455,
            "bin_end": -116.60735295299999,
            "count": 1
           },
           {
            "bin_start": -116.60735295299999,
            "bin_end": -112.603960406,
            "count": 0
           },
           {
            "bin_start": -112.603960406,
            "bin_end": -108.600567859,
            "count": 0
           },
           {
            "bin_start": -108.600567859,
            "bin_end": -104.59717531199999,
            "count": 0
           },
           {
            "bin_start": -104.59717531199999,
            "bin_end": -100.59378276499999,
            "count": 0
           },
           {
            "bin_start": -100.59378276499999,
            "bin_end": -96.590390218,
            "count": 0
           },
           {
            "bin_start": -96.590390218,
            "bin_end": -92.58699767099999,
            "count": 0
           },
           {
            "bin_start": -92.58699767099999,
            "bin_end": -88.583605124,
            "count": 0
           },
           {
            "bin_start": -88.583605124,
            "bin_end": -84.580212577,
            "count": 0
           },
           {
            "bin_start": -84.580212577,
            "bin_end": -80.57682003,
            "count": 3
           }
          ]
         }
        },
        {
         "name": "_deepnote_index_column",
         "dtype": "int64"
        }
       ],
       "rows": [
        {
         "Launch Site": "CCAFS LC-40",
         "Lat": 28.56230197,
         "Long": -80.57735648,
         "_deepnote_index_column": 0
        },
        {
         "Launch Site": "CCAFS SLC-40",
         "Lat": 28.56319718,
         "Long": -80.57682003,
         "_deepnote_index_column": 1
        },
        {
         "Launch Site": "KSC LC-39A",
         "Lat": 28.57325457,
         "Long": -80.64689529,
         "_deepnote_index_column": 2
        },
        {
         "Launch Site": "VAFB SLC-4E",
         "Lat": 34.63283416,
         "Long": -120.6107455,
         "_deepnote_index_column": 3
        }
       ]
      },
      "text/plain": "    Launch Site        Lat        Long\n0   CCAFS LC-40  28.562302  -80.577356\n1  CCAFS SLC-40  28.563197  -80.576820\n2    KSC LC-39A  28.573255  -80.646895\n3   VAFB SLC-4E  34.632834 -120.610745",
      "text/html": "<div>\n<style scoped>\n    .dataframe tbody tr th:only-of-type {\n        vertical-align: middle;\n    }\n\n    .dataframe tbody tr th {\n        vertical-align: top;\n    }\n\n    .dataframe thead th {\n        text-align: right;\n    }\n</style>\n<table border=\"1\" class=\"dataframe\">\n  <thead>\n    <tr style=\"text-align: right;\">\n      <th></th>\n      <th>Launch Site</th>\n      <th>Lat</th>\n      <th>Long</th>\n    </tr>\n  </thead>\n  <tbody>\n    <tr>\n      <th>0</th>\n      <td>CCAFS LC-40</td>\n      <td>28.562302</td>\n      <td>-80.577356</td>\n    </tr>\n    <tr>\n      <th>1</th>\n      <td>CCAFS SLC-40</td>\n      <td>28.563197</td>\n      <td>-80.576820</td>\n    </tr>\n    <tr>\n      <th>2</th>\n      <td>KSC LC-39A</td>\n      <td>28.573255</td>\n      <td>-80.646895</td>\n    </tr>\n    <tr>\n      <th>3</th>\n      <td>VAFB SLC-4E</td>\n      <td>34.632834</td>\n      <td>-120.610745</td>\n    </tr>\n  </tbody>\n</table>\n</div>"
     },
     "metadata": {}
    }
   ]
  },
  {
   "cell_type": "markdown",
   "source": "Above coordinates are just plain numbers that can not give you any intuitive insights about where are those launch sites. If you are very good at geography, you can interpret those numbers directly in your mind. If not, that's fine too. Let's visualize those locations by pinning them on a map.\n",
   "metadata": {
    "cell_id": "00019-2e7f3efe-9fb0-4599-b3c1-7c219d250822",
    "deepnote_cell_type": "markdown",
    "deepnote_cell_height": 97.1875
   }
  },
  {
   "cell_type": "markdown",
   "source": "We first need to create a folium `Map` object, with an initial center location to be NASA Johnson Space Center at Houston, Texas.\n",
   "metadata": {
    "cell_id": "00020-74ef27d1-a01f-43f5-a1ab-886f6aceda11",
    "deepnote_cell_type": "markdown",
    "deepnote_cell_height": 74.796875
   }
  },
  {
   "cell_type": "code",
   "metadata": {
    "cell_id": "00021-6a55fa65-3edc-48a0-90cb-766b65345fab",
    "deepnote_to_be_reexecuted": false,
    "source_hash": "5932c570",
    "execution_start": 1656567337211,
    "execution_millis": 0,
    "deepnote_cell_type": "code",
    "deepnote_cell_height": 117
   },
   "source": "# Start location is NASA Johnson Space Center\nnasa_coordinate = [29.559684888503615, -95.0830971930759]\nsite_map = folium.Map(location=nasa_coordinate, zoom_start=10)",
   "execution_count": 6,
   "outputs": []
  },
  {
   "cell_type": "markdown",
   "source": "We could use `folium.Circle` to add a highlighted circle area with a text label on a specific coordinate. For example,\n",
   "metadata": {
    "cell_id": "00022-8e6cac01-920c-4325-b2f7-95a7f683846e",
    "deepnote_cell_type": "markdown",
    "deepnote_cell_height": 52.390625
   }
  },
  {
   "cell_type": "code",
   "metadata": {
    "cell_id": "00023-842de499-dc6e-4607-afe0-f8c53421a932",
    "deepnote_to_be_reexecuted": false,
    "source_hash": "eeb73374",
    "execution_start": 1656567337218,
    "execution_millis": 44,
    "deepnote_cell_type": "code",
    "deepnote_cell_height": 811.1875,
    "deepnote_output_heights": [
     480.1875
    ]
   },
   "source": "# Create a blue circle at NASA Johnson Space Center's coordinate with a popup label showing its name\ncircle = folium.Circle(nasa_coordinate, radius=1000, color='#d35400', fill=True).add_child(folium.Popup('NASA Johnson Space Center'))\n# Create a blue circle at NASA Johnson Space Center's coordinate with a icon showing its name\nmarker = folium.map.Marker(\n    nasa_coordinate,\n    # Create an icon as a text label\n    icon=DivIcon(\n        icon_size=(20,20),\n        icon_anchor=(0,0),\n        html='<div style=\"font-size: 12; color:#d35400;\"><b>%s</b></div>' % 'NASA JSC',\n        )\n    )\nsite_map.add_child(circle)\nsite_map.add_child(marker)",
   "execution_count": 7,
   "outputs": [
    {
     "output_type": "execute_result",
     "execution_count": 7,
     "data": {
      "text/plain": "<folium.folium.Map at 0x7f782f9b4f70>",
      "text/html": "<div style=\"width:100%;\"><div style=\"position:relative;width:100%;height:0;padding-bottom:60%;\"><span style=\"color:#565656\">Make this Notebook Trusted to load map: File -> Trust Notebook</span><iframe srcdoc=\"&lt;!DOCTYPE html&gt;\n&lt;head&gt;    \n    &lt;meta http-equiv=&quot;content-type&quot; content=&quot;text/html; charset=UTF-8&quot; /&gt;\n    \n        &lt;script&gt;\n            L_NO_TOUCH = false;\n            L_DISABLE_3D = false;\n        &lt;/script&gt;\n    \n    &lt;style&gt;html, body {width: 100%;height: 100%;margin: 0;padding: 0;}&lt;/style&gt;\n    &lt;style&gt;#map {position:absolute;top:0;bottom:0;right:0;left:0;}&lt;/style&gt;\n    &lt;script src=&quot;https://cdn.jsdelivr.net/npm/leaflet@1.6.0/dist/leaflet.js&quot;&gt;&lt;/script&gt;\n    &lt;script src=&quot;https://code.jquery.com/jquery-1.12.4.min.js&quot;&gt;&lt;/script&gt;\n    &lt;script src=&quot;https://maxcdn.bootstrapcdn.com/bootstrap/3.2.0/js/bootstrap.min.js&quot;&gt;&lt;/script&gt;\n    &lt;script src=&quot;https://cdnjs.cloudflare.com/ajax/libs/Leaflet.awesome-markers/2.0.2/leaflet.awesome-markers.js&quot;&gt;&lt;/script&gt;\n    &lt;link rel=&quot;stylesheet&quot; href=&quot;https://cdn.jsdelivr.net/npm/leaflet@1.6.0/dist/leaflet.css&quot;/&gt;\n    &lt;link rel=&quot;stylesheet&quot; href=&quot;https://maxcdn.bootstrapcdn.com/bootstrap/3.2.0/css/bootstrap.min.css&quot;/&gt;\n    &lt;link rel=&quot;stylesheet&quot; href=&quot;https://maxcdn.bootstrapcdn.com/bootstrap/3.2.0/css/bootstrap-theme.min.css&quot;/&gt;\n    &lt;link rel=&quot;stylesheet&quot; href=&quot;https://maxcdn.bootstrapcdn.com/font-awesome/4.6.3/css/font-awesome.min.css&quot;/&gt;\n    &lt;link rel=&quot;stylesheet&quot; href=&quot;https://cdnjs.cloudflare.com/ajax/libs/Leaflet.awesome-markers/2.0.2/leaflet.awesome-markers.css&quot;/&gt;\n    &lt;link rel=&quot;stylesheet&quot; href=&quot;https://cdn.jsdelivr.net/gh/python-visualization/folium/folium/templates/leaflet.awesome.rotate.min.css&quot;/&gt;\n    \n            &lt;meta name=&quot;viewport&quot; content=&quot;width=device-width,\n                initial-scale=1.0, maximum-scale=1.0, user-scalable=no&quot; /&gt;\n            &lt;style&gt;\n                #map_bfb347adc5e524fa30119d915c1a7237 {\n                    position: relative;\n                    width: 100.0%;\n                    height: 100.0%;\n                    left: 0.0%;\n                    top: 0.0%;\n                }\n            &lt;/style&gt;\n        \n&lt;/head&gt;\n&lt;body&gt;    \n    \n            &lt;div class=&quot;folium-map&quot; id=&quot;map_bfb347adc5e524fa30119d915c1a7237&quot; &gt;&lt;/div&gt;\n        \n&lt;/body&gt;\n&lt;script&gt;    \n    \n            var map_bfb347adc5e524fa30119d915c1a7237 = L.map(\n                &quot;map_bfb347adc5e524fa30119d915c1a7237&quot;,\n                {\n                    center: [29.559684888503615, -95.0830971930759],\n                    crs: L.CRS.EPSG3857,\n                    zoom: 10,\n                    zoomControl: true,\n                    preferCanvas: false,\n                }\n            );\n\n            \n\n        \n    \n            var tile_layer_4408a00f5dff32cacbacfa0c10f21c73 = L.tileLayer(\n                &quot;https://{s}.tile.openstreetmap.org/{z}/{x}/{y}.png&quot;,\n                {&quot;attribution&quot;: &quot;Data by \\u0026copy; \\u003ca href=\\&quot;http://openstreetmap.org\\&quot;\\u003eOpenStreetMap\\u003c/a\\u003e, under \\u003ca href=\\&quot;http://www.openstreetmap.org/copyright\\&quot;\\u003eODbL\\u003c/a\\u003e.&quot;, &quot;detectRetina&quot;: false, &quot;maxNativeZoom&quot;: 18, &quot;maxZoom&quot;: 18, &quot;minZoom&quot;: 0, &quot;noWrap&quot;: false, &quot;opacity&quot;: 1, &quot;subdomains&quot;: &quot;abc&quot;, &quot;tms&quot;: false}\n            ).addTo(map_bfb347adc5e524fa30119d915c1a7237);\n        \n    \n            var circle_b24550dd3d609a5a0ffa44b24b54dc7b = L.circle(\n                [29.559684888503615, -95.0830971930759],\n                {&quot;bubblingMouseEvents&quot;: true, &quot;color&quot;: &quot;#d35400&quot;, &quot;dashArray&quot;: null, &quot;dashOffset&quot;: null, &quot;fill&quot;: true, &quot;fillColor&quot;: &quot;#d35400&quot;, &quot;fillOpacity&quot;: 0.2, &quot;fillRule&quot;: &quot;evenodd&quot;, &quot;lineCap&quot;: &quot;round&quot;, &quot;lineJoin&quot;: &quot;round&quot;, &quot;opacity&quot;: 1.0, &quot;radius&quot;: 1000, &quot;stroke&quot;: true, &quot;weight&quot;: 3}\n            ).addTo(map_bfb347adc5e524fa30119d915c1a7237);\n        \n    \n        var popup_6373c4aa786dd26f1e906979dbd14d61 = L.popup({&quot;maxWidth&quot;: &quot;100%&quot;});\n\n        \n            var html_bd29ca47dc07c8d4338949b8d20f52c0 = $(`&lt;div id=&quot;html_bd29ca47dc07c8d4338949b8d20f52c0&quot; style=&quot;width: 100.0%; height: 100.0%;&quot;&gt;NASA Johnson Space Center&lt;/div&gt;`)[0];\n            popup_6373c4aa786dd26f1e906979dbd14d61.setContent(html_bd29ca47dc07c8d4338949b8d20f52c0);\n        \n\n        circle_b24550dd3d609a5a0ffa44b24b54dc7b.bindPopup(popup_6373c4aa786dd26f1e906979dbd14d61)\n        ;\n\n        \n    \n    \n            var marker_8ac9a5778c8fa8552946baa6e88d38a9 = L.marker(\n                [29.559684888503615, -95.0830971930759],\n                {}\n            ).addTo(map_bfb347adc5e524fa30119d915c1a7237);\n        \n    \n            var div_icon_deef34b8c6a11e4581c3ffceb28ffae2 = L.divIcon({&quot;className&quot;: &quot;empty&quot;, &quot;html&quot;: &quot;\\u003cdiv style=\\&quot;font-size: 12; color:#d35400;\\&quot;\\u003e\\u003cb\\u003eNASA JSC\\u003c/b\\u003e\\u003c/div\\u003e&quot;, &quot;iconAnchor&quot;: [0, 0], &quot;iconSize&quot;: [20, 20]});\n            marker_8ac9a5778c8fa8552946baa6e88d38a9.setIcon(div_icon_deef34b8c6a11e4581c3ffceb28ffae2);\n        \n&lt;/script&gt;\" style=\"position:absolute;width:100%;height:100%;left:0;top:0;border:none !important;\" allowfullscreen webkitallowfullscreen mozallowfullscreen></iframe></div></div>"
     },
     "metadata": {}
    }
   ]
  },
  {
   "cell_type": "markdown",
   "source": "and you should find a small yellow circle near the city of Houston and you can zoom-in to see a larger circle.\n",
   "metadata": {
    "cell_id": "00024-301ee43f-46d0-48dc-aed8-b05ac5c30fc3",
    "deepnote_cell_type": "markdown",
    "deepnote_cell_height": 52.390625
   }
  },
  {
   "cell_type": "markdown",
   "source": "Now, let's add a circle for each launch site in data frame `launch_sites`\n",
   "metadata": {
    "cell_id": "00025-3a72c864-3cf2-40c2-92fd-3609503a80d6",
    "deepnote_cell_type": "markdown",
    "deepnote_cell_height": 52.390625
   }
  },
  {
   "cell_type": "markdown",
   "source": "*TODO:*  Create and add `folium.Circle` and `folium.Marker` for each launch site on the site map\n",
   "metadata": {
    "cell_id": "00026-c54f3cc3-b39e-4047-a4d3-9ac31e531fe6",
    "deepnote_cell_type": "markdown",
    "deepnote_cell_height": 52.390625
   }
  },
  {
   "cell_type": "markdown",
   "source": "An example of folium.Circle:\n",
   "metadata": {
    "cell_id": "00027-a556b30e-e491-40e7-8dec-89c46d71117f",
    "deepnote_cell_type": "markdown",
    "deepnote_cell_height": 52.390625
   }
  },
  {
   "cell_type": "markdown",
   "source": "`folium.Circle(coordinate, radius=1000, color='#000000', fill=True).add_child(folium.Popup(...))`\n",
   "metadata": {
    "cell_id": "00028-ab4b59de-8936-4f34-a620-d7da59f37f44",
    "deepnote_cell_type": "markdown",
    "deepnote_cell_height": 52.390625
   }
  },
  {
   "cell_type": "markdown",
   "source": "An example of folium.Marker:\n",
   "metadata": {
    "cell_id": "00029-e8bf923f-90f7-41f4-8e75-8ceaf65826ad",
    "deepnote_cell_type": "markdown",
    "deepnote_cell_height": 52.390625
   }
  },
  {
   "cell_type": "markdown",
   "source": "`folium.map.Marker(coordinate, icon=DivIcon(icon_size=(20,20),icon_anchor=(0,0), html='<div style=\"font-size: 12; color:#d35400;\"><b>%s</b></div>' % 'label', ))`\n",
   "metadata": {
    "cell_id": "00030-5f26a20e-e7d8-416d-88a8-f8cd04fa3f90",
    "deepnote_cell_type": "markdown",
    "deepnote_cell_height": 74.796875
   }
  },
  {
   "cell_type": "code",
   "metadata": {
    "cell_id": "00031-7ac8abc1-8217-481a-a354-d8ba9f518275",
    "deepnote_to_be_reexecuted": false,
    "source_hash": "8742bc60",
    "execution_start": 1656567337261,
    "execution_millis": 5,
    "deepnote_cell_type": "code",
    "deepnote_cell_height": 793.1875,
    "deepnote_output_heights": [
     480.1875
    ]
   },
   "source": "# Initial the map\nsite_map = folium.Map(location=nasa_coordinate, zoom_start=5)\n# For each launch site, add a Circle object based on its coordinate (Lat, Long) values. In addition, add Launch site name as a popup label\nlaunch_sites_df.rename(columns = {'Launch Site':'LaunchSite'}, inplace = True)\nfor lat, lng, name  in zip(launch_sites_df.Lat, launch_sites_df.Long, launch_sites_df.LaunchSite):\n    site_map.add_child(folium.Circle([lat,lng],radius=1000, color='#d35400', fill=True).add_child(folium.Popup(name))\n                      )\n    site_map.add_child(folium.map.Marker([lat,lng],\n                       icon=DivIcon(icon_size=(20,20),\n                       icon_anchor=(0,0),\n                       html='<div style=\"font-size: 12; color:#d35400;\"><b>%s</b></div>' % name,))\n                      )\nsite_map",
   "execution_count": 8,
   "outputs": [
    {
     "output_type": "execute_result",
     "execution_count": 8,
     "data": {
      "text/plain": "<folium.folium.Map at 0x7f782f9f5a30>",
      "text/html": "<div style=\"width:100%;\"><div style=\"position:relative;width:100%;height:0;padding-bottom:60%;\"><span style=\"color:#565656\">Make this Notebook Trusted to load map: File -> Trust Notebook</span><iframe srcdoc=\"&lt;!DOCTYPE html&gt;\n&lt;head&gt;    \n    &lt;meta http-equiv=&quot;content-type&quot; content=&quot;text/html; charset=UTF-8&quot; /&gt;\n    \n        &lt;script&gt;\n            L_NO_TOUCH = false;\n            L_DISABLE_3D = false;\n        &lt;/script&gt;\n    \n    &lt;style&gt;html, body {width: 100%;height: 100%;margin: 0;padding: 0;}&lt;/style&gt;\n    &lt;style&gt;#map {position:absolute;top:0;bottom:0;right:0;left:0;}&lt;/style&gt;\n    &lt;script src=&quot;https://cdn.jsdelivr.net/npm/leaflet@1.6.0/dist/leaflet.js&quot;&gt;&lt;/script&gt;\n    &lt;script src=&quot;https://code.jquery.com/jquery-1.12.4.min.js&quot;&gt;&lt;/script&gt;\n    &lt;script src=&quot;https://maxcdn.bootstrapcdn.com/bootstrap/3.2.0/js/bootstrap.min.js&quot;&gt;&lt;/script&gt;\n    &lt;script src=&quot;https://cdnjs.cloudflare.com/ajax/libs/Leaflet.awesome-markers/2.0.2/leaflet.awesome-markers.js&quot;&gt;&lt;/script&gt;\n    &lt;link rel=&quot;stylesheet&quot; href=&quot;https://cdn.jsdelivr.net/npm/leaflet@1.6.0/dist/leaflet.css&quot;/&gt;\n    &lt;link rel=&quot;stylesheet&quot; href=&quot;https://maxcdn.bootstrapcdn.com/bootstrap/3.2.0/css/bootstrap.min.css&quot;/&gt;\n    &lt;link rel=&quot;stylesheet&quot; href=&quot;https://maxcdn.bootstrapcdn.com/bootstrap/3.2.0/css/bootstrap-theme.min.css&quot;/&gt;\n    &lt;link rel=&quot;stylesheet&quot; href=&quot;https://maxcdn.bootstrapcdn.com/font-awesome/4.6.3/css/font-awesome.min.css&quot;/&gt;\n    &lt;link rel=&quot;stylesheet&quot; href=&quot;https://cdnjs.cloudflare.com/ajax/libs/Leaflet.awesome-markers/2.0.2/leaflet.awesome-markers.css&quot;/&gt;\n    &lt;link rel=&quot;stylesheet&quot; href=&quot;https://cdn.jsdelivr.net/gh/python-visualization/folium/folium/templates/leaflet.awesome.rotate.min.css&quot;/&gt;\n    \n            &lt;meta name=&quot;viewport&quot; content=&quot;width=device-width,\n                initial-scale=1.0, maximum-scale=1.0, user-scalable=no&quot; /&gt;\n            &lt;style&gt;\n                #map_c4d7c0e15bf4ba574a819fb59776da28 {\n                    position: relative;\n                    width: 100.0%;\n                    height: 100.0%;\n                    left: 0.0%;\n                    top: 0.0%;\n                }\n            &lt;/style&gt;\n        \n&lt;/head&gt;\n&lt;body&gt;    \n    \n            &lt;div class=&quot;folium-map&quot; id=&quot;map_c4d7c0e15bf4ba574a819fb59776da28&quot; &gt;&lt;/div&gt;\n        \n&lt;/body&gt;\n&lt;script&gt;    \n    \n            var map_c4d7c0e15bf4ba574a819fb59776da28 = L.map(\n                &quot;map_c4d7c0e15bf4ba574a819fb59776da28&quot;,\n                {\n                    center: [29.559684888503615, -95.0830971930759],\n                    crs: L.CRS.EPSG3857,\n                    zoom: 5,\n                    zoomControl: true,\n                    preferCanvas: false,\n                }\n            );\n\n            \n\n        \n    \n            var tile_layer_e19753bcbdf6f95aa0451e307612d5c9 = L.tileLayer(\n                &quot;https://{s}.tile.openstreetmap.org/{z}/{x}/{y}.png&quot;,\n                {&quot;attribution&quot;: &quot;Data by \\u0026copy; \\u003ca href=\\&quot;http://openstreetmap.org\\&quot;\\u003eOpenStreetMap\\u003c/a\\u003e, under \\u003ca href=\\&quot;http://www.openstreetmap.org/copyright\\&quot;\\u003eODbL\\u003c/a\\u003e.&quot;, &quot;detectRetina&quot;: false, &quot;maxNativeZoom&quot;: 18, &quot;maxZoom&quot;: 18, &quot;minZoom&quot;: 0, &quot;noWrap&quot;: false, &quot;opacity&quot;: 1, &quot;subdomains&quot;: &quot;abc&quot;, &quot;tms&quot;: false}\n            ).addTo(map_c4d7c0e15bf4ba574a819fb59776da28);\n        \n    \n            var circle_9a2dd9ba1727e6709304522178b0980f = L.circle(\n                [28.56230197, -80.57735648],\n                {&quot;bubblingMouseEvents&quot;: true, &quot;color&quot;: &quot;#d35400&quot;, &quot;dashArray&quot;: null, &quot;dashOffset&quot;: null, &quot;fill&quot;: true, &quot;fillColor&quot;: &quot;#d35400&quot;, &quot;fillOpacity&quot;: 0.2, &quot;fillRule&quot;: &quot;evenodd&quot;, &quot;lineCap&quot;: &quot;round&quot;, &quot;lineJoin&quot;: &quot;round&quot;, &quot;opacity&quot;: 1.0, &quot;radius&quot;: 1000, &quot;stroke&quot;: true, &quot;weight&quot;: 3}\n            ).addTo(map_c4d7c0e15bf4ba574a819fb59776da28);\n        \n    \n        var popup_edf17813207416af02158b23e180af45 = L.popup({&quot;maxWidth&quot;: &quot;100%&quot;});\n\n        \n            var html_aff7c86cd31f5beb9fb64d4d2e8eb863 = $(`&lt;div id=&quot;html_aff7c86cd31f5beb9fb64d4d2e8eb863&quot; style=&quot;width: 100.0%; height: 100.0%;&quot;&gt;CCAFS LC-40&lt;/div&gt;`)[0];\n            popup_edf17813207416af02158b23e180af45.setContent(html_aff7c86cd31f5beb9fb64d4d2e8eb863);\n        \n\n        circle_9a2dd9ba1727e6709304522178b0980f.bindPopup(popup_edf17813207416af02158b23e180af45)\n        ;\n\n        \n    \n    \n            var marker_85ae247116669446673da0096831ea5e = L.marker(\n                [28.56230197, -80.57735648],\n                {}\n            ).addTo(map_c4d7c0e15bf4ba574a819fb59776da28);\n        \n    \n            var div_icon_ea38d5a9f6abfb2d71b5624327709004 = L.divIcon({&quot;className&quot;: &quot;empty&quot;, &quot;html&quot;: &quot;\\u003cdiv style=\\&quot;font-size: 12; color:#d35400;\\&quot;\\u003e\\u003cb\\u003eCCAFS LC-40\\u003c/b\\u003e\\u003c/div\\u003e&quot;, &quot;iconAnchor&quot;: [0, 0], &quot;iconSize&quot;: [20, 20]});\n            marker_85ae247116669446673da0096831ea5e.setIcon(div_icon_ea38d5a9f6abfb2d71b5624327709004);\n        \n    \n            var circle_dd0a3b3e09afe4d96dd1d0a4ef16322a = L.circle(\n                [28.56319718, -80.57682003],\n                {&quot;bubblingMouseEvents&quot;: true, &quot;color&quot;: &quot;#d35400&quot;, &quot;dashArray&quot;: null, &quot;dashOffset&quot;: null, &quot;fill&quot;: true, &quot;fillColor&quot;: &quot;#d35400&quot;, &quot;fillOpacity&quot;: 0.2, &quot;fillRule&quot;: &quot;evenodd&quot;, &quot;lineCap&quot;: &quot;round&quot;, &quot;lineJoin&quot;: &quot;round&quot;, &quot;opacity&quot;: 1.0, &quot;radius&quot;: 1000, &quot;stroke&quot;: true, &quot;weight&quot;: 3}\n            ).addTo(map_c4d7c0e15bf4ba574a819fb59776da28);\n        \n    \n        var popup_50952ab8f3bd013bea64e4e88464d85c = L.popup({&quot;maxWidth&quot;: &quot;100%&quot;});\n\n        \n            var html_d4a8c8d3101ea921319f9042ed48ea15 = $(`&lt;div id=&quot;html_d4a8c8d3101ea921319f9042ed48ea15&quot; style=&quot;width: 100.0%; height: 100.0%;&quot;&gt;CCAFS SLC-40&lt;/div&gt;`)[0];\n            popup_50952ab8f3bd013bea64e4e88464d85c.setContent(html_d4a8c8d3101ea921319f9042ed48ea15);\n        \n\n        circle_dd0a3b3e09afe4d96dd1d0a4ef16322a.bindPopup(popup_50952ab8f3bd013bea64e4e88464d85c)\n        ;\n\n        \n    \n    \n            var marker_f0e94b3b99e4cf8f18869247d8235d29 = L.marker(\n                [28.56319718, -80.57682003],\n                {}\n            ).addTo(map_c4d7c0e15bf4ba574a819fb59776da28);\n        \n    \n            var div_icon_dff0024387c4275fc334efcdb0a32917 = L.divIcon({&quot;className&quot;: &quot;empty&quot;, &quot;html&quot;: &quot;\\u003cdiv style=\\&quot;font-size: 12; color:#d35400;\\&quot;\\u003e\\u003cb\\u003eCCAFS SLC-40\\u003c/b\\u003e\\u003c/div\\u003e&quot;, &quot;iconAnchor&quot;: [0, 0], &quot;iconSize&quot;: [20, 20]});\n            marker_f0e94b3b99e4cf8f18869247d8235d29.setIcon(div_icon_dff0024387c4275fc334efcdb0a32917);\n        \n    \n            var circle_2a468d07af7f5542792e60df9e4d7609 = L.circle(\n                [28.57325457, -80.64689529],\n                {&quot;bubblingMouseEvents&quot;: true, &quot;color&quot;: &quot;#d35400&quot;, &quot;dashArray&quot;: null, &quot;dashOffset&quot;: null, &quot;fill&quot;: true, &quot;fillColor&quot;: &quot;#d35400&quot;, &quot;fillOpacity&quot;: 0.2, &quot;fillRule&quot;: &quot;evenodd&quot;, &quot;lineCap&quot;: &quot;round&quot;, &quot;lineJoin&quot;: &quot;round&quot;, &quot;opacity&quot;: 1.0, &quot;radius&quot;: 1000, &quot;stroke&quot;: true, &quot;weight&quot;: 3}\n            ).addTo(map_c4d7c0e15bf4ba574a819fb59776da28);\n        \n    \n        var popup_54f24431a77de83ad7bb5cf698df3fc6 = L.popup({&quot;maxWidth&quot;: &quot;100%&quot;});\n\n        \n            var html_a4b3ef64a769feeb6f318488de01af5c = $(`&lt;div id=&quot;html_a4b3ef64a769feeb6f318488de01af5c&quot; style=&quot;width: 100.0%; height: 100.0%;&quot;&gt;KSC LC-39A&lt;/div&gt;`)[0];\n            popup_54f24431a77de83ad7bb5cf698df3fc6.setContent(html_a4b3ef64a769feeb6f318488de01af5c);\n        \n\n        circle_2a468d07af7f5542792e60df9e4d7609.bindPopup(popup_54f24431a77de83ad7bb5cf698df3fc6)\n        ;\n\n        \n    \n    \n            var marker_a5900f72c48ba40a4172f5159db67212 = L.marker(\n                [28.57325457, -80.64689529],\n                {}\n            ).addTo(map_c4d7c0e15bf4ba574a819fb59776da28);\n        \n    \n            var div_icon_577196be5330e6c23d7b7a70a13de1ff = L.divIcon({&quot;className&quot;: &quot;empty&quot;, &quot;html&quot;: &quot;\\u003cdiv style=\\&quot;font-size: 12; color:#d35400;\\&quot;\\u003e\\u003cb\\u003eKSC LC-39A\\u003c/b\\u003e\\u003c/div\\u003e&quot;, &quot;iconAnchor&quot;: [0, 0], &quot;iconSize&quot;: [20, 20]});\n            marker_a5900f72c48ba40a4172f5159db67212.setIcon(div_icon_577196be5330e6c23d7b7a70a13de1ff);\n        \n    \n            var circle_6e26dcd6938361e683e04e248946679f = L.circle(\n                [34.63283416, -120.6107455],\n                {&quot;bubblingMouseEvents&quot;: true, &quot;color&quot;: &quot;#d35400&quot;, &quot;dashArray&quot;: null, &quot;dashOffset&quot;: null, &quot;fill&quot;: true, &quot;fillColor&quot;: &quot;#d35400&quot;, &quot;fillOpacity&quot;: 0.2, &quot;fillRule&quot;: &quot;evenodd&quot;, &quot;lineCap&quot;: &quot;round&quot;, &quot;lineJoin&quot;: &quot;round&quot;, &quot;opacity&quot;: 1.0, &quot;radius&quot;: 1000, &quot;stroke&quot;: true, &quot;weight&quot;: 3}\n            ).addTo(map_c4d7c0e15bf4ba574a819fb59776da28);\n        \n    \n        var popup_edc27e7218e38a401f33306be09f86eb = L.popup({&quot;maxWidth&quot;: &quot;100%&quot;});\n\n        \n            var html_1984e07ce01affc7f972fe1397b2f814 = $(`&lt;div id=&quot;html_1984e07ce01affc7f972fe1397b2f814&quot; style=&quot;width: 100.0%; height: 100.0%;&quot;&gt;VAFB SLC-4E&lt;/div&gt;`)[0];\n            popup_edc27e7218e38a401f33306be09f86eb.setContent(html_1984e07ce01affc7f972fe1397b2f814);\n        \n\n        circle_6e26dcd6938361e683e04e248946679f.bindPopup(popup_edc27e7218e38a401f33306be09f86eb)\n        ;\n\n        \n    \n    \n            var marker_23e288a134a2f053236a32cde9c8df58 = L.marker(\n                [34.63283416, -120.6107455],\n                {}\n            ).addTo(map_c4d7c0e15bf4ba574a819fb59776da28);\n        \n    \n            var div_icon_85fe4e94abaf612357beb3255df5d9a5 = L.divIcon({&quot;className&quot;: &quot;empty&quot;, &quot;html&quot;: &quot;\\u003cdiv style=\\&quot;font-size: 12; color:#d35400;\\&quot;\\u003e\\u003cb\\u003eVAFB SLC-4E\\u003c/b\\u003e\\u003c/div\\u003e&quot;, &quot;iconAnchor&quot;: [0, 0], &quot;iconSize&quot;: [20, 20]});\n            marker_23e288a134a2f053236a32cde9c8df58.setIcon(div_icon_85fe4e94abaf612357beb3255df5d9a5);\n        \n&lt;/script&gt;\" style=\"position:absolute;width:100%;height:100%;left:0;top:0;border:none !important;\" allowfullscreen webkitallowfullscreen mozallowfullscreen></iframe></div></div>"
     },
     "metadata": {}
    }
   ]
  },
  {
   "cell_type": "markdown",
   "source": "The generated map with marked launch sites should look similar to the following:\n",
   "metadata": {
    "cell_id": "00032-a1821b11-67b7-444e-b9ce-933eb4fa0baf",
    "deepnote_cell_type": "markdown",
    "deepnote_cell_height": 52.390625
   }
  },
  {
   "cell_type": "markdown",
   "source": "<center>\n    <img src=\"https://cf-courses-data.s3.us.cloud-object-storage.appdomain.cloud/IBM-DS0321EN-SkillsNetwork/labs/module_3/images/launch_site_markers.png\" />\n</center>\n",
   "metadata": {
    "cell_id": "00033-870ba080-b644-4143-bd6e-763d7ccaa3e8",
    "deepnote_cell_type": "markdown",
    "deepnote_cell_height": 474.53125
   }
  },
  {
   "cell_type": "markdown",
   "source": "Now, you can explore the map by zoom-in/out the marked areas\n, and try to answer the following questions:\n\n*   Are all launch sites in proximity to the Equator line?\n*   Are all launch sites in very close proximity to the coast?\n\nAlso please try to explain your findings.\n",
   "metadata": {
    "cell_id": "00034-faaa1475-81c1-4382-8013-f8f21777e3c2",
    "deepnote_cell_type": "markdown",
    "deepnote_cell_height": 150.59375
   }
  },
  {
   "cell_type": "markdown",
   "source": "# Task 2: Mark the success/failed launches for each site on the map\n",
   "metadata": {
    "cell_id": "00035-377ad45d-8e81-4e85-8fc9-a6185ac23cf9",
    "deepnote_cell_type": "markdown",
    "deepnote_cell_height": 134
   }
  },
  {
   "cell_type": "markdown",
   "source": "Next, let's try to enhance the map by adding the launch outcomes for each site, and see which sites have high success rates.\nRecall that data frame spacex_df has detailed launch records, and the `class` column indicates if this launch was successful or not\n",
   "metadata": {
    "cell_id": "00036-7bae10f4-bda3-4358-a1ec-f897c8a2add2",
    "deepnote_cell_type": "markdown",
    "deepnote_cell_height": 97.1875
   }
  },
  {
   "cell_type": "code",
   "metadata": {
    "cell_id": "00037-5c7ddb11-3426-49eb-ae9a-e5911a727508",
    "deepnote_to_be_reexecuted": false,
    "source_hash": "413759f",
    "execution_start": 1656567337285,
    "execution_millis": 30,
    "deepnote_cell_type": "code",
    "deepnote_cell_height": 600
   },
   "source": "spacex_df.tail(10)",
   "execution_count": 9,
   "outputs": [
    {
     "output_type": "execute_result",
     "execution_count": 9,
     "data": {
      "application/vnd.deepnote.dataframe.v3+json": {
       "column_count": 4,
       "row_count": 10,
       "columns": [
        {
         "name": "Launch Site",
         "dtype": "object",
         "stats": {
          "unique_count": 2,
          "nan_count": 0,
          "categories": [
           {
            "name": "CCAFS SLC-40",
            "count": 7
           },
           {
            "name": "KSC LC-39A",
            "count": 3
           }
          ]
         }
        },
        {
         "name": "Lat",
         "dtype": "float64",
         "stats": {
          "unique_count": 2,
          "nan_count": 0,
          "min": "28.56319718",
          "max": "28.57325457",
          "histogram": [
           {
            "bin_start": 28.56319718,
            "bin_end": 28.564202919,
            "count": 7
           },
           {
            "bin_start": 28.564202919,
            "bin_end": 28.565208658,
            "count": 0
           },
           {
            "bin_start": 28.565208658,
            "bin_end": 28.566214397,
            "count": 0
           },
           {
            "bin_start": 28.566214397,
            "bin_end": 28.567220136,
            "count": 0
           },
           {
            "bin_start": 28.567220136,
            "bin_end": 28.568225875,
            "count": 0
           },
           {
            "bin_start": 28.568225875,
            "bin_end": 28.569231614,
            "count": 0
           },
           {
            "bin_start": 28.569231614,
            "bin_end": 28.570237353,
            "count": 0
           },
           {
            "bin_start": 28.570237353,
            "bin_end": 28.571243092,
            "count": 0
           },
           {
            "bin_start": 28.571243092,
            "bin_end": 28.572248831,
            "count": 0
           },
           {
            "bin_start": 28.572248831,
            "bin_end": 28.57325457,
            "count": 3
           }
          ]
         }
        },
        {
         "name": "Long",
         "dtype": "float64",
         "stats": {
          "unique_count": 2,
          "nan_count": 0,
          "min": "-80.64689529",
          "max": "-80.57682003",
          "histogram": [
           {
            "bin_start": -80.64689529,
            "bin_end": -80.63988776400001,
            "count": 3
           },
           {
            "bin_start": -80.63988776400001,
            "bin_end": -80.632880238,
            "count": 0
           },
           {
            "bin_start": -80.632880238,
            "bin_end": -80.625872712,
            "count": 0
           },
           {
            "bin_start": -80.625872712,
            "bin_end": -80.618865186,
            "count": 0
           },
           {
            "bin_start": -80.618865186,
            "bin_end": -80.61185766,
            "count": 0
           },
           {
            "bin_start": -80.61185766,
            "bin_end": -80.604850134,
            "count": 0
           },
           {
            "bin_start": -80.604850134,
            "bin_end": -80.597842608,
            "count": 0
           },
           {
            "bin_start": -80.597842608,
            "bin_end": -80.590835082,
            "count": 0
           },
           {
            "bin_start": -80.590835082,
            "bin_end": -80.58382755599999,
            "count": 0
           },
           {
            "bin_start": -80.58382755599999,
            "bin_end": -80.57682003,
            "count": 7
           }
          ]
         }
        },
        {
         "name": "class",
         "dtype": "int64",
         "stats": {
          "unique_count": 2,
          "nan_count": 0,
          "min": "0",
          "max": "1",
          "histogram": [
           {
            "bin_start": 0,
            "bin_end": 0.1,
            "count": 4
           },
           {
            "bin_start": 0.1,
            "bin_end": 0.2,
            "count": 0
           },
           {
            "bin_start": 0.2,
            "bin_end": 0.30000000000000004,
            "count": 0
           },
           {
            "bin_start": 0.30000000000000004,
            "bin_end": 0.4,
            "count": 0
           },
           {
            "bin_start": 0.4,
            "bin_end": 0.5,
            "count": 0
           },
           {
            "bin_start": 0.5,
            "bin_end": 0.6000000000000001,
            "count": 0
           },
           {
            "bin_start": 0.6000000000000001,
            "bin_end": 0.7000000000000001,
            "count": 0
           },
           {
            "bin_start": 0.7000000000000001,
            "bin_end": 0.8,
            "count": 0
           },
           {
            "bin_start": 0.8,
            "bin_end": 0.9,
            "count": 0
           },
           {
            "bin_start": 0.9,
            "bin_end": 1,
            "count": 6
           }
          ]
         }
        },
        {
         "name": "_deepnote_index_column",
         "dtype": "int64"
        }
       ],
       "rows": [
        {
         "Launch Site": "KSC LC-39A",
         "Lat": 28.57325457,
         "Long": -80.64689529,
         "class": 1,
         "_deepnote_index_column": 46
        },
        {
         "Launch Site": "KSC LC-39A",
         "Lat": 28.57325457,
         "Long": -80.64689529,
         "class": 1,
         "_deepnote_index_column": 47
        },
        {
         "Launch Site": "KSC LC-39A",
         "Lat": 28.57325457,
         "Long": -80.64689529,
         "class": 1,
         "_deepnote_index_column": 48
        },
        {
         "Launch Site": "CCAFS SLC-40",
         "Lat": 28.56319718,
         "Long": -80.57682003,
         "class": 1,
         "_deepnote_index_column": 49
        },
        {
         "Launch Site": "CCAFS SLC-40",
         "Lat": 28.56319718,
         "Long": -80.57682003,
         "class": 1,
         "_deepnote_index_column": 50
        },
        {
         "Launch Site": "CCAFS SLC-40",
         "Lat": 28.56319718,
         "Long": -80.57682003,
         "class": 0,
         "_deepnote_index_column": 51
        },
        {
         "Launch Site": "CCAFS SLC-40",
         "Lat": 28.56319718,
         "Long": -80.57682003,
         "class": 0,
         "_deepnote_index_column": 52
        },
        {
         "Launch Site": "CCAFS SLC-40",
         "Lat": 28.56319718,
         "Long": -80.57682003,
         "class": 0,
         "_deepnote_index_column": 53
        },
        {
         "Launch Site": "CCAFS SLC-40",
         "Lat": 28.56319718,
         "Long": -80.57682003,
         "class": 1,
         "_deepnote_index_column": 54
        },
        {
         "Launch Site": "CCAFS SLC-40",
         "Lat": 28.56319718,
         "Long": -80.57682003,
         "class": 0,
         "_deepnote_index_column": 55
        }
       ]
      },
      "text/plain": "     Launch Site        Lat       Long  class\n46    KSC LC-39A  28.573255 -80.646895      1\n47    KSC LC-39A  28.573255 -80.646895      1\n48    KSC LC-39A  28.573255 -80.646895      1\n49  CCAFS SLC-40  28.563197 -80.576820      1\n50  CCAFS SLC-40  28.563197 -80.576820      1\n51  CCAFS SLC-40  28.563197 -80.576820      0\n52  CCAFS SLC-40  28.563197 -80.576820      0\n53  CCAFS SLC-40  28.563197 -80.576820      0\n54  CCAFS SLC-40  28.563197 -80.576820      1\n55  CCAFS SLC-40  28.563197 -80.576820      0",
      "text/html": "<div>\n<style scoped>\n    .dataframe tbody tr th:only-of-type {\n        vertical-align: middle;\n    }\n\n    .dataframe tbody tr th {\n        vertical-align: top;\n    }\n\n    .dataframe thead th {\n        text-align: right;\n    }\n</style>\n<table border=\"1\" class=\"dataframe\">\n  <thead>\n    <tr style=\"text-align: right;\">\n      <th></th>\n      <th>Launch Site</th>\n      <th>Lat</th>\n      <th>Long</th>\n      <th>class</th>\n    </tr>\n  </thead>\n  <tbody>\n    <tr>\n      <th>46</th>\n      <td>KSC LC-39A</td>\n      <td>28.573255</td>\n      <td>-80.646895</td>\n      <td>1</td>\n    </tr>\n    <tr>\n      <th>47</th>\n      <td>KSC LC-39A</td>\n      <td>28.573255</td>\n      <td>-80.646895</td>\n      <td>1</td>\n    </tr>\n    <tr>\n      <th>48</th>\n      <td>KSC LC-39A</td>\n      <td>28.573255</td>\n      <td>-80.646895</td>\n      <td>1</td>\n    </tr>\n    <tr>\n      <th>49</th>\n      <td>CCAFS SLC-40</td>\n      <td>28.563197</td>\n      <td>-80.576820</td>\n      <td>1</td>\n    </tr>\n    <tr>\n      <th>50</th>\n      <td>CCAFS SLC-40</td>\n      <td>28.563197</td>\n      <td>-80.576820</td>\n      <td>1</td>\n    </tr>\n    <tr>\n      <th>51</th>\n      <td>CCAFS SLC-40</td>\n      <td>28.563197</td>\n      <td>-80.576820</td>\n      <td>0</td>\n    </tr>\n    <tr>\n      <th>52</th>\n      <td>CCAFS SLC-40</td>\n      <td>28.563197</td>\n      <td>-80.576820</td>\n      <td>0</td>\n    </tr>\n    <tr>\n      <th>53</th>\n      <td>CCAFS SLC-40</td>\n      <td>28.563197</td>\n      <td>-80.576820</td>\n      <td>0</td>\n    </tr>\n    <tr>\n      <th>54</th>\n      <td>CCAFS SLC-40</td>\n      <td>28.563197</td>\n      <td>-80.576820</td>\n      <td>1</td>\n    </tr>\n    <tr>\n      <th>55</th>\n      <td>CCAFS SLC-40</td>\n      <td>28.563197</td>\n      <td>-80.576820</td>\n      <td>0</td>\n    </tr>\n  </tbody>\n</table>\n</div>"
     },
     "metadata": {}
    }
   ]
  },
  {
   "cell_type": "markdown",
   "source": "Next, let's create markers for all launch records.\nIf a launch was successful `(class=1)`, then we use a green marker and if a launch was failed, we use a red marker `(class=0)`\n",
   "metadata": {
    "cell_id": "00038-15db3888-c875-45f9-b40c-87209b4baf12",
    "deepnote_cell_type": "markdown",
    "deepnote_cell_height": 74.796875
   }
  },
  {
   "cell_type": "markdown",
   "source": "Note that a launch only happens in one of the four launch sites, which means many launch records will have the exact same coordinate. Marker clusters can be a good way to simplify a map containing many markers having the same coordinate.\n",
   "metadata": {
    "cell_id": "00039-1c8d1e71-8963-46ee-ae69-8d1e40103027",
    "deepnote_cell_type": "markdown",
    "deepnote_cell_height": 97.1875
   }
  },
  {
   "cell_type": "markdown",
   "source": "Let's first create a `MarkerCluster` object\n",
   "metadata": {
    "cell_id": "00040-7a85d300-f226-4ee3-b553-1a4c8643817f",
    "deepnote_cell_type": "markdown",
    "deepnote_cell_height": 52.390625
   }
  },
  {
   "cell_type": "code",
   "metadata": {
    "id": "wP9PVUZ7Jfjt",
    "outputId": "6a3b8164-940c-4b93-9f3d-c655c4a0c683",
    "papermill": {
     "duration": 0.904519,
     "end_time": "2020-09-19T06:27:38.357041",
     "exception": false,
     "start_time": "2020-09-19T06:27:37.452522",
     "status": "completed"
    },
    "tags": [],
    "cell_id": "00041-4137f44f-d5e4-4fe8-b2b4-d52913af967b",
    "deepnote_to_be_reexecuted": false,
    "source_hash": "d0819922",
    "execution_start": 1656567337363,
    "execution_millis": 0,
    "deepnote_cell_type": "code",
    "deepnote_cell_height": 99
   },
   "source": "marker_cluster = MarkerCluster()\n",
   "execution_count": 10,
   "outputs": []
  },
  {
   "cell_type": "markdown",
   "source": "*TODO:* Create a new column in `launch_sites` dataframe called `marker_color` to store the marker colors based on the `class` value\n",
   "metadata": {
    "cell_id": "00042-e119c23c-b37f-46e2-bfe2-47ab41ec26d2",
    "deepnote_cell_type": "markdown",
    "deepnote_cell_height": 74.796875
   }
  },
  {
   "cell_type": "code",
   "metadata": {
    "cell_id": "00043-810d39db-15ee-431b-9b00-cabeec7f5b58",
    "deepnote_to_be_reexecuted": false,
    "source_hash": "dbd91eaf",
    "execution_start": 1656567337364,
    "execution_millis": 851867189,
    "deepnote_cell_type": "code",
    "deepnote_cell_height": 135
   },
   "source": "\n# Apply a function to check the value of `class` column\n# If class=1, marker_color value will be green\n# If class=0, marker_color value will be red",
   "execution_count": 11,
   "outputs": []
  },
  {
   "cell_type": "code",
   "metadata": {
    "cell_id": "00044-52a1aebe-514c-47bd-910e-7b204f4b7d5d",
    "deepnote_to_be_reexecuted": false,
    "source_hash": "8a2fc9d7",
    "execution_start": 1656567337401,
    "execution_millis": 4,
    "deepnote_cell_type": "code",
    "deepnote_cell_height": 744
   },
   "source": "# Function to assign color to launch outcome\ndef assign_marker_color(launch_outcome):\n    if launch_outcome == 1:\n        return 'green'\n    else:\n        return 'red'\n    \nspacex_df['marker_color'] = spacex_df['class'].apply(assign_marker_color)\nspacex_df.tail(10)",
   "execution_count": 12,
   "outputs": [
    {
     "output_type": "execute_result",
     "execution_count": 12,
     "data": {
      "application/vnd.deepnote.dataframe.v3+json": {
       "column_count": 5,
       "row_count": 10,
       "columns": [
        {
         "name": "Launch Site",
         "dtype": "object",
         "stats": {
          "unique_count": 2,
          "nan_count": 0,
          "categories": [
           {
            "name": "CCAFS SLC-40",
            "count": 7
           },
           {
            "name": "KSC LC-39A",
            "count": 3
           }
          ]
         }
        },
        {
         "name": "Lat",
         "dtype": "float64",
         "stats": {
          "unique_count": 2,
          "nan_count": 0,
          "min": "28.56319718",
          "max": "28.57325457",
          "histogram": [
           {
            "bin_start": 28.56319718,
            "bin_end": 28.564202919,
            "count": 7
           },
           {
            "bin_start": 28.564202919,
            "bin_end": 28.565208658,
            "count": 0
           },
           {
            "bin_start": 28.565208658,
            "bin_end": 28.566214397,
            "count": 0
           },
           {
            "bin_start": 28.566214397,
            "bin_end": 28.567220136,
            "count": 0
           },
           {
            "bin_start": 28.567220136,
            "bin_end": 28.568225875,
            "count": 0
           },
           {
            "bin_start": 28.568225875,
            "bin_end": 28.569231614,
            "count": 0
           },
           {
            "bin_start": 28.569231614,
            "bin_end": 28.570237353,
            "count": 0
           },
           {
            "bin_start": 28.570237353,
            "bin_end": 28.571243092,
            "count": 0
           },
           {
            "bin_start": 28.571243092,
            "bin_end": 28.572248831,
            "count": 0
           },
           {
            "bin_start": 28.572248831,
            "bin_end": 28.57325457,
            "count": 3
           }
          ]
         }
        },
        {
         "name": "Long",
         "dtype": "float64",
         "stats": {
          "unique_count": 2,
          "nan_count": 0,
          "min": "-80.64689529",
          "max": "-80.57682003",
          "histogram": [
           {
            "bin_start": -80.64689529,
            "bin_end": -80.63988776400001,
            "count": 3
           },
           {
            "bin_start": -80.63988776400001,
            "bin_end": -80.632880238,
            "count": 0
           },
           {
            "bin_start": -80.632880238,
            "bin_end": -80.625872712,
            "count": 0
           },
           {
            "bin_start": -80.625872712,
            "bin_end": -80.618865186,
            "count": 0
           },
           {
            "bin_start": -80.618865186,
            "bin_end": -80.61185766,
            "count": 0
           },
           {
            "bin_start": -80.61185766,
            "bin_end": -80.604850134,
            "count": 0
           },
           {
            "bin_start": -80.604850134,
            "bin_end": -80.597842608,
            "count": 0
           },
           {
            "bin_start": -80.597842608,
            "bin_end": -80.590835082,
            "count": 0
           },
           {
            "bin_start": -80.590835082,
            "bin_end": -80.58382755599999,
            "count": 0
           },
           {
            "bin_start": -80.58382755599999,
            "bin_end": -80.57682003,
            "count": 7
           }
          ]
         }
        },
        {
         "name": "class",
         "dtype": "int64",
         "stats": {
          "unique_count": 2,
          "nan_count": 0,
          "min": "0",
          "max": "1",
          "histogram": [
           {
            "bin_start": 0,
            "bin_end": 0.1,
            "count": 4
           },
           {
            "bin_start": 0.1,
            "bin_end": 0.2,
            "count": 0
           },
           {
            "bin_start": 0.2,
            "bin_end": 0.30000000000000004,
            "count": 0
           },
           {
            "bin_start": 0.30000000000000004,
            "bin_end": 0.4,
            "count": 0
           },
           {
            "bin_start": 0.4,
            "bin_end": 0.5,
            "count": 0
           },
           {
            "bin_start": 0.5,
            "bin_end": 0.6000000000000001,
            "count": 0
           },
           {
            "bin_start": 0.6000000000000001,
            "bin_end": 0.7000000000000001,
            "count": 0
           },
           {
            "bin_start": 0.7000000000000001,
            "bin_end": 0.8,
            "count": 0
           },
           {
            "bin_start": 0.8,
            "bin_end": 0.9,
            "count": 0
           },
           {
            "bin_start": 0.9,
            "bin_end": 1,
            "count": 6
           }
          ]
         }
        },
        {
         "name": "marker_color",
         "dtype": "object",
         "stats": {
          "unique_count": 2,
          "nan_count": 0,
          "categories": [
           {
            "name": "green",
            "count": 6
           },
           {
            "name": "red",
            "count": 4
           }
          ]
         }
        },
        {
         "name": "_deepnote_index_column",
         "dtype": "int64"
        }
       ],
       "rows": [
        {
         "Launch Site": "KSC LC-39A",
         "Lat": 28.57325457,
         "Long": -80.64689529,
         "class": 1,
         "marker_color": "green",
         "_deepnote_index_column": 46
        },
        {
         "Launch Site": "KSC LC-39A",
         "Lat": 28.57325457,
         "Long": -80.64689529,
         "class": 1,
         "marker_color": "green",
         "_deepnote_index_column": 47
        },
        {
         "Launch Site": "KSC LC-39A",
         "Lat": 28.57325457,
         "Long": -80.64689529,
         "class": 1,
         "marker_color": "green",
         "_deepnote_index_column": 48
        },
        {
         "Launch Site": "CCAFS SLC-40",
         "Lat": 28.56319718,
         "Long": -80.57682003,
         "class": 1,
         "marker_color": "green",
         "_deepnote_index_column": 49
        },
        {
         "Launch Site": "CCAFS SLC-40",
         "Lat": 28.56319718,
         "Long": -80.57682003,
         "class": 1,
         "marker_color": "green",
         "_deepnote_index_column": 50
        },
        {
         "Launch Site": "CCAFS SLC-40",
         "Lat": 28.56319718,
         "Long": -80.57682003,
         "class": 0,
         "marker_color": "red",
         "_deepnote_index_column": 51
        },
        {
         "Launch Site": "CCAFS SLC-40",
         "Lat": 28.56319718,
         "Long": -80.57682003,
         "class": 0,
         "marker_color": "red",
         "_deepnote_index_column": 52
        },
        {
         "Launch Site": "CCAFS SLC-40",
         "Lat": 28.56319718,
         "Long": -80.57682003,
         "class": 0,
         "marker_color": "red",
         "_deepnote_index_column": 53
        },
        {
         "Launch Site": "CCAFS SLC-40",
         "Lat": 28.56319718,
         "Long": -80.57682003,
         "class": 1,
         "marker_color": "green",
         "_deepnote_index_column": 54
        },
        {
         "Launch Site": "CCAFS SLC-40",
         "Lat": 28.56319718,
         "Long": -80.57682003,
         "class": 0,
         "marker_color": "red",
         "_deepnote_index_column": 55
        }
       ]
      },
      "text/plain": "     Launch Site        Lat       Long  class marker_color\n46    KSC LC-39A  28.573255 -80.646895      1        green\n47    KSC LC-39A  28.573255 -80.646895      1        green\n48    KSC LC-39A  28.573255 -80.646895      1        green\n49  CCAFS SLC-40  28.563197 -80.576820      1        green\n50  CCAFS SLC-40  28.563197 -80.576820      1        green\n51  CCAFS SLC-40  28.563197 -80.576820      0          red\n52  CCAFS SLC-40  28.563197 -80.576820      0          red\n53  CCAFS SLC-40  28.563197 -80.576820      0          red\n54  CCAFS SLC-40  28.563197 -80.576820      1        green\n55  CCAFS SLC-40  28.563197 -80.576820      0          red",
      "text/html": "<div>\n<style scoped>\n    .dataframe tbody tr th:only-of-type {\n        vertical-align: middle;\n    }\n\n    .dataframe tbody tr th {\n        vertical-align: top;\n    }\n\n    .dataframe thead th {\n        text-align: right;\n    }\n</style>\n<table border=\"1\" class=\"dataframe\">\n  <thead>\n    <tr style=\"text-align: right;\">\n      <th></th>\n      <th>Launch Site</th>\n      <th>Lat</th>\n      <th>Long</th>\n      <th>class</th>\n      <th>marker_color</th>\n    </tr>\n  </thead>\n  <tbody>\n    <tr>\n      <th>46</th>\n      <td>KSC LC-39A</td>\n      <td>28.573255</td>\n      <td>-80.646895</td>\n      <td>1</td>\n      <td>green</td>\n    </tr>\n    <tr>\n      <th>47</th>\n      <td>KSC LC-39A</td>\n      <td>28.573255</td>\n      <td>-80.646895</td>\n      <td>1</td>\n      <td>green</td>\n    </tr>\n    <tr>\n      <th>48</th>\n      <td>KSC LC-39A</td>\n      <td>28.573255</td>\n      <td>-80.646895</td>\n      <td>1</td>\n      <td>green</td>\n    </tr>\n    <tr>\n      <th>49</th>\n      <td>CCAFS SLC-40</td>\n      <td>28.563197</td>\n      <td>-80.576820</td>\n      <td>1</td>\n      <td>green</td>\n    </tr>\n    <tr>\n      <th>50</th>\n      <td>CCAFS SLC-40</td>\n      <td>28.563197</td>\n      <td>-80.576820</td>\n      <td>1</td>\n      <td>green</td>\n    </tr>\n    <tr>\n      <th>51</th>\n      <td>CCAFS SLC-40</td>\n      <td>28.563197</td>\n      <td>-80.576820</td>\n      <td>0</td>\n      <td>red</td>\n    </tr>\n    <tr>\n      <th>52</th>\n      <td>CCAFS SLC-40</td>\n      <td>28.563197</td>\n      <td>-80.576820</td>\n      <td>0</td>\n      <td>red</td>\n    </tr>\n    <tr>\n      <th>53</th>\n      <td>CCAFS SLC-40</td>\n      <td>28.563197</td>\n      <td>-80.576820</td>\n      <td>0</td>\n      <td>red</td>\n    </tr>\n    <tr>\n      <th>54</th>\n      <td>CCAFS SLC-40</td>\n      <td>28.563197</td>\n      <td>-80.576820</td>\n      <td>1</td>\n      <td>green</td>\n    </tr>\n    <tr>\n      <th>55</th>\n      <td>CCAFS SLC-40</td>\n      <td>28.563197</td>\n      <td>-80.576820</td>\n      <td>0</td>\n      <td>red</td>\n    </tr>\n  </tbody>\n</table>\n</div>"
     },
     "metadata": {}
    }
   ]
  },
  {
   "cell_type": "markdown",
   "source": "*TODO:* For each launch result in `spacex_df` data frame, add a `folium.Marker` to `marker_cluster`\n",
   "metadata": {
    "cell_id": "00045-6de8db59-89cf-4567-b8b8-8f9ff298ce92",
    "deepnote_cell_type": "markdown",
    "deepnote_cell_height": 52.390625
   }
  },
  {
   "cell_type": "code",
   "metadata": {
    "cell_id": "00046-1bdb5e78-8b67-4118-af45-c03b8e777030",
    "deepnote_to_be_reexecuted": false,
    "source_hash": "57505400",
    "execution_start": 1656567337462,
    "execution_millis": 128,
    "deepnote_cell_type": "code",
    "deepnote_cell_height": 829.1875,
    "deepnote_output_heights": [
     480.1875
    ]
   },
   "source": "# Add marker_cluster to current site_map\nsite_map.add_child(marker_cluster)\n\n# for each row in spacex_df data frame\n# create a Marker object with its coordinate\n# and customize the Marker's icon property to indicate if this launch was successed or failed, \n# e.g., icon=folium.Icon(color='white', icon_color=row['marker_color']\nfor index, record in spacex_df.iterrows():\n    # TODO: Create and add a Marker cluster to the site map\n    # marker = folium.Marker(...)\n    marker = folium.Marker([record['Lat'],record['Long']],\n                       icon=folium.Icon(color='white', icon_color=record['marker_color']))\n    marker_cluster.add_child(marker)\n\nsite_map",
   "execution_count": 13,
   "outputs": [
    {
     "output_type": "execute_result",
     "execution_count": 13,
     "data": {
      "text/plain": "<folium.folium.Map at 0x7f782f9f5a30>",
      "text/html": "<div style=\"width:100%;\"><div style=\"position:relative;width:100%;height:0;padding-bottom:60%;\"><span style=\"color:#565656\">Make this Notebook Trusted to load map: File -> Trust Notebook</span><iframe srcdoc=\"&lt;!DOCTYPE html&gt;\n&lt;head&gt;    \n    &lt;meta http-equiv=&quot;content-type&quot; content=&quot;text/html; charset=UTF-8&quot; /&gt;\n    \n        &lt;script&gt;\n            L_NO_TOUCH = false;\n            L_DISABLE_3D = false;\n        &lt;/script&gt;\n    \n    &lt;style&gt;html, body {width: 100%;height: 100%;margin: 0;padding: 0;}&lt;/style&gt;\n    &lt;style&gt;#map {position:absolute;top:0;bottom:0;right:0;left:0;}&lt;/style&gt;\n    &lt;script src=&quot;https://cdn.jsdelivr.net/npm/leaflet@1.6.0/dist/leaflet.js&quot;&gt;&lt;/script&gt;\n    &lt;script src=&quot;https://code.jquery.com/jquery-1.12.4.min.js&quot;&gt;&lt;/script&gt;\n    &lt;script src=&quot;https://maxcdn.bootstrapcdn.com/bootstrap/3.2.0/js/bootstrap.min.js&quot;&gt;&lt;/script&gt;\n    &lt;script src=&quot;https://cdnjs.cloudflare.com/ajax/libs/Leaflet.awesome-markers/2.0.2/leaflet.awesome-markers.js&quot;&gt;&lt;/script&gt;\n    &lt;link rel=&quot;stylesheet&quot; href=&quot;https://cdn.jsdelivr.net/npm/leaflet@1.6.0/dist/leaflet.css&quot;/&gt;\n    &lt;link rel=&quot;stylesheet&quot; href=&quot;https://maxcdn.bootstrapcdn.com/bootstrap/3.2.0/css/bootstrap.min.css&quot;/&gt;\n    &lt;link rel=&quot;stylesheet&quot; href=&quot;https://maxcdn.bootstrapcdn.com/bootstrap/3.2.0/css/bootstrap-theme.min.css&quot;/&gt;\n    &lt;link rel=&quot;stylesheet&quot; href=&quot;https://maxcdn.bootstrapcdn.com/font-awesome/4.6.3/css/font-awesome.min.css&quot;/&gt;\n    &lt;link rel=&quot;stylesheet&quot; href=&quot;https://cdnjs.cloudflare.com/ajax/libs/Leaflet.awesome-markers/2.0.2/leaflet.awesome-markers.css&quot;/&gt;\n    &lt;link rel=&quot;stylesheet&quot; href=&quot;https://cdn.jsdelivr.net/gh/python-visualization/folium/folium/templates/leaflet.awesome.rotate.min.css&quot;/&gt;\n    \n            &lt;meta name=&quot;viewport&quot; content=&quot;width=device-width,\n                initial-scale=1.0, maximum-scale=1.0, user-scalable=no&quot; /&gt;\n            &lt;style&gt;\n                #map_c4d7c0e15bf4ba574a819fb59776da28 {\n                    position: relative;\n                    width: 100.0%;\n                    height: 100.0%;\n                    left: 0.0%;\n                    top: 0.0%;\n                }\n            &lt;/style&gt;\n        \n    &lt;script src=&quot;https://cdnjs.cloudflare.com/ajax/libs/leaflet.markercluster/1.1.0/leaflet.markercluster.js&quot;&gt;&lt;/script&gt;\n    &lt;link rel=&quot;stylesheet&quot; href=&quot;https://cdnjs.cloudflare.com/ajax/libs/leaflet.markercluster/1.1.0/MarkerCluster.css&quot;/&gt;\n    &lt;link rel=&quot;stylesheet&quot; href=&quot;https://cdnjs.cloudflare.com/ajax/libs/leaflet.markercluster/1.1.0/MarkerCluster.Default.css&quot;/&gt;\n&lt;/head&gt;\n&lt;body&gt;    \n    \n            &lt;div class=&quot;folium-map&quot; id=&quot;map_c4d7c0e15bf4ba574a819fb59776da28&quot; &gt;&lt;/div&gt;\n        \n&lt;/body&gt;\n&lt;script&gt;    \n    \n            var map_c4d7c0e15bf4ba574a819fb59776da28 = L.map(\n                &quot;map_c4d7c0e15bf4ba574a819fb59776da28&quot;,\n                {\n                    center: [29.559684888503615, -95.0830971930759],\n                    crs: L.CRS.EPSG3857,\n                    zoom: 5,\n                    zoomControl: true,\n                    preferCanvas: false,\n                }\n            );\n\n            \n\n        \n    \n            var tile_layer_e19753bcbdf6f95aa0451e307612d5c9 = L.tileLayer(\n                &quot;https://{s}.tile.openstreetmap.org/{z}/{x}/{y}.png&quot;,\n                {&quot;attribution&quot;: &quot;Data by \\u0026copy; \\u003ca href=\\&quot;http://openstreetmap.org\\&quot;\\u003eOpenStreetMap\\u003c/a\\u003e, under \\u003ca href=\\&quot;http://www.openstreetmap.org/copyright\\&quot;\\u003eODbL\\u003c/a\\u003e.&quot;, &quot;detectRetina&quot;: false, &quot;maxNativeZoom&quot;: 18, &quot;maxZoom&quot;: 18, &quot;minZoom&quot;: 0, &quot;noWrap&quot;: false, &quot;opacity&quot;: 1, &quot;subdomains&quot;: &quot;abc&quot;, &quot;tms&quot;: false}\n            ).addTo(map_c4d7c0e15bf4ba574a819fb59776da28);\n        \n    \n            var circle_9a2dd9ba1727e6709304522178b0980f = L.circle(\n                [28.56230197, -80.57735648],\n                {&quot;bubblingMouseEvents&quot;: true, &quot;color&quot;: &quot;#d35400&quot;, &quot;dashArray&quot;: null, &quot;dashOffset&quot;: null, &quot;fill&quot;: true, &quot;fillColor&quot;: &quot;#d35400&quot;, &quot;fillOpacity&quot;: 0.2, &quot;fillRule&quot;: &quot;evenodd&quot;, &quot;lineCap&quot;: &quot;round&quot;, &quot;lineJoin&quot;: &quot;round&quot;, &quot;opacity&quot;: 1.0, &quot;radius&quot;: 1000, &quot;stroke&quot;: true, &quot;weight&quot;: 3}\n            ).addTo(map_c4d7c0e15bf4ba574a819fb59776da28);\n        \n    \n        var popup_edf17813207416af02158b23e180af45 = L.popup({&quot;maxWidth&quot;: &quot;100%&quot;});\n\n        \n            var html_aff7c86cd31f5beb9fb64d4d2e8eb863 = $(`&lt;div id=&quot;html_aff7c86cd31f5beb9fb64d4d2e8eb863&quot; style=&quot;width: 100.0%; height: 100.0%;&quot;&gt;CCAFS LC-40&lt;/div&gt;`)[0];\n            popup_edf17813207416af02158b23e180af45.setContent(html_aff7c86cd31f5beb9fb64d4d2e8eb863);\n        \n\n        circle_9a2dd9ba1727e6709304522178b0980f.bindPopup(popup_edf17813207416af02158b23e180af45)\n        ;\n\n        \n    \n    \n            var marker_85ae247116669446673da0096831ea5e = L.marker(\n                [28.56230197, -80.57735648],\n                {}\n            ).addTo(map_c4d7c0e15bf4ba574a819fb59776da28);\n        \n    \n            var div_icon_ea38d5a9f6abfb2d71b5624327709004 = L.divIcon({&quot;className&quot;: &quot;empty&quot;, &quot;html&quot;: &quot;\\u003cdiv style=\\&quot;font-size: 12; color:#d35400;\\&quot;\\u003e\\u003cb\\u003eCCAFS LC-40\\u003c/b\\u003e\\u003c/div\\u003e&quot;, &quot;iconAnchor&quot;: [0, 0], &quot;iconSize&quot;: [20, 20]});\n            marker_85ae247116669446673da0096831ea5e.setIcon(div_icon_ea38d5a9f6abfb2d71b5624327709004);\n        \n    \n            var circle_dd0a3b3e09afe4d96dd1d0a4ef16322a = L.circle(\n                [28.56319718, -80.57682003],\n                {&quot;bubblingMouseEvents&quot;: true, &quot;color&quot;: &quot;#d35400&quot;, &quot;dashArray&quot;: null, &quot;dashOffset&quot;: null, &quot;fill&quot;: true, &quot;fillColor&quot;: &quot;#d35400&quot;, &quot;fillOpacity&quot;: 0.2, &quot;fillRule&quot;: &quot;evenodd&quot;, &quot;lineCap&quot;: &quot;round&quot;, &quot;lineJoin&quot;: &quot;round&quot;, &quot;opacity&quot;: 1.0, &quot;radius&quot;: 1000, &quot;stroke&quot;: true, &quot;weight&quot;: 3}\n            ).addTo(map_c4d7c0e15bf4ba574a819fb59776da28);\n        \n    \n        var popup_50952ab8f3bd013bea64e4e88464d85c = L.popup({&quot;maxWidth&quot;: &quot;100%&quot;});\n\n        \n            var html_d4a8c8d3101ea921319f9042ed48ea15 = $(`&lt;div id=&quot;html_d4a8c8d3101ea921319f9042ed48ea15&quot; style=&quot;width: 100.0%; height: 100.0%;&quot;&gt;CCAFS SLC-40&lt;/div&gt;`)[0];\n            popup_50952ab8f3bd013bea64e4e88464d85c.setContent(html_d4a8c8d3101ea921319f9042ed48ea15);\n        \n\n        circle_dd0a3b3e09afe4d96dd1d0a4ef16322a.bindPopup(popup_50952ab8f3bd013bea64e4e88464d85c)\n        ;\n\n        \n    \n    \n            var marker_f0e94b3b99e4cf8f18869247d8235d29 = L.marker(\n                [28.56319718, -80.57682003],\n                {}\n            ).addTo(map_c4d7c0e15bf4ba574a819fb59776da28);\n        \n    \n            var div_icon_dff0024387c4275fc334efcdb0a32917 = L.divIcon({&quot;className&quot;: &quot;empty&quot;, &quot;html&quot;: &quot;\\u003cdiv style=\\&quot;font-size: 12; color:#d35400;\\&quot;\\u003e\\u003cb\\u003eCCAFS SLC-40\\u003c/b\\u003e\\u003c/div\\u003e&quot;, &quot;iconAnchor&quot;: [0, 0], &quot;iconSize&quot;: [20, 20]});\n            marker_f0e94b3b99e4cf8f18869247d8235d29.setIcon(div_icon_dff0024387c4275fc334efcdb0a32917);\n        \n    \n            var circle_2a468d07af7f5542792e60df9e4d7609 = L.circle(\n                [28.57325457, -80.64689529],\n                {&quot;bubblingMouseEvents&quot;: true, &quot;color&quot;: &quot;#d35400&quot;, &quot;dashArray&quot;: null, &quot;dashOffset&quot;: null, &quot;fill&quot;: true, &quot;fillColor&quot;: &quot;#d35400&quot;, &quot;fillOpacity&quot;: 0.2, &quot;fillRule&quot;: &quot;evenodd&quot;, &quot;lineCap&quot;: &quot;round&quot;, &quot;lineJoin&quot;: &quot;round&quot;, &quot;opacity&quot;: 1.0, &quot;radius&quot;: 1000, &quot;stroke&quot;: true, &quot;weight&quot;: 3}\n            ).addTo(map_c4d7c0e15bf4ba574a819fb59776da28);\n        \n    \n        var popup_54f24431a77de83ad7bb5cf698df3fc6 = L.popup({&quot;maxWidth&quot;: &quot;100%&quot;});\n\n        \n            var html_a4b3ef64a769feeb6f318488de01af5c = $(`&lt;div id=&quot;html_a4b3ef64a769feeb6f318488de01af5c&quot; style=&quot;width: 100.0%; height: 100.0%;&quot;&gt;KSC LC-39A&lt;/div&gt;`)[0];\n            popup_54f24431a77de83ad7bb5cf698df3fc6.setContent(html_a4b3ef64a769feeb6f318488de01af5c);\n        \n\n        circle_2a468d07af7f5542792e60df9e4d7609.bindPopup(popup_54f24431a77de83ad7bb5cf698df3fc6)\n        ;\n\n        \n    \n    \n            var marker_a5900f72c48ba40a4172f5159db67212 = L.marker(\n                [28.57325457, -80.64689529],\n                {}\n            ).addTo(map_c4d7c0e15bf4ba574a819fb59776da28);\n        \n    \n            var div_icon_577196be5330e6c23d7b7a70a13de1ff = L.divIcon({&quot;className&quot;: &quot;empty&quot;, &quot;html&quot;: &quot;\\u003cdiv style=\\&quot;font-size: 12; color:#d35400;\\&quot;\\u003e\\u003cb\\u003eKSC LC-39A\\u003c/b\\u003e\\u003c/div\\u003e&quot;, &quot;iconAnchor&quot;: [0, 0], &quot;iconSize&quot;: [20, 20]});\n            marker_a5900f72c48ba40a4172f5159db67212.setIcon(div_icon_577196be5330e6c23d7b7a70a13de1ff);\n        \n    \n            var circle_6e26dcd6938361e683e04e248946679f = L.circle(\n                [34.63283416, -120.6107455],\n                {&quot;bubblingMouseEvents&quot;: true, &quot;color&quot;: &quot;#d35400&quot;, &quot;dashArray&quot;: null, &quot;dashOffset&quot;: null, &quot;fill&quot;: true, &quot;fillColor&quot;: &quot;#d35400&quot;, &quot;fillOpacity&quot;: 0.2, &quot;fillRule&quot;: &quot;evenodd&quot;, &quot;lineCap&quot;: &quot;round&quot;, &quot;lineJoin&quot;: &quot;round&quot;, &quot;opacity&quot;: 1.0, &quot;radius&quot;: 1000, &quot;stroke&quot;: true, &quot;weight&quot;: 3}\n            ).addTo(map_c4d7c0e15bf4ba574a819fb59776da28);\n        \n    \n        var popup_edc27e7218e38a401f33306be09f86eb = L.popup({&quot;maxWidth&quot;: &quot;100%&quot;});\n\n        \n            var html_1984e07ce01affc7f972fe1397b2f814 = $(`&lt;div id=&quot;html_1984e07ce01affc7f972fe1397b2f814&quot; style=&quot;width: 100.0%; height: 100.0%;&quot;&gt;VAFB SLC-4E&lt;/div&gt;`)[0];\n            popup_edc27e7218e38a401f33306be09f86eb.setContent(html_1984e07ce01affc7f972fe1397b2f814);\n        \n\n        circle_6e26dcd6938361e683e04e248946679f.bindPopup(popup_edc27e7218e38a401f33306be09f86eb)\n        ;\n\n        \n    \n    \n            var marker_23e288a134a2f053236a32cde9c8df58 = L.marker(\n                [34.63283416, -120.6107455],\n                {}\n            ).addTo(map_c4d7c0e15bf4ba574a819fb59776da28);\n        \n    \n            var div_icon_85fe4e94abaf612357beb3255df5d9a5 = L.divIcon({&quot;className&quot;: &quot;empty&quot;, &quot;html&quot;: &quot;\\u003cdiv style=\\&quot;font-size: 12; color:#d35400;\\&quot;\\u003e\\u003cb\\u003eVAFB SLC-4E\\u003c/b\\u003e\\u003c/div\\u003e&quot;, &quot;iconAnchor&quot;: [0, 0], &quot;iconSize&quot;: [20, 20]});\n            marker_23e288a134a2f053236a32cde9c8df58.setIcon(div_icon_85fe4e94abaf612357beb3255df5d9a5);\n        \n    \n            var marker_cluster_fc5d5465a587b88785a92da72965d1dd = L.markerClusterGroup(\n                {}\n            );\n            map_c4d7c0e15bf4ba574a819fb59776da28.addLayer(marker_cluster_fc5d5465a587b88785a92da72965d1dd);\n        \n    \n            var marker_12c9090153d337c5c7338ab6a90a16e0 = L.marker(\n                [28.56230197, -80.57735648],\n                {}\n            ).addTo(marker_cluster_fc5d5465a587b88785a92da72965d1dd);\n        \n    \n            var icon_4e1070f44ef0273036102132bcb2a6ea = L.AwesomeMarkers.icon(\n                {&quot;extraClasses&quot;: &quot;fa-rotate-0&quot;, &quot;icon&quot;: &quot;info-sign&quot;, &quot;iconColor&quot;: &quot;red&quot;, &quot;markerColor&quot;: &quot;white&quot;, &quot;prefix&quot;: &quot;glyphicon&quot;}\n            );\n            marker_12c9090153d337c5c7338ab6a90a16e0.setIcon(icon_4e1070f44ef0273036102132bcb2a6ea);\n        \n    \n            var marker_c148023bf0d26da90df45eadf64f4816 = L.marker(\n                [28.56230197, -80.57735648],\n                {}\n            ).addTo(marker_cluster_fc5d5465a587b88785a92da72965d1dd);\n        \n    \n            var icon_6a6a4c437e1d950b5a0669b90b9565bd = L.AwesomeMarkers.icon(\n                {&quot;extraClasses&quot;: &quot;fa-rotate-0&quot;, &quot;icon&quot;: &quot;info-sign&quot;, &quot;iconColor&quot;: &quot;red&quot;, &quot;markerColor&quot;: &quot;white&quot;, &quot;prefix&quot;: &quot;glyphicon&quot;}\n            );\n            marker_c148023bf0d26da90df45eadf64f4816.setIcon(icon_6a6a4c437e1d950b5a0669b90b9565bd);\n        \n    \n            var marker_7c6ab1318484b2160cfe731fdab0bef4 = L.marker(\n                [28.56230197, -80.57735648],\n                {}\n            ).addTo(marker_cluster_fc5d5465a587b88785a92da72965d1dd);\n        \n    \n            var icon_9fced1e18824083519017ece6b1d02ff = L.AwesomeMarkers.icon(\n                {&quot;extraClasses&quot;: &quot;fa-rotate-0&quot;, &quot;icon&quot;: &quot;info-sign&quot;, &quot;iconColor&quot;: &quot;red&quot;, &quot;markerColor&quot;: &quot;white&quot;, &quot;prefix&quot;: &quot;glyphicon&quot;}\n            );\n            marker_7c6ab1318484b2160cfe731fdab0bef4.setIcon(icon_9fced1e18824083519017ece6b1d02ff);\n        \n    \n            var marker_d870a3039f54255d70e93e62e9b62ec3 = L.marker(\n                [28.56230197, -80.57735648],\n                {}\n            ).addTo(marker_cluster_fc5d5465a587b88785a92da72965d1dd);\n        \n    \n            var icon_5b00989f51d246d5f5ecc75772ce7a21 = L.AwesomeMarkers.icon(\n                {&quot;extraClasses&quot;: &quot;fa-rotate-0&quot;, &quot;icon&quot;: &quot;info-sign&quot;, &quot;iconColor&quot;: &quot;red&quot;, &quot;markerColor&quot;: &quot;white&quot;, &quot;prefix&quot;: &quot;glyphicon&quot;}\n            );\n            marker_d870a3039f54255d70e93e62e9b62ec3.setIcon(icon_5b00989f51d246d5f5ecc75772ce7a21);\n        \n    \n            var marker_78b417a64e13289288a0c28e12a44216 = L.marker(\n                [28.56230197, -80.57735648],\n                {}\n            ).addTo(marker_cluster_fc5d5465a587b88785a92da72965d1dd);\n        \n    \n            var icon_61ba0976cd88af2cbd4b1d6f47892dd1 = L.AwesomeMarkers.icon(\n                {&quot;extraClasses&quot;: &quot;fa-rotate-0&quot;, &quot;icon&quot;: &quot;info-sign&quot;, &quot;iconColor&quot;: &quot;red&quot;, &quot;markerColor&quot;: &quot;white&quot;, &quot;prefix&quot;: &quot;glyphicon&quot;}\n            );\n            marker_78b417a64e13289288a0c28e12a44216.setIcon(icon_61ba0976cd88af2cbd4b1d6f47892dd1);\n        \n    \n            var marker_49467c2a8290726e388450fcc10f2b09 = L.marker(\n                [28.56230197, -80.57735648],\n                {}\n            ).addTo(marker_cluster_fc5d5465a587b88785a92da72965d1dd);\n        \n    \n            var icon_1479236b9b58d70d14354560c0a6a6b5 = L.AwesomeMarkers.icon(\n                {&quot;extraClasses&quot;: &quot;fa-rotate-0&quot;, &quot;icon&quot;: &quot;info-sign&quot;, &quot;iconColor&quot;: &quot;red&quot;, &quot;markerColor&quot;: &quot;white&quot;, &quot;prefix&quot;: &quot;glyphicon&quot;}\n            );\n            marker_49467c2a8290726e388450fcc10f2b09.setIcon(icon_1479236b9b58d70d14354560c0a6a6b5);\n        \n    \n            var marker_9fffd56c0b426f831d8d763e65bb4d1f = L.marker(\n                [28.56230197, -80.57735648],\n                {}\n            ).addTo(marker_cluster_fc5d5465a587b88785a92da72965d1dd);\n        \n    \n            var icon_579f4873cfd59ddd23a351c5e62673da = L.AwesomeMarkers.icon(\n                {&quot;extraClasses&quot;: &quot;fa-rotate-0&quot;, &quot;icon&quot;: &quot;info-sign&quot;, &quot;iconColor&quot;: &quot;red&quot;, &quot;markerColor&quot;: &quot;white&quot;, &quot;prefix&quot;: &quot;glyphicon&quot;}\n            );\n            marker_9fffd56c0b426f831d8d763e65bb4d1f.setIcon(icon_579f4873cfd59ddd23a351c5e62673da);\n        \n    \n            var marker_3a538321374a16c9ae1d5ea705dc3b97 = L.marker(\n                [28.56230197, -80.57735648],\n                {}\n            ).addTo(marker_cluster_fc5d5465a587b88785a92da72965d1dd);\n        \n    \n            var icon_b5c677340edf67494feee762db15cd66 = L.AwesomeMarkers.icon(\n                {&quot;extraClasses&quot;: &quot;fa-rotate-0&quot;, &quot;icon&quot;: &quot;info-sign&quot;, &quot;iconColor&quot;: &quot;red&quot;, &quot;markerColor&quot;: &quot;white&quot;, &quot;prefix&quot;: &quot;glyphicon&quot;}\n            );\n            marker_3a538321374a16c9ae1d5ea705dc3b97.setIcon(icon_b5c677340edf67494feee762db15cd66);\n        \n    \n            var marker_9c440aa000f37ec4d2c778ffe1aaa3c3 = L.marker(\n                [28.56230197, -80.57735648],\n                {}\n            ).addTo(marker_cluster_fc5d5465a587b88785a92da72965d1dd);\n        \n    \n            var icon_16345e3bd64d3e210afec16a4ca94219 = L.AwesomeMarkers.icon(\n                {&quot;extraClasses&quot;: &quot;fa-rotate-0&quot;, &quot;icon&quot;: &quot;info-sign&quot;, &quot;iconColor&quot;: &quot;red&quot;, &quot;markerColor&quot;: &quot;white&quot;, &quot;prefix&quot;: &quot;glyphicon&quot;}\n            );\n            marker_9c440aa000f37ec4d2c778ffe1aaa3c3.setIcon(icon_16345e3bd64d3e210afec16a4ca94219);\n        \n    \n            var marker_48b770c868ae7ddbaadbc57e46f792f1 = L.marker(\n                [28.56230197, -80.57735648],\n                {}\n            ).addTo(marker_cluster_fc5d5465a587b88785a92da72965d1dd);\n        \n    \n            var icon_43ed37b64b8d812350ef18de43c25bac = L.AwesomeMarkers.icon(\n                {&quot;extraClasses&quot;: &quot;fa-rotate-0&quot;, &quot;icon&quot;: &quot;info-sign&quot;, &quot;iconColor&quot;: &quot;red&quot;, &quot;markerColor&quot;: &quot;white&quot;, &quot;prefix&quot;: &quot;glyphicon&quot;}\n            );\n            marker_48b770c868ae7ddbaadbc57e46f792f1.setIcon(icon_43ed37b64b8d812350ef18de43c25bac);\n        \n    \n            var marker_4483a00c3946bca3554724861b663f3e = L.marker(\n                [28.56230197, -80.57735648],\n                {}\n            ).addTo(marker_cluster_fc5d5465a587b88785a92da72965d1dd);\n        \n    \n            var icon_73d63309953d70fddeaeb909c5e755e3 = L.AwesomeMarkers.icon(\n                {&quot;extraClasses&quot;: &quot;fa-rotate-0&quot;, &quot;icon&quot;: &quot;info-sign&quot;, &quot;iconColor&quot;: &quot;red&quot;, &quot;markerColor&quot;: &quot;white&quot;, &quot;prefix&quot;: &quot;glyphicon&quot;}\n            );\n            marker_4483a00c3946bca3554724861b663f3e.setIcon(icon_73d63309953d70fddeaeb909c5e755e3);\n        \n    \n            var marker_79fb9456aae3fd166bef7fe7f5b72cfe = L.marker(\n                [28.56230197, -80.57735648],\n                {}\n            ).addTo(marker_cluster_fc5d5465a587b88785a92da72965d1dd);\n        \n    \n            var icon_2c76699e5761fa619b94ead8b672ba67 = L.AwesomeMarkers.icon(\n                {&quot;extraClasses&quot;: &quot;fa-rotate-0&quot;, &quot;icon&quot;: &quot;info-sign&quot;, &quot;iconColor&quot;: &quot;red&quot;, &quot;markerColor&quot;: &quot;white&quot;, &quot;prefix&quot;: &quot;glyphicon&quot;}\n            );\n            marker_79fb9456aae3fd166bef7fe7f5b72cfe.setIcon(icon_2c76699e5761fa619b94ead8b672ba67);\n        \n    \n            var marker_b8ad9925a78f5cbdd0a7477f7fad4336 = L.marker(\n                [28.56230197, -80.57735648],\n                {}\n            ).addTo(marker_cluster_fc5d5465a587b88785a92da72965d1dd);\n        \n    \n            var icon_cd0568d10243b9b0cbdc92a579e68f78 = L.AwesomeMarkers.icon(\n                {&quot;extraClasses&quot;: &quot;fa-rotate-0&quot;, &quot;icon&quot;: &quot;info-sign&quot;, &quot;iconColor&quot;: &quot;red&quot;, &quot;markerColor&quot;: &quot;white&quot;, &quot;prefix&quot;: &quot;glyphicon&quot;}\n            );\n            marker_b8ad9925a78f5cbdd0a7477f7fad4336.setIcon(icon_cd0568d10243b9b0cbdc92a579e68f78);\n        \n    \n            var marker_b5b49036fa009cd34ff21fcd6ce0c2d2 = L.marker(\n                [28.56230197, -80.57735648],\n                {}\n            ).addTo(marker_cluster_fc5d5465a587b88785a92da72965d1dd);\n        \n    \n            var icon_3720e5434273ad3a7825d308bba9d554 = L.AwesomeMarkers.icon(\n                {&quot;extraClasses&quot;: &quot;fa-rotate-0&quot;, &quot;icon&quot;: &quot;info-sign&quot;, &quot;iconColor&quot;: &quot;red&quot;, &quot;markerColor&quot;: &quot;white&quot;, &quot;prefix&quot;: &quot;glyphicon&quot;}\n            );\n            marker_b5b49036fa009cd34ff21fcd6ce0c2d2.setIcon(icon_3720e5434273ad3a7825d308bba9d554);\n        \n    \n            var marker_bccad583bc0ef406109f597db233a090 = L.marker(\n                [28.56230197, -80.57735648],\n                {}\n            ).addTo(marker_cluster_fc5d5465a587b88785a92da72965d1dd);\n        \n    \n            var icon_1e3ec5aa5d24d7c7e1f5156afdb132b2 = L.AwesomeMarkers.icon(\n                {&quot;extraClasses&quot;: &quot;fa-rotate-0&quot;, &quot;icon&quot;: &quot;info-sign&quot;, &quot;iconColor&quot;: &quot;red&quot;, &quot;markerColor&quot;: &quot;white&quot;, &quot;prefix&quot;: &quot;glyphicon&quot;}\n            );\n            marker_bccad583bc0ef406109f597db233a090.setIcon(icon_1e3ec5aa5d24d7c7e1f5156afdb132b2);\n        \n    \n            var marker_1d33a3100c6fc5aa380111c85ae535f8 = L.marker(\n                [28.56230197, -80.57735648],\n                {}\n            ).addTo(marker_cluster_fc5d5465a587b88785a92da72965d1dd);\n        \n    \n            var icon_48940c2da33fbeb6ea2932bc094c5c4e = L.AwesomeMarkers.icon(\n                {&quot;extraClasses&quot;: &quot;fa-rotate-0&quot;, &quot;icon&quot;: &quot;info-sign&quot;, &quot;iconColor&quot;: &quot;red&quot;, &quot;markerColor&quot;: &quot;white&quot;, &quot;prefix&quot;: &quot;glyphicon&quot;}\n            );\n            marker_1d33a3100c6fc5aa380111c85ae535f8.setIcon(icon_48940c2da33fbeb6ea2932bc094c5c4e);\n        \n    \n            var marker_da15c4319827dcd49ce9fa7df257be24 = L.marker(\n                [28.56230197, -80.57735648],\n                {}\n            ).addTo(marker_cluster_fc5d5465a587b88785a92da72965d1dd);\n        \n    \n            var icon_f5552d1a85f67415b6e262e28af33e6e = L.AwesomeMarkers.icon(\n                {&quot;extraClasses&quot;: &quot;fa-rotate-0&quot;, &quot;icon&quot;: &quot;info-sign&quot;, &quot;iconColor&quot;: &quot;red&quot;, &quot;markerColor&quot;: &quot;white&quot;, &quot;prefix&quot;: &quot;glyphicon&quot;}\n            );\n            marker_da15c4319827dcd49ce9fa7df257be24.setIcon(icon_f5552d1a85f67415b6e262e28af33e6e);\n        \n    \n            var marker_3a7cce6a5a11b2c7b2c17996f56f0362 = L.marker(\n                [28.56230197, -80.57735648],\n                {}\n            ).addTo(marker_cluster_fc5d5465a587b88785a92da72965d1dd);\n        \n    \n            var icon_f090ca3aaaaedb02129d840b34630012 = L.AwesomeMarkers.icon(\n                {&quot;extraClasses&quot;: &quot;fa-rotate-0&quot;, &quot;icon&quot;: &quot;info-sign&quot;, &quot;iconColor&quot;: &quot;green&quot;, &quot;markerColor&quot;: &quot;white&quot;, &quot;prefix&quot;: &quot;glyphicon&quot;}\n            );\n            marker_3a7cce6a5a11b2c7b2c17996f56f0362.setIcon(icon_f090ca3aaaaedb02129d840b34630012);\n        \n    \n            var marker_11d643aae902c0785b9f34d78b920639 = L.marker(\n                [28.56230197, -80.57735648],\n                {}\n            ).addTo(marker_cluster_fc5d5465a587b88785a92da72965d1dd);\n        \n    \n            var icon_f3db0108f7fd5edf1593b7896166b1aa = L.AwesomeMarkers.icon(\n                {&quot;extraClasses&quot;: &quot;fa-rotate-0&quot;, &quot;icon&quot;: &quot;info-sign&quot;, &quot;iconColor&quot;: &quot;green&quot;, &quot;markerColor&quot;: &quot;white&quot;, &quot;prefix&quot;: &quot;glyphicon&quot;}\n            );\n            marker_11d643aae902c0785b9f34d78b920639.setIcon(icon_f3db0108f7fd5edf1593b7896166b1aa);\n        \n    \n            var marker_b77d2c1208aa02d5af4a214c1c93f463 = L.marker(\n                [28.56230197, -80.57735648],\n                {}\n            ).addTo(marker_cluster_fc5d5465a587b88785a92da72965d1dd);\n        \n    \n            var icon_168cc393ed076d37224b9f96a121832d = L.AwesomeMarkers.icon(\n                {&quot;extraClasses&quot;: &quot;fa-rotate-0&quot;, &quot;icon&quot;: &quot;info-sign&quot;, &quot;iconColor&quot;: &quot;red&quot;, &quot;markerColor&quot;: &quot;white&quot;, &quot;prefix&quot;: &quot;glyphicon&quot;}\n            );\n            marker_b77d2c1208aa02d5af4a214c1c93f463.setIcon(icon_168cc393ed076d37224b9f96a121832d);\n        \n    \n            var marker_d24a4b885fa3d04d51585edd86d2a794 = L.marker(\n                [28.56230197, -80.57735648],\n                {}\n            ).addTo(marker_cluster_fc5d5465a587b88785a92da72965d1dd);\n        \n    \n            var icon_6bd809104e085dd0d8a5b0d4b076a6ac = L.AwesomeMarkers.icon(\n                {&quot;extraClasses&quot;: &quot;fa-rotate-0&quot;, &quot;icon&quot;: &quot;info-sign&quot;, &quot;iconColor&quot;: &quot;green&quot;, &quot;markerColor&quot;: &quot;white&quot;, &quot;prefix&quot;: &quot;glyphicon&quot;}\n            );\n            marker_d24a4b885fa3d04d51585edd86d2a794.setIcon(icon_6bd809104e085dd0d8a5b0d4b076a6ac);\n        \n    \n            var marker_47df843f11c6eb3372986409b218c1c4 = L.marker(\n                [28.56230197, -80.57735648],\n                {}\n            ).addTo(marker_cluster_fc5d5465a587b88785a92da72965d1dd);\n        \n    \n            var icon_67619ab20e2259293b91fa564caaa255 = L.AwesomeMarkers.icon(\n                {&quot;extraClasses&quot;: &quot;fa-rotate-0&quot;, &quot;icon&quot;: &quot;info-sign&quot;, &quot;iconColor&quot;: &quot;green&quot;, &quot;markerColor&quot;: &quot;white&quot;, &quot;prefix&quot;: &quot;glyphicon&quot;}\n            );\n            marker_47df843f11c6eb3372986409b218c1c4.setIcon(icon_67619ab20e2259293b91fa564caaa255);\n        \n    \n            var marker_d3d0ef106495c43cb22fc399a137720a = L.marker(\n                [28.56230197, -80.57735648],\n                {}\n            ).addTo(marker_cluster_fc5d5465a587b88785a92da72965d1dd);\n        \n    \n            var icon_559491eaa66a3b11ced6063b688e6f92 = L.AwesomeMarkers.icon(\n                {&quot;extraClasses&quot;: &quot;fa-rotate-0&quot;, &quot;icon&quot;: &quot;info-sign&quot;, &quot;iconColor&quot;: &quot;green&quot;, &quot;markerColor&quot;: &quot;white&quot;, &quot;prefix&quot;: &quot;glyphicon&quot;}\n            );\n            marker_d3d0ef106495c43cb22fc399a137720a.setIcon(icon_559491eaa66a3b11ced6063b688e6f92);\n        \n    \n            var marker_ae99ba7ac2d19326edbf286b7aeabc40 = L.marker(\n                [28.56230197, -80.57735648],\n                {}\n            ).addTo(marker_cluster_fc5d5465a587b88785a92da72965d1dd);\n        \n    \n            var icon_ec0481374a76f6e3b22205b8f40de143 = L.AwesomeMarkers.icon(\n                {&quot;extraClasses&quot;: &quot;fa-rotate-0&quot;, &quot;icon&quot;: &quot;info-sign&quot;, &quot;iconColor&quot;: &quot;red&quot;, &quot;markerColor&quot;: &quot;white&quot;, &quot;prefix&quot;: &quot;glyphicon&quot;}\n            );\n            marker_ae99ba7ac2d19326edbf286b7aeabc40.setIcon(icon_ec0481374a76f6e3b22205b8f40de143);\n        \n    \n            var marker_fa63df7b79452e5fac9be557a9600693 = L.marker(\n                [28.56230197, -80.57735648],\n                {}\n            ).addTo(marker_cluster_fc5d5465a587b88785a92da72965d1dd);\n        \n    \n            var icon_79e40a0f661ddea87d7e3b4508ef72c6 = L.AwesomeMarkers.icon(\n                {&quot;extraClasses&quot;: &quot;fa-rotate-0&quot;, &quot;icon&quot;: &quot;info-sign&quot;, &quot;iconColor&quot;: &quot;green&quot;, &quot;markerColor&quot;: &quot;white&quot;, &quot;prefix&quot;: &quot;glyphicon&quot;}\n            );\n            marker_fa63df7b79452e5fac9be557a9600693.setIcon(icon_79e40a0f661ddea87d7e3b4508ef72c6);\n        \n    \n            var marker_566706dc39cb23ff1a0fb1d6af4b8c56 = L.marker(\n                [28.56230197, -80.57735648],\n                {}\n            ).addTo(marker_cluster_fc5d5465a587b88785a92da72965d1dd);\n        \n    \n            var icon_f6321c2bba3e1d183515c902bfaa83c5 = L.AwesomeMarkers.icon(\n                {&quot;extraClasses&quot;: &quot;fa-rotate-0&quot;, &quot;icon&quot;: &quot;info-sign&quot;, &quot;iconColor&quot;: &quot;green&quot;, &quot;markerColor&quot;: &quot;white&quot;, &quot;prefix&quot;: &quot;glyphicon&quot;}\n            );\n            marker_566706dc39cb23ff1a0fb1d6af4b8c56.setIcon(icon_f6321c2bba3e1d183515c902bfaa83c5);\n        \n    \n            var marker_20e605903f1cd958a18c82c6ec1c6c5f = L.marker(\n                [34.63283416, -120.6107455],\n                {}\n            ).addTo(marker_cluster_fc5d5465a587b88785a92da72965d1dd);\n        \n    \n            var icon_7e2023b9125d7c12c26167063c5d84a7 = L.AwesomeMarkers.icon(\n                {&quot;extraClasses&quot;: &quot;fa-rotate-0&quot;, &quot;icon&quot;: &quot;info-sign&quot;, &quot;iconColor&quot;: &quot;red&quot;, &quot;markerColor&quot;: &quot;white&quot;, &quot;prefix&quot;: &quot;glyphicon&quot;}\n            );\n            marker_20e605903f1cd958a18c82c6ec1c6c5f.setIcon(icon_7e2023b9125d7c12c26167063c5d84a7);\n        \n    \n            var marker_c101e01acc963442e8bc225ef9f5535b = L.marker(\n                [34.63283416, -120.6107455],\n                {}\n            ).addTo(marker_cluster_fc5d5465a587b88785a92da72965d1dd);\n        \n    \n            var icon_944d693b1e981ccff829728df633c2e9 = L.AwesomeMarkers.icon(\n                {&quot;extraClasses&quot;: &quot;fa-rotate-0&quot;, &quot;icon&quot;: &quot;info-sign&quot;, &quot;iconColor&quot;: &quot;red&quot;, &quot;markerColor&quot;: &quot;white&quot;, &quot;prefix&quot;: &quot;glyphicon&quot;}\n            );\n            marker_c101e01acc963442e8bc225ef9f5535b.setIcon(icon_944d693b1e981ccff829728df633c2e9);\n        \n    \n            var marker_3e0fb3f401c326087c764630620f9235 = L.marker(\n                [34.63283416, -120.6107455],\n                {}\n            ).addTo(marker_cluster_fc5d5465a587b88785a92da72965d1dd);\n        \n    \n            var icon_135b71cfcc7d4775b9a1688df565001d = L.AwesomeMarkers.icon(\n                {&quot;extraClasses&quot;: &quot;fa-rotate-0&quot;, &quot;icon&quot;: &quot;info-sign&quot;, &quot;iconColor&quot;: &quot;green&quot;, &quot;markerColor&quot;: &quot;white&quot;, &quot;prefix&quot;: &quot;glyphicon&quot;}\n            );\n            marker_3e0fb3f401c326087c764630620f9235.setIcon(icon_135b71cfcc7d4775b9a1688df565001d);\n        \n    \n            var marker_e88e0cebb202323667245471fff4d66a = L.marker(\n                [34.63283416, -120.6107455],\n                {}\n            ).addTo(marker_cluster_fc5d5465a587b88785a92da72965d1dd);\n        \n    \n            var icon_d3c16369864dafcae68a1ae1bfda7435 = L.AwesomeMarkers.icon(\n                {&quot;extraClasses&quot;: &quot;fa-rotate-0&quot;, &quot;icon&quot;: &quot;info-sign&quot;, &quot;iconColor&quot;: &quot;green&quot;, &quot;markerColor&quot;: &quot;white&quot;, &quot;prefix&quot;: &quot;glyphicon&quot;}\n            );\n            marker_e88e0cebb202323667245471fff4d66a.setIcon(icon_d3c16369864dafcae68a1ae1bfda7435);\n        \n    \n            var marker_f27ffd7d8d9525ffea2fb1daa3569af1 = L.marker(\n                [34.63283416, -120.6107455],\n                {}\n            ).addTo(marker_cluster_fc5d5465a587b88785a92da72965d1dd);\n        \n    \n            var icon_b4fde11ffb6408544e2812d8497c9603 = L.AwesomeMarkers.icon(\n                {&quot;extraClasses&quot;: &quot;fa-rotate-0&quot;, &quot;icon&quot;: &quot;info-sign&quot;, &quot;iconColor&quot;: &quot;green&quot;, &quot;markerColor&quot;: &quot;white&quot;, &quot;prefix&quot;: &quot;glyphicon&quot;}\n            );\n            marker_f27ffd7d8d9525ffea2fb1daa3569af1.setIcon(icon_b4fde11ffb6408544e2812d8497c9603);\n        \n    \n            var marker_e8850eaf2b7caca084882e8cd6595d05 = L.marker(\n                [34.63283416, -120.6107455],\n                {}\n            ).addTo(marker_cluster_fc5d5465a587b88785a92da72965d1dd);\n        \n    \n            var icon_051c24702ecae033d2b63341207a6bf0 = L.AwesomeMarkers.icon(\n                {&quot;extraClasses&quot;: &quot;fa-rotate-0&quot;, &quot;icon&quot;: &quot;info-sign&quot;, &quot;iconColor&quot;: &quot;green&quot;, &quot;markerColor&quot;: &quot;white&quot;, &quot;prefix&quot;: &quot;glyphicon&quot;}\n            );\n            marker_e8850eaf2b7caca084882e8cd6595d05.setIcon(icon_051c24702ecae033d2b63341207a6bf0);\n        \n    \n            var marker_4bc36a9f9ac70560e9ee4ecdd0d9caa0 = L.marker(\n                [34.63283416, -120.6107455],\n                {}\n            ).addTo(marker_cluster_fc5d5465a587b88785a92da72965d1dd);\n        \n    \n            var icon_a42f895c11d1ba0a0f9191c37d7ec4ea = L.AwesomeMarkers.icon(\n                {&quot;extraClasses&quot;: &quot;fa-rotate-0&quot;, &quot;icon&quot;: &quot;info-sign&quot;, &quot;iconColor&quot;: &quot;red&quot;, &quot;markerColor&quot;: &quot;white&quot;, &quot;prefix&quot;: &quot;glyphicon&quot;}\n            );\n            marker_4bc36a9f9ac70560e9ee4ecdd0d9caa0.setIcon(icon_a42f895c11d1ba0a0f9191c37d7ec4ea);\n        \n    \n            var marker_23345f661bcaffa2de095d00e07273e6 = L.marker(\n                [34.63283416, -120.6107455],\n                {}\n            ).addTo(marker_cluster_fc5d5465a587b88785a92da72965d1dd);\n        \n    \n            var icon_fa1ff50eb043f41ddadbeb4afdaac74f = L.AwesomeMarkers.icon(\n                {&quot;extraClasses&quot;: &quot;fa-rotate-0&quot;, &quot;icon&quot;: &quot;info-sign&quot;, &quot;iconColor&quot;: &quot;red&quot;, &quot;markerColor&quot;: &quot;white&quot;, &quot;prefix&quot;: &quot;glyphicon&quot;}\n            );\n            marker_23345f661bcaffa2de095d00e07273e6.setIcon(icon_fa1ff50eb043f41ddadbeb4afdaac74f);\n        \n    \n            var marker_6548124e1c86a3e6146153c2d39a8518 = L.marker(\n                [34.63283416, -120.6107455],\n                {}\n            ).addTo(marker_cluster_fc5d5465a587b88785a92da72965d1dd);\n        \n    \n            var icon_cf885ecf2fcc403444aeac1da700ca4b = L.AwesomeMarkers.icon(\n                {&quot;extraClasses&quot;: &quot;fa-rotate-0&quot;, &quot;icon&quot;: &quot;info-sign&quot;, &quot;iconColor&quot;: &quot;red&quot;, &quot;markerColor&quot;: &quot;white&quot;, &quot;prefix&quot;: &quot;glyphicon&quot;}\n            );\n            marker_6548124e1c86a3e6146153c2d39a8518.setIcon(icon_cf885ecf2fcc403444aeac1da700ca4b);\n        \n    \n            var marker_dc2f5ff34c236584de6ba118e20dc08f = L.marker(\n                [34.63283416, -120.6107455],\n                {}\n            ).addTo(marker_cluster_fc5d5465a587b88785a92da72965d1dd);\n        \n    \n            var icon_394191b52198ece79d331dbf556e2867 = L.AwesomeMarkers.icon(\n                {&quot;extraClasses&quot;: &quot;fa-rotate-0&quot;, &quot;icon&quot;: &quot;info-sign&quot;, &quot;iconColor&quot;: &quot;red&quot;, &quot;markerColor&quot;: &quot;white&quot;, &quot;prefix&quot;: &quot;glyphicon&quot;}\n            );\n            marker_dc2f5ff34c236584de6ba118e20dc08f.setIcon(icon_394191b52198ece79d331dbf556e2867);\n        \n    \n            var marker_95f899ad6682fea3d484691f80b16613 = L.marker(\n                [28.57325457, -80.64689529],\n                {}\n            ).addTo(marker_cluster_fc5d5465a587b88785a92da72965d1dd);\n        \n    \n            var icon_7f1dd2c3cf6e36d13c6c32658a1da258 = L.AwesomeMarkers.icon(\n                {&quot;extraClasses&quot;: &quot;fa-rotate-0&quot;, &quot;icon&quot;: &quot;info-sign&quot;, &quot;iconColor&quot;: &quot;green&quot;, &quot;markerColor&quot;: &quot;white&quot;, &quot;prefix&quot;: &quot;glyphicon&quot;}\n            );\n            marker_95f899ad6682fea3d484691f80b16613.setIcon(icon_7f1dd2c3cf6e36d13c6c32658a1da258);\n        \n    \n            var marker_819eeabff8a8b3733a097e93b3b69cfa = L.marker(\n                [28.57325457, -80.64689529],\n                {}\n            ).addTo(marker_cluster_fc5d5465a587b88785a92da72965d1dd);\n        \n    \n            var icon_f9fe97de2c777ca2004a7700ae3d30ad = L.AwesomeMarkers.icon(\n                {&quot;extraClasses&quot;: &quot;fa-rotate-0&quot;, &quot;icon&quot;: &quot;info-sign&quot;, &quot;iconColor&quot;: &quot;red&quot;, &quot;markerColor&quot;: &quot;white&quot;, &quot;prefix&quot;: &quot;glyphicon&quot;}\n            );\n            marker_819eeabff8a8b3733a097e93b3b69cfa.setIcon(icon_f9fe97de2c777ca2004a7700ae3d30ad);\n        \n    \n            var marker_7ed02a7235b3cdbce09b49bd10624ecb = L.marker(\n                [28.57325457, -80.64689529],\n                {}\n            ).addTo(marker_cluster_fc5d5465a587b88785a92da72965d1dd);\n        \n    \n            var icon_4995e874e276a04282874112c1b6d681 = L.AwesomeMarkers.icon(\n                {&quot;extraClasses&quot;: &quot;fa-rotate-0&quot;, &quot;icon&quot;: &quot;info-sign&quot;, &quot;iconColor&quot;: &quot;green&quot;, &quot;markerColor&quot;: &quot;white&quot;, &quot;prefix&quot;: &quot;glyphicon&quot;}\n            );\n            marker_7ed02a7235b3cdbce09b49bd10624ecb.setIcon(icon_4995e874e276a04282874112c1b6d681);\n        \n    \n            var marker_5f8a339f283270564b04ba3532fc38ab = L.marker(\n                [28.57325457, -80.64689529],\n                {}\n            ).addTo(marker_cluster_fc5d5465a587b88785a92da72965d1dd);\n        \n    \n            var icon_da7f24768280fc76205759b6cb3d7871 = L.AwesomeMarkers.icon(\n                {&quot;extraClasses&quot;: &quot;fa-rotate-0&quot;, &quot;icon&quot;: &quot;info-sign&quot;, &quot;iconColor&quot;: &quot;green&quot;, &quot;markerColor&quot;: &quot;white&quot;, &quot;prefix&quot;: &quot;glyphicon&quot;}\n            );\n            marker_5f8a339f283270564b04ba3532fc38ab.setIcon(icon_da7f24768280fc76205759b6cb3d7871);\n        \n    \n            var marker_380a4c2a3dee9d29cd44df9588a918ae = L.marker(\n                [28.57325457, -80.64689529],\n                {}\n            ).addTo(marker_cluster_fc5d5465a587b88785a92da72965d1dd);\n        \n    \n            var icon_6bc315de1c53e8c38a7ec859eca42628 = L.AwesomeMarkers.icon(\n                {&quot;extraClasses&quot;: &quot;fa-rotate-0&quot;, &quot;icon&quot;: &quot;info-sign&quot;, &quot;iconColor&quot;: &quot;red&quot;, &quot;markerColor&quot;: &quot;white&quot;, &quot;prefix&quot;: &quot;glyphicon&quot;}\n            );\n            marker_380a4c2a3dee9d29cd44df9588a918ae.setIcon(icon_6bc315de1c53e8c38a7ec859eca42628);\n        \n    \n            var marker_32b43adb2d41917e4fe7d36bb8438b43 = L.marker(\n                [28.57325457, -80.64689529],\n                {}\n            ).addTo(marker_cluster_fc5d5465a587b88785a92da72965d1dd);\n        \n    \n            var icon_1251eb28c7b69052e82ff05b605fc074 = L.AwesomeMarkers.icon(\n                {&quot;extraClasses&quot;: &quot;fa-rotate-0&quot;, &quot;icon&quot;: &quot;info-sign&quot;, &quot;iconColor&quot;: &quot;green&quot;, &quot;markerColor&quot;: &quot;white&quot;, &quot;prefix&quot;: &quot;glyphicon&quot;}\n            );\n            marker_32b43adb2d41917e4fe7d36bb8438b43.setIcon(icon_1251eb28c7b69052e82ff05b605fc074);\n        \n    \n            var marker_34a742778a4b7daacc00d76f90011651 = L.marker(\n                [28.57325457, -80.64689529],\n                {}\n            ).addTo(marker_cluster_fc5d5465a587b88785a92da72965d1dd);\n        \n    \n            var icon_88a335642815181057242e412a0379ad = L.AwesomeMarkers.icon(\n                {&quot;extraClasses&quot;: &quot;fa-rotate-0&quot;, &quot;icon&quot;: &quot;info-sign&quot;, &quot;iconColor&quot;: &quot;green&quot;, &quot;markerColor&quot;: &quot;white&quot;, &quot;prefix&quot;: &quot;glyphicon&quot;}\n            );\n            marker_34a742778a4b7daacc00d76f90011651.setIcon(icon_88a335642815181057242e412a0379ad);\n        \n    \n            var marker_b60cfe61cfe8dc090e8d831b42dfdda1 = L.marker(\n                [28.57325457, -80.64689529],\n                {}\n            ).addTo(marker_cluster_fc5d5465a587b88785a92da72965d1dd);\n        \n    \n            var icon_23f60893771216943e127c508228f775 = L.AwesomeMarkers.icon(\n                {&quot;extraClasses&quot;: &quot;fa-rotate-0&quot;, &quot;icon&quot;: &quot;info-sign&quot;, &quot;iconColor&quot;: &quot;red&quot;, &quot;markerColor&quot;: &quot;white&quot;, &quot;prefix&quot;: &quot;glyphicon&quot;}\n            );\n            marker_b60cfe61cfe8dc090e8d831b42dfdda1.setIcon(icon_23f60893771216943e127c508228f775);\n        \n    \n            var marker_96ce880fe70f7e514efa39d91b09fd90 = L.marker(\n                [28.57325457, -80.64689529],\n                {}\n            ).addTo(marker_cluster_fc5d5465a587b88785a92da72965d1dd);\n        \n    \n            var icon_f404b42d59585e58b46446e50897685a = L.AwesomeMarkers.icon(\n                {&quot;extraClasses&quot;: &quot;fa-rotate-0&quot;, &quot;icon&quot;: &quot;info-sign&quot;, &quot;iconColor&quot;: &quot;green&quot;, &quot;markerColor&quot;: &quot;white&quot;, &quot;prefix&quot;: &quot;glyphicon&quot;}\n            );\n            marker_96ce880fe70f7e514efa39d91b09fd90.setIcon(icon_f404b42d59585e58b46446e50897685a);\n        \n    \n            var marker_216f3f0c987c542c5e93d11f7ee19851 = L.marker(\n                [28.57325457, -80.64689529],\n                {}\n            ).addTo(marker_cluster_fc5d5465a587b88785a92da72965d1dd);\n        \n    \n            var icon_43e0b892c517d19fc646365757bc79ce = L.AwesomeMarkers.icon(\n                {&quot;extraClasses&quot;: &quot;fa-rotate-0&quot;, &quot;icon&quot;: &quot;info-sign&quot;, &quot;iconColor&quot;: &quot;green&quot;, &quot;markerColor&quot;: &quot;white&quot;, &quot;prefix&quot;: &quot;glyphicon&quot;}\n            );\n            marker_216f3f0c987c542c5e93d11f7ee19851.setIcon(icon_43e0b892c517d19fc646365757bc79ce);\n        \n    \n            var marker_3becb0eee65060a07c6e74608bd5aa1b = L.marker(\n                [28.57325457, -80.64689529],\n                {}\n            ).addTo(marker_cluster_fc5d5465a587b88785a92da72965d1dd);\n        \n    \n            var icon_c2bc517288cdcec421388df883c2f1d2 = L.AwesomeMarkers.icon(\n                {&quot;extraClasses&quot;: &quot;fa-rotate-0&quot;, &quot;icon&quot;: &quot;info-sign&quot;, &quot;iconColor&quot;: &quot;green&quot;, &quot;markerColor&quot;: &quot;white&quot;, &quot;prefix&quot;: &quot;glyphicon&quot;}\n            );\n            marker_3becb0eee65060a07c6e74608bd5aa1b.setIcon(icon_c2bc517288cdcec421388df883c2f1d2);\n        \n    \n            var marker_b137f95be09824f0f20b70ebf56a7b7f = L.marker(\n                [28.57325457, -80.64689529],\n                {}\n            ).addTo(marker_cluster_fc5d5465a587b88785a92da72965d1dd);\n        \n    \n            var icon_2bc6f0c6360c9a6cec47812cade6abfb = L.AwesomeMarkers.icon(\n                {&quot;extraClasses&quot;: &quot;fa-rotate-0&quot;, &quot;icon&quot;: &quot;info-sign&quot;, &quot;iconColor&quot;: &quot;green&quot;, &quot;markerColor&quot;: &quot;white&quot;, &quot;prefix&quot;: &quot;glyphicon&quot;}\n            );\n            marker_b137f95be09824f0f20b70ebf56a7b7f.setIcon(icon_2bc6f0c6360c9a6cec47812cade6abfb);\n        \n    \n            var marker_056f1ea2fc2de1403003a1487dd00c4e = L.marker(\n                [28.57325457, -80.64689529],\n                {}\n            ).addTo(marker_cluster_fc5d5465a587b88785a92da72965d1dd);\n        \n    \n            var icon_a00b2c65d40e7108e96d648f31e0d2a4 = L.AwesomeMarkers.icon(\n                {&quot;extraClasses&quot;: &quot;fa-rotate-0&quot;, &quot;icon&quot;: &quot;info-sign&quot;, &quot;iconColor&quot;: &quot;green&quot;, &quot;markerColor&quot;: &quot;white&quot;, &quot;prefix&quot;: &quot;glyphicon&quot;}\n            );\n            marker_056f1ea2fc2de1403003a1487dd00c4e.setIcon(icon_a00b2c65d40e7108e96d648f31e0d2a4);\n        \n    \n            var marker_c5ed23069fbddf6260bb8cf3fdd520ca = L.marker(\n                [28.56319718, -80.57682003],\n                {}\n            ).addTo(marker_cluster_fc5d5465a587b88785a92da72965d1dd);\n        \n    \n            var icon_0475f081f60f1ad5febefadb536facd3 = L.AwesomeMarkers.icon(\n                {&quot;extraClasses&quot;: &quot;fa-rotate-0&quot;, &quot;icon&quot;: &quot;info-sign&quot;, &quot;iconColor&quot;: &quot;green&quot;, &quot;markerColor&quot;: &quot;white&quot;, &quot;prefix&quot;: &quot;glyphicon&quot;}\n            );\n            marker_c5ed23069fbddf6260bb8cf3fdd520ca.setIcon(icon_0475f081f60f1ad5febefadb536facd3);\n        \n    \n            var marker_88057566cbee046bdd0ae4636b3f1d0d = L.marker(\n                [28.56319718, -80.57682003],\n                {}\n            ).addTo(marker_cluster_fc5d5465a587b88785a92da72965d1dd);\n        \n    \n            var icon_8a0b77e68e9f4c61335f1a2438f087a0 = L.AwesomeMarkers.icon(\n                {&quot;extraClasses&quot;: &quot;fa-rotate-0&quot;, &quot;icon&quot;: &quot;info-sign&quot;, &quot;iconColor&quot;: &quot;green&quot;, &quot;markerColor&quot;: &quot;white&quot;, &quot;prefix&quot;: &quot;glyphicon&quot;}\n            );\n            marker_88057566cbee046bdd0ae4636b3f1d0d.setIcon(icon_8a0b77e68e9f4c61335f1a2438f087a0);\n        \n    \n            var marker_fe613efde5a37f7256c118580c227e15 = L.marker(\n                [28.56319718, -80.57682003],\n                {}\n            ).addTo(marker_cluster_fc5d5465a587b88785a92da72965d1dd);\n        \n    \n            var icon_0d4d64ef022f44c881e8185111a95405 = L.AwesomeMarkers.icon(\n                {&quot;extraClasses&quot;: &quot;fa-rotate-0&quot;, &quot;icon&quot;: &quot;info-sign&quot;, &quot;iconColor&quot;: &quot;red&quot;, &quot;markerColor&quot;: &quot;white&quot;, &quot;prefix&quot;: &quot;glyphicon&quot;}\n            );\n            marker_fe613efde5a37f7256c118580c227e15.setIcon(icon_0d4d64ef022f44c881e8185111a95405);\n        \n    \n            var marker_53bfbb1fd770e29e593697092e4a7460 = L.marker(\n                [28.56319718, -80.57682003],\n                {}\n            ).addTo(marker_cluster_fc5d5465a587b88785a92da72965d1dd);\n        \n    \n            var icon_429e3fa79e8f45db4eceb3bc2eab2109 = L.AwesomeMarkers.icon(\n                {&quot;extraClasses&quot;: &quot;fa-rotate-0&quot;, &quot;icon&quot;: &quot;info-sign&quot;, &quot;iconColor&quot;: &quot;red&quot;, &quot;markerColor&quot;: &quot;white&quot;, &quot;prefix&quot;: &quot;glyphicon&quot;}\n            );\n            marker_53bfbb1fd770e29e593697092e4a7460.setIcon(icon_429e3fa79e8f45db4eceb3bc2eab2109);\n        \n    \n            var marker_2b64f7c93bbeab9f4e20af7d0af234a6 = L.marker(\n                [28.56319718, -80.57682003],\n                {}\n            ).addTo(marker_cluster_fc5d5465a587b88785a92da72965d1dd);\n        \n    \n            var icon_82eced3abc24688b752bb1e93b8b66f6 = L.AwesomeMarkers.icon(\n                {&quot;extraClasses&quot;: &quot;fa-rotate-0&quot;, &quot;icon&quot;: &quot;info-sign&quot;, &quot;iconColor&quot;: &quot;red&quot;, &quot;markerColor&quot;: &quot;white&quot;, &quot;prefix&quot;: &quot;glyphicon&quot;}\n            );\n            marker_2b64f7c93bbeab9f4e20af7d0af234a6.setIcon(icon_82eced3abc24688b752bb1e93b8b66f6);\n        \n    \n            var marker_ff525ceaf85b558181f4c6562670ef44 = L.marker(\n                [28.56319718, -80.57682003],\n                {}\n            ).addTo(marker_cluster_fc5d5465a587b88785a92da72965d1dd);\n        \n    \n            var icon_16a2b837255d0ec772742015e13d308f = L.AwesomeMarkers.icon(\n                {&quot;extraClasses&quot;: &quot;fa-rotate-0&quot;, &quot;icon&quot;: &quot;info-sign&quot;, &quot;iconColor&quot;: &quot;green&quot;, &quot;markerColor&quot;: &quot;white&quot;, &quot;prefix&quot;: &quot;glyphicon&quot;}\n            );\n            marker_ff525ceaf85b558181f4c6562670ef44.setIcon(icon_16a2b837255d0ec772742015e13d308f);\n        \n    \n            var marker_09a5c7c6c632e8e7e2b94337539b6a14 = L.marker(\n                [28.56319718, -80.57682003],\n                {}\n            ).addTo(marker_cluster_fc5d5465a587b88785a92da72965d1dd);\n        \n    \n            var icon_767028ba0d37d55bef587c6e5b2d20d6 = L.AwesomeMarkers.icon(\n                {&quot;extraClasses&quot;: &quot;fa-rotate-0&quot;, &quot;icon&quot;: &quot;info-sign&quot;, &quot;iconColor&quot;: &quot;red&quot;, &quot;markerColor&quot;: &quot;white&quot;, &quot;prefix&quot;: &quot;glyphicon&quot;}\n            );\n            marker_09a5c7c6c632e8e7e2b94337539b6a14.setIcon(icon_767028ba0d37d55bef587c6e5b2d20d6);\n        \n&lt;/script&gt;\" style=\"position:absolute;width:100%;height:100%;left:0;top:0;border:none !important;\" allowfullscreen webkitallowfullscreen mozallowfullscreen></iframe></div></div>"
     },
     "metadata": {}
    }
   ]
  },
  {
   "cell_type": "markdown",
   "source": "Your updated map may look like the following screenshots:\n",
   "metadata": {
    "cell_id": "00047-adffc2ed-896f-4fef-9c79-1066a59a7b8b",
    "deepnote_cell_type": "markdown",
    "deepnote_cell_height": 52.390625
   }
  },
  {
   "cell_type": "markdown",
   "source": "<center>\n    <img src=\"https://cf-courses-data.s3.us.cloud-object-storage.appdomain.cloud/IBM-DS0321EN-SkillsNetwork/labs/module_3/images/launch_site_marker_cluster.png\" />\n</center>\n",
   "metadata": {
    "cell_id": "00048-6c3d0e8c-ca4f-4dcf-9085-75a645df691b",
    "deepnote_cell_type": "markdown",
    "deepnote_cell_height": 458.046875
   }
  },
  {
   "cell_type": "markdown",
   "source": "<center>\n    <img src=\"https://cf-courses-data.s3.us.cloud-object-storage.appdomain.cloud/IBM-DS0321EN-SkillsNetwork/labs/module_3/images/launch_site_marker_cluster_zoomed.png\" />\n</center>\n",
   "metadata": {
    "cell_id": "00049-1e59c1c7-b997-4d0f-86f6-d6df45e75f07",
    "deepnote_cell_type": "markdown",
    "deepnote_cell_height": 516.171875
   }
  },
  {
   "cell_type": "markdown",
   "source": "From the color-labeled markers in marker clusters, you should be able to easily identify which launch sites have relatively high success rates.\n",
   "metadata": {
    "cell_id": "00050-d3adc349-38d6-4e18-90d0-348353099a17",
    "deepnote_cell_type": "markdown",
    "deepnote_cell_height": 74.796875
   }
  },
  {
   "cell_type": "markdown",
   "source": "# TASK 3: Calculate the distances between a launch site to its proximities\n",
   "metadata": {
    "cell_id": "00051-e160a971-42fb-4541-9fb7-e77be24d689a",
    "deepnote_cell_type": "markdown",
    "deepnote_cell_height": 134
   }
  },
  {
   "cell_type": "markdown",
   "source": "Next, we need to explore and analyze the proximities of launch sites.\n",
   "metadata": {
    "cell_id": "00052-e499b1e0-887b-4d65-a727-57b84177960f",
    "deepnote_cell_type": "markdown",
    "deepnote_cell_height": 52.390625
   }
  },
  {
   "cell_type": "markdown",
   "source": "Let's first add a `MousePosition` on the map to get coordinate for a mouse over a point on the map. As such, while you are exploring the map, you can easily find the coordinates of any points of interests (such as railway)\n",
   "metadata": {
    "cell_id": "00053-ce7ec9d6-958a-45f0-a84b-9647b68e19ae",
    "deepnote_cell_type": "markdown",
    "deepnote_cell_height": 74.796875
   }
  },
  {
   "cell_type": "code",
   "metadata": {
    "cell_id": "00054-6ecb95b4-3dc1-4828-8404-47f03b0f1835",
    "deepnote_to_be_reexecuted": false,
    "source_hash": "ac98b4e7",
    "execution_start": 1656567337593,
    "execution_millis": 870,
    "deepnote_cell_type": "code",
    "deepnote_cell_height": 829.1875,
    "deepnote_output_heights": [
     480.1875
    ]
   },
   "source": "# Add Mouse Position to get the coordinate (Lat, Long) for a mouse over on the map\nformatter = \"function(num) {return L.Util.formatNum(num, 5);};\"\nmouse_position = MousePosition(\n    position='topright',\n    separator=' Long: ',\n    empty_string='NaN',\n    lng_first=False,\n    num_digits=20,\n    prefix='Lat:',\n    lat_formatter=formatter,\n    lng_formatter=formatter,\n)\n\nsite_map.add_child(mouse_position)\nsite_map",
   "execution_count": 14,
   "outputs": [
    {
     "output_type": "execute_result",
     "execution_count": 14,
     "data": {
      "text/plain": "<folium.folium.Map at 0x7f782f9f5a30>",
      "text/html": "<div style=\"width:100%;\"><div style=\"position:relative;width:100%;height:0;padding-bottom:60%;\"><span style=\"color:#565656\">Make this Notebook Trusted to load map: File -> Trust Notebook</span><iframe srcdoc=\"&lt;!DOCTYPE html&gt;\n&lt;head&gt;    \n    &lt;meta http-equiv=&quot;content-type&quot; content=&quot;text/html; charset=UTF-8&quot; /&gt;\n    \n        &lt;script&gt;\n            L_NO_TOUCH = false;\n            L_DISABLE_3D = false;\n        &lt;/script&gt;\n    \n    &lt;style&gt;html, body {width: 100%;height: 100%;margin: 0;padding: 0;}&lt;/style&gt;\n    &lt;style&gt;#map {position:absolute;top:0;bottom:0;right:0;left:0;}&lt;/style&gt;\n    &lt;script src=&quot;https://cdn.jsdelivr.net/npm/leaflet@1.6.0/dist/leaflet.js&quot;&gt;&lt;/script&gt;\n    &lt;script src=&quot;https://code.jquery.com/jquery-1.12.4.min.js&quot;&gt;&lt;/script&gt;\n    &lt;script src=&quot;https://maxcdn.bootstrapcdn.com/bootstrap/3.2.0/js/bootstrap.min.js&quot;&gt;&lt;/script&gt;\n    &lt;script src=&quot;https://cdnjs.cloudflare.com/ajax/libs/Leaflet.awesome-markers/2.0.2/leaflet.awesome-markers.js&quot;&gt;&lt;/script&gt;\n    &lt;link rel=&quot;stylesheet&quot; href=&quot;https://cdn.jsdelivr.net/npm/leaflet@1.6.0/dist/leaflet.css&quot;/&gt;\n    &lt;link rel=&quot;stylesheet&quot; href=&quot;https://maxcdn.bootstrapcdn.com/bootstrap/3.2.0/css/bootstrap.min.css&quot;/&gt;\n    &lt;link rel=&quot;stylesheet&quot; href=&quot;https://maxcdn.bootstrapcdn.com/bootstrap/3.2.0/css/bootstrap-theme.min.css&quot;/&gt;\n    &lt;link rel=&quot;stylesheet&quot; href=&quot;https://maxcdn.bootstrapcdn.com/font-awesome/4.6.3/css/font-awesome.min.css&quot;/&gt;\n    &lt;link rel=&quot;stylesheet&quot; href=&quot;https://cdnjs.cloudflare.com/ajax/libs/Leaflet.awesome-markers/2.0.2/leaflet.awesome-markers.css&quot;/&gt;\n    &lt;link rel=&quot;stylesheet&quot; href=&quot;https://cdn.jsdelivr.net/gh/python-visualization/folium/folium/templates/leaflet.awesome.rotate.min.css&quot;/&gt;\n    \n            &lt;meta name=&quot;viewport&quot; content=&quot;width=device-width,\n                initial-scale=1.0, maximum-scale=1.0, user-scalable=no&quot; /&gt;\n            &lt;style&gt;\n                #map_c4d7c0e15bf4ba574a819fb59776da28 {\n                    position: relative;\n                    width: 100.0%;\n                    height: 100.0%;\n                    left: 0.0%;\n                    top: 0.0%;\n                }\n            &lt;/style&gt;\n        \n    &lt;script src=&quot;https://cdnjs.cloudflare.com/ajax/libs/leaflet.markercluster/1.1.0/leaflet.markercluster.js&quot;&gt;&lt;/script&gt;\n    &lt;link rel=&quot;stylesheet&quot; href=&quot;https://cdnjs.cloudflare.com/ajax/libs/leaflet.markercluster/1.1.0/MarkerCluster.css&quot;/&gt;\n    &lt;link rel=&quot;stylesheet&quot; href=&quot;https://cdnjs.cloudflare.com/ajax/libs/leaflet.markercluster/1.1.0/MarkerCluster.Default.css&quot;/&gt;\n    &lt;script src=&quot;https://cdn.jsdelivr.net/gh/ardhi/Leaflet.MousePosition/src/L.Control.MousePosition.min.js&quot;&gt;&lt;/script&gt;\n    &lt;link rel=&quot;stylesheet&quot; href=&quot;https://cdn.jsdelivr.net/gh/ardhi/Leaflet.MousePosition/src/L.Control.MousePosition.min.css&quot;/&gt;\n&lt;/head&gt;\n&lt;body&gt;    \n    \n            &lt;div class=&quot;folium-map&quot; id=&quot;map_c4d7c0e15bf4ba574a819fb59776da28&quot; &gt;&lt;/div&gt;\n        \n&lt;/body&gt;\n&lt;script&gt;    \n    \n            var map_c4d7c0e15bf4ba574a819fb59776da28 = L.map(\n                &quot;map_c4d7c0e15bf4ba574a819fb59776da28&quot;,\n                {\n                    center: [29.559684888503615, -95.0830971930759],\n                    crs: L.CRS.EPSG3857,\n                    zoom: 5,\n                    zoomControl: true,\n                    preferCanvas: false,\n                }\n            );\n\n            \n\n        \n    \n            var tile_layer_e19753bcbdf6f95aa0451e307612d5c9 = L.tileLayer(\n                &quot;https://{s}.tile.openstreetmap.org/{z}/{x}/{y}.png&quot;,\n                {&quot;attribution&quot;: &quot;Data by \\u0026copy; \\u003ca href=\\&quot;http://openstreetmap.org\\&quot;\\u003eOpenStreetMap\\u003c/a\\u003e, under \\u003ca href=\\&quot;http://www.openstreetmap.org/copyright\\&quot;\\u003eODbL\\u003c/a\\u003e.&quot;, &quot;detectRetina&quot;: false, &quot;maxNativeZoom&quot;: 18, &quot;maxZoom&quot;: 18, &quot;minZoom&quot;: 0, &quot;noWrap&quot;: false, &quot;opacity&quot;: 1, &quot;subdomains&quot;: &quot;abc&quot;, &quot;tms&quot;: false}\n            ).addTo(map_c4d7c0e15bf4ba574a819fb59776da28);\n        \n    \n            var circle_9a2dd9ba1727e6709304522178b0980f = L.circle(\n                [28.56230197, -80.57735648],\n                {&quot;bubblingMouseEvents&quot;: true, &quot;color&quot;: &quot;#d35400&quot;, &quot;dashArray&quot;: null, &quot;dashOffset&quot;: null, &quot;fill&quot;: true, &quot;fillColor&quot;: &quot;#d35400&quot;, &quot;fillOpacity&quot;: 0.2, &quot;fillRule&quot;: &quot;evenodd&quot;, &quot;lineCap&quot;: &quot;round&quot;, &quot;lineJoin&quot;: &quot;round&quot;, &quot;opacity&quot;: 1.0, &quot;radius&quot;: 1000, &quot;stroke&quot;: true, &quot;weight&quot;: 3}\n            ).addTo(map_c4d7c0e15bf4ba574a819fb59776da28);\n        \n    \n        var popup_edf17813207416af02158b23e180af45 = L.popup({&quot;maxWidth&quot;: &quot;100%&quot;});\n\n        \n            var html_aff7c86cd31f5beb9fb64d4d2e8eb863 = $(`&lt;div id=&quot;html_aff7c86cd31f5beb9fb64d4d2e8eb863&quot; style=&quot;width: 100.0%; height: 100.0%;&quot;&gt;CCAFS LC-40&lt;/div&gt;`)[0];\n            popup_edf17813207416af02158b23e180af45.setContent(html_aff7c86cd31f5beb9fb64d4d2e8eb863);\n        \n\n        circle_9a2dd9ba1727e6709304522178b0980f.bindPopup(popup_edf17813207416af02158b23e180af45)\n        ;\n\n        \n    \n    \n            var marker_85ae247116669446673da0096831ea5e = L.marker(\n                [28.56230197, -80.57735648],\n                {}\n            ).addTo(map_c4d7c0e15bf4ba574a819fb59776da28);\n        \n    \n            var div_icon_ea38d5a9f6abfb2d71b5624327709004 = L.divIcon({&quot;className&quot;: &quot;empty&quot;, &quot;html&quot;: &quot;\\u003cdiv style=\\&quot;font-size: 12; color:#d35400;\\&quot;\\u003e\\u003cb\\u003eCCAFS LC-40\\u003c/b\\u003e\\u003c/div\\u003e&quot;, &quot;iconAnchor&quot;: [0, 0], &quot;iconSize&quot;: [20, 20]});\n            marker_85ae247116669446673da0096831ea5e.setIcon(div_icon_ea38d5a9f6abfb2d71b5624327709004);\n        \n    \n            var circle_dd0a3b3e09afe4d96dd1d0a4ef16322a = L.circle(\n                [28.56319718, -80.57682003],\n                {&quot;bubblingMouseEvents&quot;: true, &quot;color&quot;: &quot;#d35400&quot;, &quot;dashArray&quot;: null, &quot;dashOffset&quot;: null, &quot;fill&quot;: true, &quot;fillColor&quot;: &quot;#d35400&quot;, &quot;fillOpacity&quot;: 0.2, &quot;fillRule&quot;: &quot;evenodd&quot;, &quot;lineCap&quot;: &quot;round&quot;, &quot;lineJoin&quot;: &quot;round&quot;, &quot;opacity&quot;: 1.0, &quot;radius&quot;: 1000, &quot;stroke&quot;: true, &quot;weight&quot;: 3}\n            ).addTo(map_c4d7c0e15bf4ba574a819fb59776da28);\n        \n    \n        var popup_50952ab8f3bd013bea64e4e88464d85c = L.popup({&quot;maxWidth&quot;: &quot;100%&quot;});\n\n        \n            var html_d4a8c8d3101ea921319f9042ed48ea15 = $(`&lt;div id=&quot;html_d4a8c8d3101ea921319f9042ed48ea15&quot; style=&quot;width: 100.0%; height: 100.0%;&quot;&gt;CCAFS SLC-40&lt;/div&gt;`)[0];\n            popup_50952ab8f3bd013bea64e4e88464d85c.setContent(html_d4a8c8d3101ea921319f9042ed48ea15);\n        \n\n        circle_dd0a3b3e09afe4d96dd1d0a4ef16322a.bindPopup(popup_50952ab8f3bd013bea64e4e88464d85c)\n        ;\n\n        \n    \n    \n            var marker_f0e94b3b99e4cf8f18869247d8235d29 = L.marker(\n                [28.56319718, -80.57682003],\n                {}\n            ).addTo(map_c4d7c0e15bf4ba574a819fb59776da28);\n        \n    \n            var div_icon_dff0024387c4275fc334efcdb0a32917 = L.divIcon({&quot;className&quot;: &quot;empty&quot;, &quot;html&quot;: &quot;\\u003cdiv style=\\&quot;font-size: 12; color:#d35400;\\&quot;\\u003e\\u003cb\\u003eCCAFS SLC-40\\u003c/b\\u003e\\u003c/div\\u003e&quot;, &quot;iconAnchor&quot;: [0, 0], &quot;iconSize&quot;: [20, 20]});\n            marker_f0e94b3b99e4cf8f18869247d8235d29.setIcon(div_icon_dff0024387c4275fc334efcdb0a32917);\n        \n    \n            var circle_2a468d07af7f5542792e60df9e4d7609 = L.circle(\n                [28.57325457, -80.64689529],\n                {&quot;bubblingMouseEvents&quot;: true, &quot;color&quot;: &quot;#d35400&quot;, &quot;dashArray&quot;: null, &quot;dashOffset&quot;: null, &quot;fill&quot;: true, &quot;fillColor&quot;: &quot;#d35400&quot;, &quot;fillOpacity&quot;: 0.2, &quot;fillRule&quot;: &quot;evenodd&quot;, &quot;lineCap&quot;: &quot;round&quot;, &quot;lineJoin&quot;: &quot;round&quot;, &quot;opacity&quot;: 1.0, &quot;radius&quot;: 1000, &quot;stroke&quot;: true, &quot;weight&quot;: 3}\n            ).addTo(map_c4d7c0e15bf4ba574a819fb59776da28);\n        \n    \n        var popup_54f24431a77de83ad7bb5cf698df3fc6 = L.popup({&quot;maxWidth&quot;: &quot;100%&quot;});\n\n        \n            var html_a4b3ef64a769feeb6f318488de01af5c = $(`&lt;div id=&quot;html_a4b3ef64a769feeb6f318488de01af5c&quot; style=&quot;width: 100.0%; height: 100.0%;&quot;&gt;KSC LC-39A&lt;/div&gt;`)[0];\n            popup_54f24431a77de83ad7bb5cf698df3fc6.setContent(html_a4b3ef64a769feeb6f318488de01af5c);\n        \n\n        circle_2a468d07af7f5542792e60df9e4d7609.bindPopup(popup_54f24431a77de83ad7bb5cf698df3fc6)\n        ;\n\n        \n    \n    \n            var marker_a5900f72c48ba40a4172f5159db67212 = L.marker(\n                [28.57325457, -80.64689529],\n                {}\n            ).addTo(map_c4d7c0e15bf4ba574a819fb59776da28);\n        \n    \n            var div_icon_577196be5330e6c23d7b7a70a13de1ff = L.divIcon({&quot;className&quot;: &quot;empty&quot;, &quot;html&quot;: &quot;\\u003cdiv style=\\&quot;font-size: 12; color:#d35400;\\&quot;\\u003e\\u003cb\\u003eKSC LC-39A\\u003c/b\\u003e\\u003c/div\\u003e&quot;, &quot;iconAnchor&quot;: [0, 0], &quot;iconSize&quot;: [20, 20]});\n            marker_a5900f72c48ba40a4172f5159db67212.setIcon(div_icon_577196be5330e6c23d7b7a70a13de1ff);\n        \n    \n            var circle_6e26dcd6938361e683e04e248946679f = L.circle(\n                [34.63283416, -120.6107455],\n                {&quot;bubblingMouseEvents&quot;: true, &quot;color&quot;: &quot;#d35400&quot;, &quot;dashArray&quot;: null, &quot;dashOffset&quot;: null, &quot;fill&quot;: true, &quot;fillColor&quot;: &quot;#d35400&quot;, &quot;fillOpacity&quot;: 0.2, &quot;fillRule&quot;: &quot;evenodd&quot;, &quot;lineCap&quot;: &quot;round&quot;, &quot;lineJoin&quot;: &quot;round&quot;, &quot;opacity&quot;: 1.0, &quot;radius&quot;: 1000, &quot;stroke&quot;: true, &quot;weight&quot;: 3}\n            ).addTo(map_c4d7c0e15bf4ba574a819fb59776da28);\n        \n    \n        var popup_edc27e7218e38a401f33306be09f86eb = L.popup({&quot;maxWidth&quot;: &quot;100%&quot;});\n\n        \n            var html_1984e07ce01affc7f972fe1397b2f814 = $(`&lt;div id=&quot;html_1984e07ce01affc7f972fe1397b2f814&quot; style=&quot;width: 100.0%; height: 100.0%;&quot;&gt;VAFB SLC-4E&lt;/div&gt;`)[0];\n            popup_edc27e7218e38a401f33306be09f86eb.setContent(html_1984e07ce01affc7f972fe1397b2f814);\n        \n\n        circle_6e26dcd6938361e683e04e248946679f.bindPopup(popup_edc27e7218e38a401f33306be09f86eb)\n        ;\n\n        \n    \n    \n            var marker_23e288a134a2f053236a32cde9c8df58 = L.marker(\n                [34.63283416, -120.6107455],\n                {}\n            ).addTo(map_c4d7c0e15bf4ba574a819fb59776da28);\n        \n    \n            var div_icon_85fe4e94abaf612357beb3255df5d9a5 = L.divIcon({&quot;className&quot;: &quot;empty&quot;, &quot;html&quot;: &quot;\\u003cdiv style=\\&quot;font-size: 12; color:#d35400;\\&quot;\\u003e\\u003cb\\u003eVAFB SLC-4E\\u003c/b\\u003e\\u003c/div\\u003e&quot;, &quot;iconAnchor&quot;: [0, 0], &quot;iconSize&quot;: [20, 20]});\n            marker_23e288a134a2f053236a32cde9c8df58.setIcon(div_icon_85fe4e94abaf612357beb3255df5d9a5);\n        \n    \n            var marker_cluster_fc5d5465a587b88785a92da72965d1dd = L.markerClusterGroup(\n                {}\n            );\n            map_c4d7c0e15bf4ba574a819fb59776da28.addLayer(marker_cluster_fc5d5465a587b88785a92da72965d1dd);\n        \n    \n            var marker_12c9090153d337c5c7338ab6a90a16e0 = L.marker(\n                [28.56230197, -80.57735648],\n                {}\n            ).addTo(marker_cluster_fc5d5465a587b88785a92da72965d1dd);\n        \n    \n            var icon_4e1070f44ef0273036102132bcb2a6ea = L.AwesomeMarkers.icon(\n                {&quot;extraClasses&quot;: &quot;fa-rotate-0&quot;, &quot;icon&quot;: &quot;info-sign&quot;, &quot;iconColor&quot;: &quot;red&quot;, &quot;markerColor&quot;: &quot;white&quot;, &quot;prefix&quot;: &quot;glyphicon&quot;}\n            );\n            marker_12c9090153d337c5c7338ab6a90a16e0.setIcon(icon_4e1070f44ef0273036102132bcb2a6ea);\n        \n    \n            var marker_c148023bf0d26da90df45eadf64f4816 = L.marker(\n                [28.56230197, -80.57735648],\n                {}\n            ).addTo(marker_cluster_fc5d5465a587b88785a92da72965d1dd);\n        \n    \n            var icon_6a6a4c437e1d950b5a0669b90b9565bd = L.AwesomeMarkers.icon(\n                {&quot;extraClasses&quot;: &quot;fa-rotate-0&quot;, &quot;icon&quot;: &quot;info-sign&quot;, &quot;iconColor&quot;: &quot;red&quot;, &quot;markerColor&quot;: &quot;white&quot;, &quot;prefix&quot;: &quot;glyphicon&quot;}\n            );\n            marker_c148023bf0d26da90df45eadf64f4816.setIcon(icon_6a6a4c437e1d950b5a0669b90b9565bd);\n        \n    \n            var marker_7c6ab1318484b2160cfe731fdab0bef4 = L.marker(\n                [28.56230197, -80.57735648],\n                {}\n            ).addTo(marker_cluster_fc5d5465a587b88785a92da72965d1dd);\n        \n    \n            var icon_9fced1e18824083519017ece6b1d02ff = L.AwesomeMarkers.icon(\n                {&quot;extraClasses&quot;: &quot;fa-rotate-0&quot;, &quot;icon&quot;: &quot;info-sign&quot;, &quot;iconColor&quot;: &quot;red&quot;, &quot;markerColor&quot;: &quot;white&quot;, &quot;prefix&quot;: &quot;glyphicon&quot;}\n            );\n            marker_7c6ab1318484b2160cfe731fdab0bef4.setIcon(icon_9fced1e18824083519017ece6b1d02ff);\n        \n    \n            var marker_d870a3039f54255d70e93e62e9b62ec3 = L.marker(\n                [28.56230197, -80.57735648],\n                {}\n            ).addTo(marker_cluster_fc5d5465a587b88785a92da72965d1dd);\n        \n    \n            var icon_5b00989f51d246d5f5ecc75772ce7a21 = L.AwesomeMarkers.icon(\n                {&quot;extraClasses&quot;: &quot;fa-rotate-0&quot;, &quot;icon&quot;: &quot;info-sign&quot;, &quot;iconColor&quot;: &quot;red&quot;, &quot;markerColor&quot;: &quot;white&quot;, &quot;prefix&quot;: &quot;glyphicon&quot;}\n            );\n            marker_d870a3039f54255d70e93e62e9b62ec3.setIcon(icon_5b00989f51d246d5f5ecc75772ce7a21);\n        \n    \n            var marker_78b417a64e13289288a0c28e12a44216 = L.marker(\n                [28.56230197, -80.57735648],\n                {}\n            ).addTo(marker_cluster_fc5d5465a587b88785a92da72965d1dd);\n        \n    \n            var icon_61ba0976cd88af2cbd4b1d6f47892dd1 = L.AwesomeMarkers.icon(\n                {&quot;extraClasses&quot;: &quot;fa-rotate-0&quot;, &quot;icon&quot;: &quot;info-sign&quot;, &quot;iconColor&quot;: &quot;red&quot;, &quot;markerColor&quot;: &quot;white&quot;, &quot;prefix&quot;: &quot;glyphicon&quot;}\n            );\n            marker_78b417a64e13289288a0c28e12a44216.setIcon(icon_61ba0976cd88af2cbd4b1d6f47892dd1);\n        \n    \n            var marker_49467c2a8290726e388450fcc10f2b09 = L.marker(\n                [28.56230197, -80.57735648],\n                {}\n            ).addTo(marker_cluster_fc5d5465a587b88785a92da72965d1dd);\n        \n    \n            var icon_1479236b9b58d70d14354560c0a6a6b5 = L.AwesomeMarkers.icon(\n                {&quot;extraClasses&quot;: &quot;fa-rotate-0&quot;, &quot;icon&quot;: &quot;info-sign&quot;, &quot;iconColor&quot;: &quot;red&quot;, &quot;markerColor&quot;: &quot;white&quot;, &quot;prefix&quot;: &quot;glyphicon&quot;}\n            );\n            marker_49467c2a8290726e388450fcc10f2b09.setIcon(icon_1479236b9b58d70d14354560c0a6a6b5);\n        \n    \n            var marker_9fffd56c0b426f831d8d763e65bb4d1f = L.marker(\n                [28.56230197, -80.57735648],\n                {}\n            ).addTo(marker_cluster_fc5d5465a587b88785a92da72965d1dd);\n        \n    \n            var icon_579f4873cfd59ddd23a351c5e62673da = L.AwesomeMarkers.icon(\n                {&quot;extraClasses&quot;: &quot;fa-rotate-0&quot;, &quot;icon&quot;: &quot;info-sign&quot;, &quot;iconColor&quot;: &quot;red&quot;, &quot;markerColor&quot;: &quot;white&quot;, &quot;prefix&quot;: &quot;glyphicon&quot;}\n            );\n            marker_9fffd56c0b426f831d8d763e65bb4d1f.setIcon(icon_579f4873cfd59ddd23a351c5e62673da);\n        \n    \n            var marker_3a538321374a16c9ae1d5ea705dc3b97 = L.marker(\n                [28.56230197, -80.57735648],\n                {}\n            ).addTo(marker_cluster_fc5d5465a587b88785a92da72965d1dd);\n        \n    \n            var icon_b5c677340edf67494feee762db15cd66 = L.AwesomeMarkers.icon(\n                {&quot;extraClasses&quot;: &quot;fa-rotate-0&quot;, &quot;icon&quot;: &quot;info-sign&quot;, &quot;iconColor&quot;: &quot;red&quot;, &quot;markerColor&quot;: &quot;white&quot;, &quot;prefix&quot;: &quot;glyphicon&quot;}\n            );\n            marker_3a538321374a16c9ae1d5ea705dc3b97.setIcon(icon_b5c677340edf67494feee762db15cd66);\n        \n    \n            var marker_9c440aa000f37ec4d2c778ffe1aaa3c3 = L.marker(\n                [28.56230197, -80.57735648],\n                {}\n            ).addTo(marker_cluster_fc5d5465a587b88785a92da72965d1dd);\n        \n    \n            var icon_16345e3bd64d3e210afec16a4ca94219 = L.AwesomeMarkers.icon(\n                {&quot;extraClasses&quot;: &quot;fa-rotate-0&quot;, &quot;icon&quot;: &quot;info-sign&quot;, &quot;iconColor&quot;: &quot;red&quot;, &quot;markerColor&quot;: &quot;white&quot;, &quot;prefix&quot;: &quot;glyphicon&quot;}\n            );\n            marker_9c440aa000f37ec4d2c778ffe1aaa3c3.setIcon(icon_16345e3bd64d3e210afec16a4ca94219);\n        \n    \n            var marker_48b770c868ae7ddbaadbc57e46f792f1 = L.marker(\n                [28.56230197, -80.57735648],\n                {}\n            ).addTo(marker_cluster_fc5d5465a587b88785a92da72965d1dd);\n        \n    \n            var icon_43ed37b64b8d812350ef18de43c25bac = L.AwesomeMarkers.icon(\n                {&quot;extraClasses&quot;: &quot;fa-rotate-0&quot;, &quot;icon&quot;: &quot;info-sign&quot;, &quot;iconColor&quot;: &quot;red&quot;, &quot;markerColor&quot;: &quot;white&quot;, &quot;prefix&quot;: &quot;glyphicon&quot;}\n            );\n            marker_48b770c868ae7ddbaadbc57e46f792f1.setIcon(icon_43ed37b64b8d812350ef18de43c25bac);\n        \n    \n            var marker_4483a00c3946bca3554724861b663f3e = L.marker(\n                [28.56230197, -80.57735648],\n                {}\n            ).addTo(marker_cluster_fc5d5465a587b88785a92da72965d1dd);\n        \n    \n            var icon_73d63309953d70fddeaeb909c5e755e3 = L.AwesomeMarkers.icon(\n                {&quot;extraClasses&quot;: &quot;fa-rotate-0&quot;, &quot;icon&quot;: &quot;info-sign&quot;, &quot;iconColor&quot;: &quot;red&quot;, &quot;markerColor&quot;: &quot;white&quot;, &quot;prefix&quot;: &quot;glyphicon&quot;}\n            );\n            marker_4483a00c3946bca3554724861b663f3e.setIcon(icon_73d63309953d70fddeaeb909c5e755e3);\n        \n    \n            var marker_79fb9456aae3fd166bef7fe7f5b72cfe = L.marker(\n                [28.56230197, -80.57735648],\n                {}\n            ).addTo(marker_cluster_fc5d5465a587b88785a92da72965d1dd);\n        \n    \n            var icon_2c76699e5761fa619b94ead8b672ba67 = L.AwesomeMarkers.icon(\n                {&quot;extraClasses&quot;: &quot;fa-rotate-0&quot;, &quot;icon&quot;: &quot;info-sign&quot;, &quot;iconColor&quot;: &quot;red&quot;, &quot;markerColor&quot;: &quot;white&quot;, &quot;prefix&quot;: &quot;glyphicon&quot;}\n            );\n            marker_79fb9456aae3fd166bef7fe7f5b72cfe.setIcon(icon_2c76699e5761fa619b94ead8b672ba67);\n        \n    \n            var marker_b8ad9925a78f5cbdd0a7477f7fad4336 = L.marker(\n                [28.56230197, -80.57735648],\n                {}\n            ).addTo(marker_cluster_fc5d5465a587b88785a92da72965d1dd);\n        \n    \n            var icon_cd0568d10243b9b0cbdc92a579e68f78 = L.AwesomeMarkers.icon(\n                {&quot;extraClasses&quot;: &quot;fa-rotate-0&quot;, &quot;icon&quot;: &quot;info-sign&quot;, &quot;iconColor&quot;: &quot;red&quot;, &quot;markerColor&quot;: &quot;white&quot;, &quot;prefix&quot;: &quot;glyphicon&quot;}\n            );\n            marker_b8ad9925a78f5cbdd0a7477f7fad4336.setIcon(icon_cd0568d10243b9b0cbdc92a579e68f78);\n        \n    \n            var marker_b5b49036fa009cd34ff21fcd6ce0c2d2 = L.marker(\n                [28.56230197, -80.57735648],\n                {}\n            ).addTo(marker_cluster_fc5d5465a587b88785a92da72965d1dd);\n        \n    \n            var icon_3720e5434273ad3a7825d308bba9d554 = L.AwesomeMarkers.icon(\n                {&quot;extraClasses&quot;: &quot;fa-rotate-0&quot;, &quot;icon&quot;: &quot;info-sign&quot;, &quot;iconColor&quot;: &quot;red&quot;, &quot;markerColor&quot;: &quot;white&quot;, &quot;prefix&quot;: &quot;glyphicon&quot;}\n            );\n            marker_b5b49036fa009cd34ff21fcd6ce0c2d2.setIcon(icon_3720e5434273ad3a7825d308bba9d554);\n        \n    \n            var marker_bccad583bc0ef406109f597db233a090 = L.marker(\n                [28.56230197, -80.57735648],\n                {}\n            ).addTo(marker_cluster_fc5d5465a587b88785a92da72965d1dd);\n        \n    \n            var icon_1e3ec5aa5d24d7c7e1f5156afdb132b2 = L.AwesomeMarkers.icon(\n                {&quot;extraClasses&quot;: &quot;fa-rotate-0&quot;, &quot;icon&quot;: &quot;info-sign&quot;, &quot;iconColor&quot;: &quot;red&quot;, &quot;markerColor&quot;: &quot;white&quot;, &quot;prefix&quot;: &quot;glyphicon&quot;}\n            );\n            marker_bccad583bc0ef406109f597db233a090.setIcon(icon_1e3ec5aa5d24d7c7e1f5156afdb132b2);\n        \n    \n            var marker_1d33a3100c6fc5aa380111c85ae535f8 = L.marker(\n                [28.56230197, -80.57735648],\n                {}\n            ).addTo(marker_cluster_fc5d5465a587b88785a92da72965d1dd);\n        \n    \n            var icon_48940c2da33fbeb6ea2932bc094c5c4e = L.AwesomeMarkers.icon(\n                {&quot;extraClasses&quot;: &quot;fa-rotate-0&quot;, &quot;icon&quot;: &quot;info-sign&quot;, &quot;iconColor&quot;: &quot;red&quot;, &quot;markerColor&quot;: &quot;white&quot;, &quot;prefix&quot;: &quot;glyphicon&quot;}\n            );\n            marker_1d33a3100c6fc5aa380111c85ae535f8.setIcon(icon_48940c2da33fbeb6ea2932bc094c5c4e);\n        \n    \n            var marker_da15c4319827dcd49ce9fa7df257be24 = L.marker(\n                [28.56230197, -80.57735648],\n                {}\n            ).addTo(marker_cluster_fc5d5465a587b88785a92da72965d1dd);\n        \n    \n            var icon_f5552d1a85f67415b6e262e28af33e6e = L.AwesomeMarkers.icon(\n                {&quot;extraClasses&quot;: &quot;fa-rotate-0&quot;, &quot;icon&quot;: &quot;info-sign&quot;, &quot;iconColor&quot;: &quot;red&quot;, &quot;markerColor&quot;: &quot;white&quot;, &quot;prefix&quot;: &quot;glyphicon&quot;}\n            );\n            marker_da15c4319827dcd49ce9fa7df257be24.setIcon(icon_f5552d1a85f67415b6e262e28af33e6e);\n        \n    \n            var marker_3a7cce6a5a11b2c7b2c17996f56f0362 = L.marker(\n                [28.56230197, -80.57735648],\n                {}\n            ).addTo(marker_cluster_fc5d5465a587b88785a92da72965d1dd);\n        \n    \n            var icon_f090ca3aaaaedb02129d840b34630012 = L.AwesomeMarkers.icon(\n                {&quot;extraClasses&quot;: &quot;fa-rotate-0&quot;, &quot;icon&quot;: &quot;info-sign&quot;, &quot;iconColor&quot;: &quot;green&quot;, &quot;markerColor&quot;: &quot;white&quot;, &quot;prefix&quot;: &quot;glyphicon&quot;}\n            );\n            marker_3a7cce6a5a11b2c7b2c17996f56f0362.setIcon(icon_f090ca3aaaaedb02129d840b34630012);\n        \n    \n            var marker_11d643aae902c0785b9f34d78b920639 = L.marker(\n                [28.56230197, -80.57735648],\n                {}\n            ).addTo(marker_cluster_fc5d5465a587b88785a92da72965d1dd);\n        \n    \n            var icon_f3db0108f7fd5edf1593b7896166b1aa = L.AwesomeMarkers.icon(\n                {&quot;extraClasses&quot;: &quot;fa-rotate-0&quot;, &quot;icon&quot;: &quot;info-sign&quot;, &quot;iconColor&quot;: &quot;green&quot;, &quot;markerColor&quot;: &quot;white&quot;, &quot;prefix&quot;: &quot;glyphicon&quot;}\n            );\n            marker_11d643aae902c0785b9f34d78b920639.setIcon(icon_f3db0108f7fd5edf1593b7896166b1aa);\n        \n    \n            var marker_b77d2c1208aa02d5af4a214c1c93f463 = L.marker(\n                [28.56230197, -80.57735648],\n                {}\n            ).addTo(marker_cluster_fc5d5465a587b88785a92da72965d1dd);\n        \n    \n            var icon_168cc393ed076d37224b9f96a121832d = L.AwesomeMarkers.icon(\n                {&quot;extraClasses&quot;: &quot;fa-rotate-0&quot;, &quot;icon&quot;: &quot;info-sign&quot;, &quot;iconColor&quot;: &quot;red&quot;, &quot;markerColor&quot;: &quot;white&quot;, &quot;prefix&quot;: &quot;glyphicon&quot;}\n            );\n            marker_b77d2c1208aa02d5af4a214c1c93f463.setIcon(icon_168cc393ed076d37224b9f96a121832d);\n        \n    \n            var marker_d24a4b885fa3d04d51585edd86d2a794 = L.marker(\n                [28.56230197, -80.57735648],\n                {}\n            ).addTo(marker_cluster_fc5d5465a587b88785a92da72965d1dd);\n        \n    \n            var icon_6bd809104e085dd0d8a5b0d4b076a6ac = L.AwesomeMarkers.icon(\n                {&quot;extraClasses&quot;: &quot;fa-rotate-0&quot;, &quot;icon&quot;: &quot;info-sign&quot;, &quot;iconColor&quot;: &quot;green&quot;, &quot;markerColor&quot;: &quot;white&quot;, &quot;prefix&quot;: &quot;glyphicon&quot;}\n            );\n            marker_d24a4b885fa3d04d51585edd86d2a794.setIcon(icon_6bd809104e085dd0d8a5b0d4b076a6ac);\n        \n    \n            var marker_47df843f11c6eb3372986409b218c1c4 = L.marker(\n                [28.56230197, -80.57735648],\n                {}\n            ).addTo(marker_cluster_fc5d5465a587b88785a92da72965d1dd);\n        \n    \n            var icon_67619ab20e2259293b91fa564caaa255 = L.AwesomeMarkers.icon(\n                {&quot;extraClasses&quot;: &quot;fa-rotate-0&quot;, &quot;icon&quot;: &quot;info-sign&quot;, &quot;iconColor&quot;: &quot;green&quot;, &quot;markerColor&quot;: &quot;white&quot;, &quot;prefix&quot;: &quot;glyphicon&quot;}\n            );\n            marker_47df843f11c6eb3372986409b218c1c4.setIcon(icon_67619ab20e2259293b91fa564caaa255);\n        \n    \n            var marker_d3d0ef106495c43cb22fc399a137720a = L.marker(\n                [28.56230197, -80.57735648],\n                {}\n            ).addTo(marker_cluster_fc5d5465a587b88785a92da72965d1dd);\n        \n    \n            var icon_559491eaa66a3b11ced6063b688e6f92 = L.AwesomeMarkers.icon(\n                {&quot;extraClasses&quot;: &quot;fa-rotate-0&quot;, &quot;icon&quot;: &quot;info-sign&quot;, &quot;iconColor&quot;: &quot;green&quot;, &quot;markerColor&quot;: &quot;white&quot;, &quot;prefix&quot;: &quot;glyphicon&quot;}\n            );\n            marker_d3d0ef106495c43cb22fc399a137720a.setIcon(icon_559491eaa66a3b11ced6063b688e6f92);\n        \n    \n            var marker_ae99ba7ac2d19326edbf286b7aeabc40 = L.marker(\n                [28.56230197, -80.57735648],\n                {}\n            ).addTo(marker_cluster_fc5d5465a587b88785a92da72965d1dd);\n        \n    \n            var icon_ec0481374a76f6e3b22205b8f40de143 = L.AwesomeMarkers.icon(\n                {&quot;extraClasses&quot;: &quot;fa-rotate-0&quot;, &quot;icon&quot;: &quot;info-sign&quot;, &quot;iconColor&quot;: &quot;red&quot;, &quot;markerColor&quot;: &quot;white&quot;, &quot;prefix&quot;: &quot;glyphicon&quot;}\n            );\n            marker_ae99ba7ac2d19326edbf286b7aeabc40.setIcon(icon_ec0481374a76f6e3b22205b8f40de143);\n        \n    \n            var marker_fa63df7b79452e5fac9be557a9600693 = L.marker(\n                [28.56230197, -80.57735648],\n                {}\n            ).addTo(marker_cluster_fc5d5465a587b88785a92da72965d1dd);\n        \n    \n            var icon_79e40a0f661ddea87d7e3b4508ef72c6 = L.AwesomeMarkers.icon(\n                {&quot;extraClasses&quot;: &quot;fa-rotate-0&quot;, &quot;icon&quot;: &quot;info-sign&quot;, &quot;iconColor&quot;: &quot;green&quot;, &quot;markerColor&quot;: &quot;white&quot;, &quot;prefix&quot;: &quot;glyphicon&quot;}\n            );\n            marker_fa63df7b79452e5fac9be557a9600693.setIcon(icon_79e40a0f661ddea87d7e3b4508ef72c6);\n        \n    \n            var marker_566706dc39cb23ff1a0fb1d6af4b8c56 = L.marker(\n                [28.56230197, -80.57735648],\n                {}\n            ).addTo(marker_cluster_fc5d5465a587b88785a92da72965d1dd);\n        \n    \n            var icon_f6321c2bba3e1d183515c902bfaa83c5 = L.AwesomeMarkers.icon(\n                {&quot;extraClasses&quot;: &quot;fa-rotate-0&quot;, &quot;icon&quot;: &quot;info-sign&quot;, &quot;iconColor&quot;: &quot;green&quot;, &quot;markerColor&quot;: &quot;white&quot;, &quot;prefix&quot;: &quot;glyphicon&quot;}\n            );\n            marker_566706dc39cb23ff1a0fb1d6af4b8c56.setIcon(icon_f6321c2bba3e1d183515c902bfaa83c5);\n        \n    \n            var marker_20e605903f1cd958a18c82c6ec1c6c5f = L.marker(\n                [34.63283416, -120.6107455],\n                {}\n            ).addTo(marker_cluster_fc5d5465a587b88785a92da72965d1dd);\n        \n    \n            var icon_7e2023b9125d7c12c26167063c5d84a7 = L.AwesomeMarkers.icon(\n                {&quot;extraClasses&quot;: &quot;fa-rotate-0&quot;, &quot;icon&quot;: &quot;info-sign&quot;, &quot;iconColor&quot;: &quot;red&quot;, &quot;markerColor&quot;: &quot;white&quot;, &quot;prefix&quot;: &quot;glyphicon&quot;}\n            );\n            marker_20e605903f1cd958a18c82c6ec1c6c5f.setIcon(icon_7e2023b9125d7c12c26167063c5d84a7);\n        \n    \n            var marker_c101e01acc963442e8bc225ef9f5535b = L.marker(\n                [34.63283416, -120.6107455],\n                {}\n            ).addTo(marker_cluster_fc5d5465a587b88785a92da72965d1dd);\n        \n    \n            var icon_944d693b1e981ccff829728df633c2e9 = L.AwesomeMarkers.icon(\n                {&quot;extraClasses&quot;: &quot;fa-rotate-0&quot;, &quot;icon&quot;: &quot;info-sign&quot;, &quot;iconColor&quot;: &quot;red&quot;, &quot;markerColor&quot;: &quot;white&quot;, &quot;prefix&quot;: &quot;glyphicon&quot;}\n            );\n            marker_c101e01acc963442e8bc225ef9f5535b.setIcon(icon_944d693b1e981ccff829728df633c2e9);\n        \n    \n            var marker_3e0fb3f401c326087c764630620f9235 = L.marker(\n                [34.63283416, -120.6107455],\n                {}\n            ).addTo(marker_cluster_fc5d5465a587b88785a92da72965d1dd);\n        \n    \n            var icon_135b71cfcc7d4775b9a1688df565001d = L.AwesomeMarkers.icon(\n                {&quot;extraClasses&quot;: &quot;fa-rotate-0&quot;, &quot;icon&quot;: &quot;info-sign&quot;, &quot;iconColor&quot;: &quot;green&quot;, &quot;markerColor&quot;: &quot;white&quot;, &quot;prefix&quot;: &quot;glyphicon&quot;}\n            );\n            marker_3e0fb3f401c326087c764630620f9235.setIcon(icon_135b71cfcc7d4775b9a1688df565001d);\n        \n    \n            var marker_e88e0cebb202323667245471fff4d66a = L.marker(\n                [34.63283416, -120.6107455],\n                {}\n            ).addTo(marker_cluster_fc5d5465a587b88785a92da72965d1dd);\n        \n    \n            var icon_d3c16369864dafcae68a1ae1bfda7435 = L.AwesomeMarkers.icon(\n                {&quot;extraClasses&quot;: &quot;fa-rotate-0&quot;, &quot;icon&quot;: &quot;info-sign&quot;, &quot;iconColor&quot;: &quot;green&quot;, &quot;markerColor&quot;: &quot;white&quot;, &quot;prefix&quot;: &quot;glyphicon&quot;}\n            );\n            marker_e88e0cebb202323667245471fff4d66a.setIcon(icon_d3c16369864dafcae68a1ae1bfda7435);\n        \n    \n            var marker_f27ffd7d8d9525ffea2fb1daa3569af1 = L.marker(\n                [34.63283416, -120.6107455],\n                {}\n            ).addTo(marker_cluster_fc5d5465a587b88785a92da72965d1dd);\n        \n    \n            var icon_b4fde11ffb6408544e2812d8497c9603 = L.AwesomeMarkers.icon(\n                {&quot;extraClasses&quot;: &quot;fa-rotate-0&quot;, &quot;icon&quot;: &quot;info-sign&quot;, &quot;iconColor&quot;: &quot;green&quot;, &quot;markerColor&quot;: &quot;white&quot;, &quot;prefix&quot;: &quot;glyphicon&quot;}\n            );\n            marker_f27ffd7d8d9525ffea2fb1daa3569af1.setIcon(icon_b4fde11ffb6408544e2812d8497c9603);\n        \n    \n            var marker_e8850eaf2b7caca084882e8cd6595d05 = L.marker(\n                [34.63283416, -120.6107455],\n                {}\n            ).addTo(marker_cluster_fc5d5465a587b88785a92da72965d1dd);\n        \n    \n            var icon_051c24702ecae033d2b63341207a6bf0 = L.AwesomeMarkers.icon(\n                {&quot;extraClasses&quot;: &quot;fa-rotate-0&quot;, &quot;icon&quot;: &quot;info-sign&quot;, &quot;iconColor&quot;: &quot;green&quot;, &quot;markerColor&quot;: &quot;white&quot;, &quot;prefix&quot;: &quot;glyphicon&quot;}\n            );\n            marker_e8850eaf2b7caca084882e8cd6595d05.setIcon(icon_051c24702ecae033d2b63341207a6bf0);\n        \n    \n            var marker_4bc36a9f9ac70560e9ee4ecdd0d9caa0 = L.marker(\n                [34.63283416, -120.6107455],\n                {}\n            ).addTo(marker_cluster_fc5d5465a587b88785a92da72965d1dd);\n        \n    \n            var icon_a42f895c11d1ba0a0f9191c37d7ec4ea = L.AwesomeMarkers.icon(\n                {&quot;extraClasses&quot;: &quot;fa-rotate-0&quot;, &quot;icon&quot;: &quot;info-sign&quot;, &quot;iconColor&quot;: &quot;red&quot;, &quot;markerColor&quot;: &quot;white&quot;, &quot;prefix&quot;: &quot;glyphicon&quot;}\n            );\n            marker_4bc36a9f9ac70560e9ee4ecdd0d9caa0.setIcon(icon_a42f895c11d1ba0a0f9191c37d7ec4ea);\n        \n    \n            var marker_23345f661bcaffa2de095d00e07273e6 = L.marker(\n                [34.63283416, -120.6107455],\n                {}\n            ).addTo(marker_cluster_fc5d5465a587b88785a92da72965d1dd);\n        \n    \n            var icon_fa1ff50eb043f41ddadbeb4afdaac74f = L.AwesomeMarkers.icon(\n                {&quot;extraClasses&quot;: &quot;fa-rotate-0&quot;, &quot;icon&quot;: &quot;info-sign&quot;, &quot;iconColor&quot;: &quot;red&quot;, &quot;markerColor&quot;: &quot;white&quot;, &quot;prefix&quot;: &quot;glyphicon&quot;}\n            );\n            marker_23345f661bcaffa2de095d00e07273e6.setIcon(icon_fa1ff50eb043f41ddadbeb4afdaac74f);\n        \n    \n            var marker_6548124e1c86a3e6146153c2d39a8518 = L.marker(\n                [34.63283416, -120.6107455],\n                {}\n            ).addTo(marker_cluster_fc5d5465a587b88785a92da72965d1dd);\n        \n    \n            var icon_cf885ecf2fcc403444aeac1da700ca4b = L.AwesomeMarkers.icon(\n                {&quot;extraClasses&quot;: &quot;fa-rotate-0&quot;, &quot;icon&quot;: &quot;info-sign&quot;, &quot;iconColor&quot;: &quot;red&quot;, &quot;markerColor&quot;: &quot;white&quot;, &quot;prefix&quot;: &quot;glyphicon&quot;}\n            );\n            marker_6548124e1c86a3e6146153c2d39a8518.setIcon(icon_cf885ecf2fcc403444aeac1da700ca4b);\n        \n    \n            var marker_dc2f5ff34c236584de6ba118e20dc08f = L.marker(\n                [34.63283416, -120.6107455],\n                {}\n            ).addTo(marker_cluster_fc5d5465a587b88785a92da72965d1dd);\n        \n    \n            var icon_394191b52198ece79d331dbf556e2867 = L.AwesomeMarkers.icon(\n                {&quot;extraClasses&quot;: &quot;fa-rotate-0&quot;, &quot;icon&quot;: &quot;info-sign&quot;, &quot;iconColor&quot;: &quot;red&quot;, &quot;markerColor&quot;: &quot;white&quot;, &quot;prefix&quot;: &quot;glyphicon&quot;}\n            );\n            marker_dc2f5ff34c236584de6ba118e20dc08f.setIcon(icon_394191b52198ece79d331dbf556e2867);\n        \n    \n            var marker_95f899ad6682fea3d484691f80b16613 = L.marker(\n                [28.57325457, -80.64689529],\n                {}\n            ).addTo(marker_cluster_fc5d5465a587b88785a92da72965d1dd);\n        \n    \n            var icon_7f1dd2c3cf6e36d13c6c32658a1da258 = L.AwesomeMarkers.icon(\n                {&quot;extraClasses&quot;: &quot;fa-rotate-0&quot;, &quot;icon&quot;: &quot;info-sign&quot;, &quot;iconColor&quot;: &quot;green&quot;, &quot;markerColor&quot;: &quot;white&quot;, &quot;prefix&quot;: &quot;glyphicon&quot;}\n            );\n            marker_95f899ad6682fea3d484691f80b16613.setIcon(icon_7f1dd2c3cf6e36d13c6c32658a1da258);\n        \n    \n            var marker_819eeabff8a8b3733a097e93b3b69cfa = L.marker(\n                [28.57325457, -80.64689529],\n                {}\n            ).addTo(marker_cluster_fc5d5465a587b88785a92da72965d1dd);\n        \n    \n            var icon_f9fe97de2c777ca2004a7700ae3d30ad = L.AwesomeMarkers.icon(\n                {&quot;extraClasses&quot;: &quot;fa-rotate-0&quot;, &quot;icon&quot;: &quot;info-sign&quot;, &quot;iconColor&quot;: &quot;red&quot;, &quot;markerColor&quot;: &quot;white&quot;, &quot;prefix&quot;: &quot;glyphicon&quot;}\n            );\n            marker_819eeabff8a8b3733a097e93b3b69cfa.setIcon(icon_f9fe97de2c777ca2004a7700ae3d30ad);\n        \n    \n            var marker_7ed02a7235b3cdbce09b49bd10624ecb = L.marker(\n                [28.57325457, -80.64689529],\n                {}\n            ).addTo(marker_cluster_fc5d5465a587b88785a92da72965d1dd);\n        \n    \n            var icon_4995e874e276a04282874112c1b6d681 = L.AwesomeMarkers.icon(\n                {&quot;extraClasses&quot;: &quot;fa-rotate-0&quot;, &quot;icon&quot;: &quot;info-sign&quot;, &quot;iconColor&quot;: &quot;green&quot;, &quot;markerColor&quot;: &quot;white&quot;, &quot;prefix&quot;: &quot;glyphicon&quot;}\n            );\n            marker_7ed02a7235b3cdbce09b49bd10624ecb.setIcon(icon_4995e874e276a04282874112c1b6d681);\n        \n    \n            var marker_5f8a339f283270564b04ba3532fc38ab = L.marker(\n                [28.57325457, -80.64689529],\n                {}\n            ).addTo(marker_cluster_fc5d5465a587b88785a92da72965d1dd);\n        \n    \n            var icon_da7f24768280fc76205759b6cb3d7871 = L.AwesomeMarkers.icon(\n                {&quot;extraClasses&quot;: &quot;fa-rotate-0&quot;, &quot;icon&quot;: &quot;info-sign&quot;, &quot;iconColor&quot;: &quot;green&quot;, &quot;markerColor&quot;: &quot;white&quot;, &quot;prefix&quot;: &quot;glyphicon&quot;}\n            );\n            marker_5f8a339f283270564b04ba3532fc38ab.setIcon(icon_da7f24768280fc76205759b6cb3d7871);\n        \n    \n            var marker_380a4c2a3dee9d29cd44df9588a918ae = L.marker(\n                [28.57325457, -80.64689529],\n                {}\n            ).addTo(marker_cluster_fc5d5465a587b88785a92da72965d1dd);\n        \n    \n            var icon_6bc315de1c53e8c38a7ec859eca42628 = L.AwesomeMarkers.icon(\n                {&quot;extraClasses&quot;: &quot;fa-rotate-0&quot;, &quot;icon&quot;: &quot;info-sign&quot;, &quot;iconColor&quot;: &quot;red&quot;, &quot;markerColor&quot;: &quot;white&quot;, &quot;prefix&quot;: &quot;glyphicon&quot;}\n            );\n            marker_380a4c2a3dee9d29cd44df9588a918ae.setIcon(icon_6bc315de1c53e8c38a7ec859eca42628);\n        \n    \n            var marker_32b43adb2d41917e4fe7d36bb8438b43 = L.marker(\n                [28.57325457, -80.64689529],\n                {}\n            ).addTo(marker_cluster_fc5d5465a587b88785a92da72965d1dd);\n        \n    \n            var icon_1251eb28c7b69052e82ff05b605fc074 = L.AwesomeMarkers.icon(\n                {&quot;extraClasses&quot;: &quot;fa-rotate-0&quot;, &quot;icon&quot;: &quot;info-sign&quot;, &quot;iconColor&quot;: &quot;green&quot;, &quot;markerColor&quot;: &quot;white&quot;, &quot;prefix&quot;: &quot;glyphicon&quot;}\n            );\n            marker_32b43adb2d41917e4fe7d36bb8438b43.setIcon(icon_1251eb28c7b69052e82ff05b605fc074);\n        \n    \n            var marker_34a742778a4b7daacc00d76f90011651 = L.marker(\n                [28.57325457, -80.64689529],\n                {}\n            ).addTo(marker_cluster_fc5d5465a587b88785a92da72965d1dd);\n        \n    \n            var icon_88a335642815181057242e412a0379ad = L.AwesomeMarkers.icon(\n                {&quot;extraClasses&quot;: &quot;fa-rotate-0&quot;, &quot;icon&quot;: &quot;info-sign&quot;, &quot;iconColor&quot;: &quot;green&quot;, &quot;markerColor&quot;: &quot;white&quot;, &quot;prefix&quot;: &quot;glyphicon&quot;}\n            );\n            marker_34a742778a4b7daacc00d76f90011651.setIcon(icon_88a335642815181057242e412a0379ad);\n        \n    \n            var marker_b60cfe61cfe8dc090e8d831b42dfdda1 = L.marker(\n                [28.57325457, -80.64689529],\n                {}\n            ).addTo(marker_cluster_fc5d5465a587b88785a92da72965d1dd);\n        \n    \n            var icon_23f60893771216943e127c508228f775 = L.AwesomeMarkers.icon(\n                {&quot;extraClasses&quot;: &quot;fa-rotate-0&quot;, &quot;icon&quot;: &quot;info-sign&quot;, &quot;iconColor&quot;: &quot;red&quot;, &quot;markerColor&quot;: &quot;white&quot;, &quot;prefix&quot;: &quot;glyphicon&quot;}\n            );\n            marker_b60cfe61cfe8dc090e8d831b42dfdda1.setIcon(icon_23f60893771216943e127c508228f775);\n        \n    \n            var marker_96ce880fe70f7e514efa39d91b09fd90 = L.marker(\n                [28.57325457, -80.64689529],\n                {}\n            ).addTo(marker_cluster_fc5d5465a587b88785a92da72965d1dd);\n        \n    \n            var icon_f404b42d59585e58b46446e50897685a = L.AwesomeMarkers.icon(\n                {&quot;extraClasses&quot;: &quot;fa-rotate-0&quot;, &quot;icon&quot;: &quot;info-sign&quot;, &quot;iconColor&quot;: &quot;green&quot;, &quot;markerColor&quot;: &quot;white&quot;, &quot;prefix&quot;: &quot;glyphicon&quot;}\n            );\n            marker_96ce880fe70f7e514efa39d91b09fd90.setIcon(icon_f404b42d59585e58b46446e50897685a);\n        \n    \n            var marker_216f3f0c987c542c5e93d11f7ee19851 = L.marker(\n                [28.57325457, -80.64689529],\n                {}\n            ).addTo(marker_cluster_fc5d5465a587b88785a92da72965d1dd);\n        \n    \n            var icon_43e0b892c517d19fc646365757bc79ce = L.AwesomeMarkers.icon(\n                {&quot;extraClasses&quot;: &quot;fa-rotate-0&quot;, &quot;icon&quot;: &quot;info-sign&quot;, &quot;iconColor&quot;: &quot;green&quot;, &quot;markerColor&quot;: &quot;white&quot;, &quot;prefix&quot;: &quot;glyphicon&quot;}\n            );\n            marker_216f3f0c987c542c5e93d11f7ee19851.setIcon(icon_43e0b892c517d19fc646365757bc79ce);\n        \n    \n            var marker_3becb0eee65060a07c6e74608bd5aa1b = L.marker(\n                [28.57325457, -80.64689529],\n                {}\n            ).addTo(marker_cluster_fc5d5465a587b88785a92da72965d1dd);\n        \n    \n            var icon_c2bc517288cdcec421388df883c2f1d2 = L.AwesomeMarkers.icon(\n                {&quot;extraClasses&quot;: &quot;fa-rotate-0&quot;, &quot;icon&quot;: &quot;info-sign&quot;, &quot;iconColor&quot;: &quot;green&quot;, &quot;markerColor&quot;: &quot;white&quot;, &quot;prefix&quot;: &quot;glyphicon&quot;}\n            );\n            marker_3becb0eee65060a07c6e74608bd5aa1b.setIcon(icon_c2bc517288cdcec421388df883c2f1d2);\n        \n    \n            var marker_b137f95be09824f0f20b70ebf56a7b7f = L.marker(\n                [28.57325457, -80.64689529],\n                {}\n            ).addTo(marker_cluster_fc5d5465a587b88785a92da72965d1dd);\n        \n    \n            var icon_2bc6f0c6360c9a6cec47812cade6abfb = L.AwesomeMarkers.icon(\n                {&quot;extraClasses&quot;: &quot;fa-rotate-0&quot;, &quot;icon&quot;: &quot;info-sign&quot;, &quot;iconColor&quot;: &quot;green&quot;, &quot;markerColor&quot;: &quot;white&quot;, &quot;prefix&quot;: &quot;glyphicon&quot;}\n            );\n            marker_b137f95be09824f0f20b70ebf56a7b7f.setIcon(icon_2bc6f0c6360c9a6cec47812cade6abfb);\n        \n    \n            var marker_056f1ea2fc2de1403003a1487dd00c4e = L.marker(\n                [28.57325457, -80.64689529],\n                {}\n            ).addTo(marker_cluster_fc5d5465a587b88785a92da72965d1dd);\n        \n    \n            var icon_a00b2c65d40e7108e96d648f31e0d2a4 = L.AwesomeMarkers.icon(\n                {&quot;extraClasses&quot;: &quot;fa-rotate-0&quot;, &quot;icon&quot;: &quot;info-sign&quot;, &quot;iconColor&quot;: &quot;green&quot;, &quot;markerColor&quot;: &quot;white&quot;, &quot;prefix&quot;: &quot;glyphicon&quot;}\n            );\n            marker_056f1ea2fc2de1403003a1487dd00c4e.setIcon(icon_a00b2c65d40e7108e96d648f31e0d2a4);\n        \n    \n            var marker_c5ed23069fbddf6260bb8cf3fdd520ca = L.marker(\n                [28.56319718, -80.57682003],\n                {}\n            ).addTo(marker_cluster_fc5d5465a587b88785a92da72965d1dd);\n        \n    \n            var icon_0475f081f60f1ad5febefadb536facd3 = L.AwesomeMarkers.icon(\n                {&quot;extraClasses&quot;: &quot;fa-rotate-0&quot;, &quot;icon&quot;: &quot;info-sign&quot;, &quot;iconColor&quot;: &quot;green&quot;, &quot;markerColor&quot;: &quot;white&quot;, &quot;prefix&quot;: &quot;glyphicon&quot;}\n            );\n            marker_c5ed23069fbddf6260bb8cf3fdd520ca.setIcon(icon_0475f081f60f1ad5febefadb536facd3);\n        \n    \n            var marker_88057566cbee046bdd0ae4636b3f1d0d = L.marker(\n                [28.56319718, -80.57682003],\n                {}\n            ).addTo(marker_cluster_fc5d5465a587b88785a92da72965d1dd);\n        \n    \n            var icon_8a0b77e68e9f4c61335f1a2438f087a0 = L.AwesomeMarkers.icon(\n                {&quot;extraClasses&quot;: &quot;fa-rotate-0&quot;, &quot;icon&quot;: &quot;info-sign&quot;, &quot;iconColor&quot;: &quot;green&quot;, &quot;markerColor&quot;: &quot;white&quot;, &quot;prefix&quot;: &quot;glyphicon&quot;}\n            );\n            marker_88057566cbee046bdd0ae4636b3f1d0d.setIcon(icon_8a0b77e68e9f4c61335f1a2438f087a0);\n        \n    \n            var marker_fe613efde5a37f7256c118580c227e15 = L.marker(\n                [28.56319718, -80.57682003],\n                {}\n            ).addTo(marker_cluster_fc5d5465a587b88785a92da72965d1dd);\n        \n    \n            var icon_0d4d64ef022f44c881e8185111a95405 = L.AwesomeMarkers.icon(\n                {&quot;extraClasses&quot;: &quot;fa-rotate-0&quot;, &quot;icon&quot;: &quot;info-sign&quot;, &quot;iconColor&quot;: &quot;red&quot;, &quot;markerColor&quot;: &quot;white&quot;, &quot;prefix&quot;: &quot;glyphicon&quot;}\n            );\n            marker_fe613efde5a37f7256c118580c227e15.setIcon(icon_0d4d64ef022f44c881e8185111a95405);\n        \n    \n            var marker_53bfbb1fd770e29e593697092e4a7460 = L.marker(\n                [28.56319718, -80.57682003],\n                {}\n            ).addTo(marker_cluster_fc5d5465a587b88785a92da72965d1dd);\n        \n    \n            var icon_429e3fa79e8f45db4eceb3bc2eab2109 = L.AwesomeMarkers.icon(\n                {&quot;extraClasses&quot;: &quot;fa-rotate-0&quot;, &quot;icon&quot;: &quot;info-sign&quot;, &quot;iconColor&quot;: &quot;red&quot;, &quot;markerColor&quot;: &quot;white&quot;, &quot;prefix&quot;: &quot;glyphicon&quot;}\n            );\n            marker_53bfbb1fd770e29e593697092e4a7460.setIcon(icon_429e3fa79e8f45db4eceb3bc2eab2109);\n        \n    \n            var marker_2b64f7c93bbeab9f4e20af7d0af234a6 = L.marker(\n                [28.56319718, -80.57682003],\n                {}\n            ).addTo(marker_cluster_fc5d5465a587b88785a92da72965d1dd);\n        \n    \n            var icon_82eced3abc24688b752bb1e93b8b66f6 = L.AwesomeMarkers.icon(\n                {&quot;extraClasses&quot;: &quot;fa-rotate-0&quot;, &quot;icon&quot;: &quot;info-sign&quot;, &quot;iconColor&quot;: &quot;red&quot;, &quot;markerColor&quot;: &quot;white&quot;, &quot;prefix&quot;: &quot;glyphicon&quot;}\n            );\n            marker_2b64f7c93bbeab9f4e20af7d0af234a6.setIcon(icon_82eced3abc24688b752bb1e93b8b66f6);\n        \n    \n            var marker_ff525ceaf85b558181f4c6562670ef44 = L.marker(\n                [28.56319718, -80.57682003],\n                {}\n            ).addTo(marker_cluster_fc5d5465a587b88785a92da72965d1dd);\n        \n    \n            var icon_16a2b837255d0ec772742015e13d308f = L.AwesomeMarkers.icon(\n                {&quot;extraClasses&quot;: &quot;fa-rotate-0&quot;, &quot;icon&quot;: &quot;info-sign&quot;, &quot;iconColor&quot;: &quot;green&quot;, &quot;markerColor&quot;: &quot;white&quot;, &quot;prefix&quot;: &quot;glyphicon&quot;}\n            );\n            marker_ff525ceaf85b558181f4c6562670ef44.setIcon(icon_16a2b837255d0ec772742015e13d308f);\n        \n    \n            var marker_09a5c7c6c632e8e7e2b94337539b6a14 = L.marker(\n                [28.56319718, -80.57682003],\n                {}\n            ).addTo(marker_cluster_fc5d5465a587b88785a92da72965d1dd);\n        \n    \n            var icon_767028ba0d37d55bef587c6e5b2d20d6 = L.AwesomeMarkers.icon(\n                {&quot;extraClasses&quot;: &quot;fa-rotate-0&quot;, &quot;icon&quot;: &quot;info-sign&quot;, &quot;iconColor&quot;: &quot;red&quot;, &quot;markerColor&quot;: &quot;white&quot;, &quot;prefix&quot;: &quot;glyphicon&quot;}\n            );\n            marker_09a5c7c6c632e8e7e2b94337539b6a14.setIcon(icon_767028ba0d37d55bef587c6e5b2d20d6);\n        \n    \n            var mouse_position_f9011e25ed8cc143ceb87c634f44bed4 = new L.Control.MousePosition(\n                {&quot;emptyString&quot;: &quot;NaN&quot;, &quot;lngFirst&quot;: false, &quot;numDigits&quot;: 20, &quot;position&quot;: &quot;topright&quot;, &quot;prefix&quot;: &quot;Lat:&quot;, &quot;separator&quot;: &quot; Long: &quot;}\n            );\n            mouse_position_f9011e25ed8cc143ceb87c634f44bed4.options[&quot;latFormatter&quot;] =\n                function(num) {return L.Util.formatNum(num, 5);};;\n            mouse_position_f9011e25ed8cc143ceb87c634f44bed4.options[&quot;lngFormatter&quot;] =\n                function(num) {return L.Util.formatNum(num, 5);};;\n            map_c4d7c0e15bf4ba574a819fb59776da28.addControl(mouse_position_f9011e25ed8cc143ceb87c634f44bed4);\n        \n&lt;/script&gt;\" style=\"position:absolute;width:100%;height:100%;left:0;top:0;border:none !important;\" allowfullscreen webkitallowfullscreen mozallowfullscreen></iframe></div></div>"
     },
     "metadata": {}
    }
   ]
  },
  {
   "cell_type": "markdown",
   "source": "Now zoom in to a launch site and explore its proximity to see if you can easily find any railway, highway, coastline, etc. Move your mouse to these points and mark down their coordinates (shown on the top-left) in order to the distance to the launch site.\n",
   "metadata": {
    "cell_id": "00055-424e5091-ae4a-497d-85e6-e50f3ea17f97",
    "deepnote_cell_type": "markdown",
    "deepnote_cell_height": 97.1875
   }
  },
  {
   "cell_type": "markdown",
   "source": "You can calculate the distance between two points on the map based on their `Lat` and `Long` values using the following method:\n",
   "metadata": {
    "cell_id": "00056-28be3a6f-3355-448e-8c8e-31f7036c6e3b",
    "deepnote_cell_type": "markdown",
    "deepnote_cell_height": 74.796875
   }
  },
  {
   "cell_type": "code",
   "metadata": {
    "cell_id": "00057-d90ec21c-fa82-4454-9017-d8c09e5c8bd6",
    "deepnote_to_be_reexecuted": false,
    "source_hash": "77493d3c",
    "execution_start": 1656567337781,
    "execution_millis": 5,
    "deepnote_cell_type": "code",
    "deepnote_cell_height": 405
   },
   "source": "from math import sin, cos, sqrt, atan2, radians\n\ndef calculate_distance(lat1, lon1, lat2, lon2):\n    # approximate radius of earth in km\n    R = 6373.0\n\n    lat1 = radians(lat1)\n    lon1 = radians(lon1)\n    lat2 = radians(lat2)\n    lon2 = radians(lon2)\n\n    dlon = lon2 - lon1\n    dlat = lat2 - lat1\n\n    a = sin(dlat / 2)**2 + cos(lat1) * cos(lat2) * sin(dlon / 2)**2\n    c = 2 * atan2(sqrt(a), sqrt(1 - a))\n\n    distance = R * c\n    return distance",
   "execution_count": 15,
   "outputs": []
  },
  {
   "cell_type": "markdown",
   "source": "*TODO:* Mark down a point on the closest coastline using MousePosition and calculate the distance between the coastline point and the launch site.\n",
   "metadata": {
    "cell_id": "00058-5ac5cc53-0584-4269-9b5d-3cd167bdc6d8",
    "deepnote_cell_type": "markdown",
    "deepnote_cell_height": 74.796875
   }
  },
  {
   "cell_type": "code",
   "metadata": {
    "cell_id": "00059-abfd1e61-81fa-4272-a144-52981b0657ee",
    "deepnote_to_be_reexecuted": false,
    "source_hash": "9e7c3162",
    "execution_start": 1656567337817,
    "execution_millis": 851601259,
    "deepnote_cell_type": "code",
    "deepnote_cell_height": 207
   },
   "source": "# find coordinate of the closet coastline\n# e.g.,: Lat: 28.56367  Lon: -80.57163\n# distance_coastline = calculate_distance(launch_site_lat, launch_site_lon, coastline_lat, coastline\ncoastline_lat = 28.59112\ncoastline_lon = -80.61999\nlaunch_site_lat = 28.562302\nlaunch_site_lon = -80.577356\ndistance_coastline = calculate_distance(launch_site_lat, launch_site_lon, coastline_lat, coastline_lon)",
   "execution_count": 16,
   "outputs": []
  },
  {
   "cell_type": "markdown",
   "source": "*TODO:* After obtained its coordinate, create a `folium.Marker` to show the distance\n",
   "metadata": {
    "cell_id": "00060-d944054f-fdbc-42aa-8bac-5748437c9bc8",
    "deepnote_cell_type": "markdown",
    "deepnote_cell_height": 52.390625
   }
  },
  {
   "cell_type": "code",
   "metadata": {
    "cell_id": "00061-4ae66c10-70df-4c9f-846f-4677685a03bc",
    "deepnote_to_be_reexecuted": false,
    "source_hash": "6458cb4c",
    "execution_start": 1656567337846,
    "execution_millis": 851574513,
    "deepnote_cell_type": "code",
    "deepnote_cell_height": 297
   },
   "source": "# Create and add a folium.Marker on your selected closest coastline point on the map\n# Display the distance between coastline point and launch site using the icon property \n# for example\ncoordinate = [launch_site_lat, launch_site_lon]\ndistance = distance_coastline\ndistance_marker = folium.Marker(\n    coordinate,\n    icon=DivIcon(\n        icon_size=(20,20),\n        icon_anchor=(0,0),\n        html='<div style=\"font-size: 12; color:#d35400;\"><b>%s</b></div>' % \"{:10.2f} KM\".format(distance),\n        )\n    )",
   "execution_count": 17,
   "outputs": []
  },
  {
   "cell_type": "markdown",
   "source": "*TODO:* Draw a `PolyLine` between a launch site to the selected coastline point\n",
   "metadata": {
    "cell_id": "00062-342fa68b-1a04-4fb0-8aaa-9c55fda71eee",
    "deepnote_cell_type": "markdown",
    "deepnote_cell_height": 52.390625
   }
  },
  {
   "cell_type": "code",
   "metadata": {
    "cell_id": "00063-7b83fe85-a5bb-4e23-89b8-27ee5f8d15e9",
    "deepnote_to_be_reexecuted": false,
    "source_hash": "85526e1",
    "execution_start": 1656567337865,
    "execution_millis": 601,
    "deepnote_cell_type": "code",
    "deepnote_cell_height": 649.1875,
    "deepnote_output_heights": [
     480.1875
    ]
   },
   "source": "# Create a `folium.PolyLine` object using the coastline coordinates and launch site coordinate\n# lines=folium.PolyLine(locations=coordinates, weight=1)\ncoordinates =[[launch_site_lat, launch_site_lon], [coastline_lat, coastline_lon]]\nlines=folium.PolyLine(locations=coordinates, weight=1)\nsite_map.add_child(lines)",
   "execution_count": 18,
   "outputs": [
    {
     "output_type": "execute_result",
     "execution_count": 18,
     "data": {
      "text/plain": "<folium.folium.Map at 0x7f782f9f5a30>",
      "text/html": "<div style=\"width:100%;\"><div style=\"position:relative;width:100%;height:0;padding-bottom:60%;\"><span style=\"color:#565656\">Make this Notebook Trusted to load map: File -> Trust Notebook</span><iframe srcdoc=\"&lt;!DOCTYPE html&gt;\n&lt;head&gt;    \n    &lt;meta http-equiv=&quot;content-type&quot; content=&quot;text/html; charset=UTF-8&quot; /&gt;\n    \n        &lt;script&gt;\n            L_NO_TOUCH = false;\n            L_DISABLE_3D = false;\n        &lt;/script&gt;\n    \n    &lt;style&gt;html, body {width: 100%;height: 100%;margin: 0;padding: 0;}&lt;/style&gt;\n    &lt;style&gt;#map {position:absolute;top:0;bottom:0;right:0;left:0;}&lt;/style&gt;\n    &lt;script src=&quot;https://cdn.jsdelivr.net/npm/leaflet@1.6.0/dist/leaflet.js&quot;&gt;&lt;/script&gt;\n    &lt;script src=&quot;https://code.jquery.com/jquery-1.12.4.min.js&quot;&gt;&lt;/script&gt;\n    &lt;script src=&quot;https://maxcdn.bootstrapcdn.com/bootstrap/3.2.0/js/bootstrap.min.js&quot;&gt;&lt;/script&gt;\n    &lt;script src=&quot;https://cdnjs.cloudflare.com/ajax/libs/Leaflet.awesome-markers/2.0.2/leaflet.awesome-markers.js&quot;&gt;&lt;/script&gt;\n    &lt;link rel=&quot;stylesheet&quot; href=&quot;https://cdn.jsdelivr.net/npm/leaflet@1.6.0/dist/leaflet.css&quot;/&gt;\n    &lt;link rel=&quot;stylesheet&quot; href=&quot;https://maxcdn.bootstrapcdn.com/bootstrap/3.2.0/css/bootstrap.min.css&quot;/&gt;\n    &lt;link rel=&quot;stylesheet&quot; href=&quot;https://maxcdn.bootstrapcdn.com/bootstrap/3.2.0/css/bootstrap-theme.min.css&quot;/&gt;\n    &lt;link rel=&quot;stylesheet&quot; href=&quot;https://maxcdn.bootstrapcdn.com/font-awesome/4.6.3/css/font-awesome.min.css&quot;/&gt;\n    &lt;link rel=&quot;stylesheet&quot; href=&quot;https://cdnjs.cloudflare.com/ajax/libs/Leaflet.awesome-markers/2.0.2/leaflet.awesome-markers.css&quot;/&gt;\n    &lt;link rel=&quot;stylesheet&quot; href=&quot;https://cdn.jsdelivr.net/gh/python-visualization/folium/folium/templates/leaflet.awesome.rotate.min.css&quot;/&gt;\n    \n            &lt;meta name=&quot;viewport&quot; content=&quot;width=device-width,\n                initial-scale=1.0, maximum-scale=1.0, user-scalable=no&quot; /&gt;\n            &lt;style&gt;\n                #map_c4d7c0e15bf4ba574a819fb59776da28 {\n                    position: relative;\n                    width: 100.0%;\n                    height: 100.0%;\n                    left: 0.0%;\n                    top: 0.0%;\n                }\n            &lt;/style&gt;\n        \n    &lt;script src=&quot;https://cdnjs.cloudflare.com/ajax/libs/leaflet.markercluster/1.1.0/leaflet.markercluster.js&quot;&gt;&lt;/script&gt;\n    &lt;link rel=&quot;stylesheet&quot; href=&quot;https://cdnjs.cloudflare.com/ajax/libs/leaflet.markercluster/1.1.0/MarkerCluster.css&quot;/&gt;\n    &lt;link rel=&quot;stylesheet&quot; href=&quot;https://cdnjs.cloudflare.com/ajax/libs/leaflet.markercluster/1.1.0/MarkerCluster.Default.css&quot;/&gt;\n    &lt;script src=&quot;https://cdn.jsdelivr.net/gh/ardhi/Leaflet.MousePosition/src/L.Control.MousePosition.min.js&quot;&gt;&lt;/script&gt;\n    &lt;link rel=&quot;stylesheet&quot; href=&quot;https://cdn.jsdelivr.net/gh/ardhi/Leaflet.MousePosition/src/L.Control.MousePosition.min.css&quot;/&gt;\n&lt;/head&gt;\n&lt;body&gt;    \n    \n            &lt;div class=&quot;folium-map&quot; id=&quot;map_c4d7c0e15bf4ba574a819fb59776da28&quot; &gt;&lt;/div&gt;\n        \n&lt;/body&gt;\n&lt;script&gt;    \n    \n            var map_c4d7c0e15bf4ba574a819fb59776da28 = L.map(\n                &quot;map_c4d7c0e15bf4ba574a819fb59776da28&quot;,\n                {\n                    center: [29.559684888503615, -95.0830971930759],\n                    crs: L.CRS.EPSG3857,\n                    zoom: 5,\n                    zoomControl: true,\n                    preferCanvas: false,\n                }\n            );\n\n            \n\n        \n    \n            var tile_layer_e19753bcbdf6f95aa0451e307612d5c9 = L.tileLayer(\n                &quot;https://{s}.tile.openstreetmap.org/{z}/{x}/{y}.png&quot;,\n                {&quot;attribution&quot;: &quot;Data by \\u0026copy; \\u003ca href=\\&quot;http://openstreetmap.org\\&quot;\\u003eOpenStreetMap\\u003c/a\\u003e, under \\u003ca href=\\&quot;http://www.openstreetmap.org/copyright\\&quot;\\u003eODbL\\u003c/a\\u003e.&quot;, &quot;detectRetina&quot;: false, &quot;maxNativeZoom&quot;: 18, &quot;maxZoom&quot;: 18, &quot;minZoom&quot;: 0, &quot;noWrap&quot;: false, &quot;opacity&quot;: 1, &quot;subdomains&quot;: &quot;abc&quot;, &quot;tms&quot;: false}\n            ).addTo(map_c4d7c0e15bf4ba574a819fb59776da28);\n        \n    \n            var circle_9a2dd9ba1727e6709304522178b0980f = L.circle(\n                [28.56230197, -80.57735648],\n                {&quot;bubblingMouseEvents&quot;: true, &quot;color&quot;: &quot;#d35400&quot;, &quot;dashArray&quot;: null, &quot;dashOffset&quot;: null, &quot;fill&quot;: true, &quot;fillColor&quot;: &quot;#d35400&quot;, &quot;fillOpacity&quot;: 0.2, &quot;fillRule&quot;: &quot;evenodd&quot;, &quot;lineCap&quot;: &quot;round&quot;, &quot;lineJoin&quot;: &quot;round&quot;, &quot;opacity&quot;: 1.0, &quot;radius&quot;: 1000, &quot;stroke&quot;: true, &quot;weight&quot;: 3}\n            ).addTo(map_c4d7c0e15bf4ba574a819fb59776da28);\n        \n    \n        var popup_edf17813207416af02158b23e180af45 = L.popup({&quot;maxWidth&quot;: &quot;100%&quot;});\n\n        \n            var html_aff7c86cd31f5beb9fb64d4d2e8eb863 = $(`&lt;div id=&quot;html_aff7c86cd31f5beb9fb64d4d2e8eb863&quot; style=&quot;width: 100.0%; height: 100.0%;&quot;&gt;CCAFS LC-40&lt;/div&gt;`)[0];\n            popup_edf17813207416af02158b23e180af45.setContent(html_aff7c86cd31f5beb9fb64d4d2e8eb863);\n        \n\n        circle_9a2dd9ba1727e6709304522178b0980f.bindPopup(popup_edf17813207416af02158b23e180af45)\n        ;\n\n        \n    \n    \n            var marker_85ae247116669446673da0096831ea5e = L.marker(\n                [28.56230197, -80.57735648],\n                {}\n            ).addTo(map_c4d7c0e15bf4ba574a819fb59776da28);\n        \n    \n            var div_icon_ea38d5a9f6abfb2d71b5624327709004 = L.divIcon({&quot;className&quot;: &quot;empty&quot;, &quot;html&quot;: &quot;\\u003cdiv style=\\&quot;font-size: 12; color:#d35400;\\&quot;\\u003e\\u003cb\\u003eCCAFS LC-40\\u003c/b\\u003e\\u003c/div\\u003e&quot;, &quot;iconAnchor&quot;: [0, 0], &quot;iconSize&quot;: [20, 20]});\n            marker_85ae247116669446673da0096831ea5e.setIcon(div_icon_ea38d5a9f6abfb2d71b5624327709004);\n        \n    \n            var circle_dd0a3b3e09afe4d96dd1d0a4ef16322a = L.circle(\n                [28.56319718, -80.57682003],\n                {&quot;bubblingMouseEvents&quot;: true, &quot;color&quot;: &quot;#d35400&quot;, &quot;dashArray&quot;: null, &quot;dashOffset&quot;: null, &quot;fill&quot;: true, &quot;fillColor&quot;: &quot;#d35400&quot;, &quot;fillOpacity&quot;: 0.2, &quot;fillRule&quot;: &quot;evenodd&quot;, &quot;lineCap&quot;: &quot;round&quot;, &quot;lineJoin&quot;: &quot;round&quot;, &quot;opacity&quot;: 1.0, &quot;radius&quot;: 1000, &quot;stroke&quot;: true, &quot;weight&quot;: 3}\n            ).addTo(map_c4d7c0e15bf4ba574a819fb59776da28);\n        \n    \n        var popup_50952ab8f3bd013bea64e4e88464d85c = L.popup({&quot;maxWidth&quot;: &quot;100%&quot;});\n\n        \n            var html_d4a8c8d3101ea921319f9042ed48ea15 = $(`&lt;div id=&quot;html_d4a8c8d3101ea921319f9042ed48ea15&quot; style=&quot;width: 100.0%; height: 100.0%;&quot;&gt;CCAFS SLC-40&lt;/div&gt;`)[0];\n            popup_50952ab8f3bd013bea64e4e88464d85c.setContent(html_d4a8c8d3101ea921319f9042ed48ea15);\n        \n\n        circle_dd0a3b3e09afe4d96dd1d0a4ef16322a.bindPopup(popup_50952ab8f3bd013bea64e4e88464d85c)\n        ;\n\n        \n    \n    \n            var marker_f0e94b3b99e4cf8f18869247d8235d29 = L.marker(\n                [28.56319718, -80.57682003],\n                {}\n            ).addTo(map_c4d7c0e15bf4ba574a819fb59776da28);\n        \n    \n            var div_icon_dff0024387c4275fc334efcdb0a32917 = L.divIcon({&quot;className&quot;: &quot;empty&quot;, &quot;html&quot;: &quot;\\u003cdiv style=\\&quot;font-size: 12; color:#d35400;\\&quot;\\u003e\\u003cb\\u003eCCAFS SLC-40\\u003c/b\\u003e\\u003c/div\\u003e&quot;, &quot;iconAnchor&quot;: [0, 0], &quot;iconSize&quot;: [20, 20]});\n            marker_f0e94b3b99e4cf8f18869247d8235d29.setIcon(div_icon_dff0024387c4275fc334efcdb0a32917);\n        \n    \n            var circle_2a468d07af7f5542792e60df9e4d7609 = L.circle(\n                [28.57325457, -80.64689529],\n                {&quot;bubblingMouseEvents&quot;: true, &quot;color&quot;: &quot;#d35400&quot;, &quot;dashArray&quot;: null, &quot;dashOffset&quot;: null, &quot;fill&quot;: true, &quot;fillColor&quot;: &quot;#d35400&quot;, &quot;fillOpacity&quot;: 0.2, &quot;fillRule&quot;: &quot;evenodd&quot;, &quot;lineCap&quot;: &quot;round&quot;, &quot;lineJoin&quot;: &quot;round&quot;, &quot;opacity&quot;: 1.0, &quot;radius&quot;: 1000, &quot;stroke&quot;: true, &quot;weight&quot;: 3}\n            ).addTo(map_c4d7c0e15bf4ba574a819fb59776da28);\n        \n    \n        var popup_54f24431a77de83ad7bb5cf698df3fc6 = L.popup({&quot;maxWidth&quot;: &quot;100%&quot;});\n\n        \n            var html_a4b3ef64a769feeb6f318488de01af5c = $(`&lt;div id=&quot;html_a4b3ef64a769feeb6f318488de01af5c&quot; style=&quot;width: 100.0%; height: 100.0%;&quot;&gt;KSC LC-39A&lt;/div&gt;`)[0];\n            popup_54f24431a77de83ad7bb5cf698df3fc6.setContent(html_a4b3ef64a769feeb6f318488de01af5c);\n        \n\n        circle_2a468d07af7f5542792e60df9e4d7609.bindPopup(popup_54f24431a77de83ad7bb5cf698df3fc6)\n        ;\n\n        \n    \n    \n            var marker_a5900f72c48ba40a4172f5159db67212 = L.marker(\n                [28.57325457, -80.64689529],\n                {}\n            ).addTo(map_c4d7c0e15bf4ba574a819fb59776da28);\n        \n    \n            var div_icon_577196be5330e6c23d7b7a70a13de1ff = L.divIcon({&quot;className&quot;: &quot;empty&quot;, &quot;html&quot;: &quot;\\u003cdiv style=\\&quot;font-size: 12; color:#d35400;\\&quot;\\u003e\\u003cb\\u003eKSC LC-39A\\u003c/b\\u003e\\u003c/div\\u003e&quot;, &quot;iconAnchor&quot;: [0, 0], &quot;iconSize&quot;: [20, 20]});\n            marker_a5900f72c48ba40a4172f5159db67212.setIcon(div_icon_577196be5330e6c23d7b7a70a13de1ff);\n        \n    \n            var circle_6e26dcd6938361e683e04e248946679f = L.circle(\n                [34.63283416, -120.6107455],\n                {&quot;bubblingMouseEvents&quot;: true, &quot;color&quot;: &quot;#d35400&quot;, &quot;dashArray&quot;: null, &quot;dashOffset&quot;: null, &quot;fill&quot;: true, &quot;fillColor&quot;: &quot;#d35400&quot;, &quot;fillOpacity&quot;: 0.2, &quot;fillRule&quot;: &quot;evenodd&quot;, &quot;lineCap&quot;: &quot;round&quot;, &quot;lineJoin&quot;: &quot;round&quot;, &quot;opacity&quot;: 1.0, &quot;radius&quot;: 1000, &quot;stroke&quot;: true, &quot;weight&quot;: 3}\n            ).addTo(map_c4d7c0e15bf4ba574a819fb59776da28);\n        \n    \n        var popup_edc27e7218e38a401f33306be09f86eb = L.popup({&quot;maxWidth&quot;: &quot;100%&quot;});\n\n        \n            var html_1984e07ce01affc7f972fe1397b2f814 = $(`&lt;div id=&quot;html_1984e07ce01affc7f972fe1397b2f814&quot; style=&quot;width: 100.0%; height: 100.0%;&quot;&gt;VAFB SLC-4E&lt;/div&gt;`)[0];\n            popup_edc27e7218e38a401f33306be09f86eb.setContent(html_1984e07ce01affc7f972fe1397b2f814);\n        \n\n        circle_6e26dcd6938361e683e04e248946679f.bindPopup(popup_edc27e7218e38a401f33306be09f86eb)\n        ;\n\n        \n    \n    \n            var marker_23e288a134a2f053236a32cde9c8df58 = L.marker(\n                [34.63283416, -120.6107455],\n                {}\n            ).addTo(map_c4d7c0e15bf4ba574a819fb59776da28);\n        \n    \n            var div_icon_85fe4e94abaf612357beb3255df5d9a5 = L.divIcon({&quot;className&quot;: &quot;empty&quot;, &quot;html&quot;: &quot;\\u003cdiv style=\\&quot;font-size: 12; color:#d35400;\\&quot;\\u003e\\u003cb\\u003eVAFB SLC-4E\\u003c/b\\u003e\\u003c/div\\u003e&quot;, &quot;iconAnchor&quot;: [0, 0], &quot;iconSize&quot;: [20, 20]});\n            marker_23e288a134a2f053236a32cde9c8df58.setIcon(div_icon_85fe4e94abaf612357beb3255df5d9a5);\n        \n    \n            var marker_cluster_fc5d5465a587b88785a92da72965d1dd = L.markerClusterGroup(\n                {}\n            );\n            map_c4d7c0e15bf4ba574a819fb59776da28.addLayer(marker_cluster_fc5d5465a587b88785a92da72965d1dd);\n        \n    \n            var marker_12c9090153d337c5c7338ab6a90a16e0 = L.marker(\n                [28.56230197, -80.57735648],\n                {}\n            ).addTo(marker_cluster_fc5d5465a587b88785a92da72965d1dd);\n        \n    \n            var icon_4e1070f44ef0273036102132bcb2a6ea = L.AwesomeMarkers.icon(\n                {&quot;extraClasses&quot;: &quot;fa-rotate-0&quot;, &quot;icon&quot;: &quot;info-sign&quot;, &quot;iconColor&quot;: &quot;red&quot;, &quot;markerColor&quot;: &quot;white&quot;, &quot;prefix&quot;: &quot;glyphicon&quot;}\n            );\n            marker_12c9090153d337c5c7338ab6a90a16e0.setIcon(icon_4e1070f44ef0273036102132bcb2a6ea);\n        \n    \n            var marker_c148023bf0d26da90df45eadf64f4816 = L.marker(\n                [28.56230197, -80.57735648],\n                {}\n            ).addTo(marker_cluster_fc5d5465a587b88785a92da72965d1dd);\n        \n    \n            var icon_6a6a4c437e1d950b5a0669b90b9565bd = L.AwesomeMarkers.icon(\n                {&quot;extraClasses&quot;: &quot;fa-rotate-0&quot;, &quot;icon&quot;: &quot;info-sign&quot;, &quot;iconColor&quot;: &quot;red&quot;, &quot;markerColor&quot;: &quot;white&quot;, &quot;prefix&quot;: &quot;glyphicon&quot;}\n            );\n            marker_c148023bf0d26da90df45eadf64f4816.setIcon(icon_6a6a4c437e1d950b5a0669b90b9565bd);\n        \n    \n            var marker_7c6ab1318484b2160cfe731fdab0bef4 = L.marker(\n                [28.56230197, -80.57735648],\n                {}\n            ).addTo(marker_cluster_fc5d5465a587b88785a92da72965d1dd);\n        \n    \n            var icon_9fced1e18824083519017ece6b1d02ff = L.AwesomeMarkers.icon(\n                {&quot;extraClasses&quot;: &quot;fa-rotate-0&quot;, &quot;icon&quot;: &quot;info-sign&quot;, &quot;iconColor&quot;: &quot;red&quot;, &quot;markerColor&quot;: &quot;white&quot;, &quot;prefix&quot;: &quot;glyphicon&quot;}\n            );\n            marker_7c6ab1318484b2160cfe731fdab0bef4.setIcon(icon_9fced1e18824083519017ece6b1d02ff);\n        \n    \n            var marker_d870a3039f54255d70e93e62e9b62ec3 = L.marker(\n                [28.56230197, -80.57735648],\n                {}\n            ).addTo(marker_cluster_fc5d5465a587b88785a92da72965d1dd);\n        \n    \n            var icon_5b00989f51d246d5f5ecc75772ce7a21 = L.AwesomeMarkers.icon(\n                {&quot;extraClasses&quot;: &quot;fa-rotate-0&quot;, &quot;icon&quot;: &quot;info-sign&quot;, &quot;iconColor&quot;: &quot;red&quot;, &quot;markerColor&quot;: &quot;white&quot;, &quot;prefix&quot;: &quot;glyphicon&quot;}\n            );\n            marker_d870a3039f54255d70e93e62e9b62ec3.setIcon(icon_5b00989f51d246d5f5ecc75772ce7a21);\n        \n    \n            var marker_78b417a64e13289288a0c28e12a44216 = L.marker(\n                [28.56230197, -80.57735648],\n                {}\n            ).addTo(marker_cluster_fc5d5465a587b88785a92da72965d1dd);\n        \n    \n            var icon_61ba0976cd88af2cbd4b1d6f47892dd1 = L.AwesomeMarkers.icon(\n                {&quot;extraClasses&quot;: &quot;fa-rotate-0&quot;, &quot;icon&quot;: &quot;info-sign&quot;, &quot;iconColor&quot;: &quot;red&quot;, &quot;markerColor&quot;: &quot;white&quot;, &quot;prefix&quot;: &quot;glyphicon&quot;}\n            );\n            marker_78b417a64e13289288a0c28e12a44216.setIcon(icon_61ba0976cd88af2cbd4b1d6f47892dd1);\n        \n    \n            var marker_49467c2a8290726e388450fcc10f2b09 = L.marker(\n                [28.56230197, -80.57735648],\n                {}\n            ).addTo(marker_cluster_fc5d5465a587b88785a92da72965d1dd);\n        \n    \n            var icon_1479236b9b58d70d14354560c0a6a6b5 = L.AwesomeMarkers.icon(\n                {&quot;extraClasses&quot;: &quot;fa-rotate-0&quot;, &quot;icon&quot;: &quot;info-sign&quot;, &quot;iconColor&quot;: &quot;red&quot;, &quot;markerColor&quot;: &quot;white&quot;, &quot;prefix&quot;: &quot;glyphicon&quot;}\n            );\n            marker_49467c2a8290726e388450fcc10f2b09.setIcon(icon_1479236b9b58d70d14354560c0a6a6b5);\n        \n    \n            var marker_9fffd56c0b426f831d8d763e65bb4d1f = L.marker(\n                [28.56230197, -80.57735648],\n                {}\n            ).addTo(marker_cluster_fc5d5465a587b88785a92da72965d1dd);\n        \n    \n            var icon_579f4873cfd59ddd23a351c5e62673da = L.AwesomeMarkers.icon(\n                {&quot;extraClasses&quot;: &quot;fa-rotate-0&quot;, &quot;icon&quot;: &quot;info-sign&quot;, &quot;iconColor&quot;: &quot;red&quot;, &quot;markerColor&quot;: &quot;white&quot;, &quot;prefix&quot;: &quot;glyphicon&quot;}\n            );\n            marker_9fffd56c0b426f831d8d763e65bb4d1f.setIcon(icon_579f4873cfd59ddd23a351c5e62673da);\n        \n    \n            var marker_3a538321374a16c9ae1d5ea705dc3b97 = L.marker(\n                [28.56230197, -80.57735648],\n                {}\n            ).addTo(marker_cluster_fc5d5465a587b88785a92da72965d1dd);\n        \n    \n            var icon_b5c677340edf67494feee762db15cd66 = L.AwesomeMarkers.icon(\n                {&quot;extraClasses&quot;: &quot;fa-rotate-0&quot;, &quot;icon&quot;: &quot;info-sign&quot;, &quot;iconColor&quot;: &quot;red&quot;, &quot;markerColor&quot;: &quot;white&quot;, &quot;prefix&quot;: &quot;glyphicon&quot;}\n            );\n            marker_3a538321374a16c9ae1d5ea705dc3b97.setIcon(icon_b5c677340edf67494feee762db15cd66);\n        \n    \n            var marker_9c440aa000f37ec4d2c778ffe1aaa3c3 = L.marker(\n                [28.56230197, -80.57735648],\n                {}\n            ).addTo(marker_cluster_fc5d5465a587b88785a92da72965d1dd);\n        \n    \n            var icon_16345e3bd64d3e210afec16a4ca94219 = L.AwesomeMarkers.icon(\n                {&quot;extraClasses&quot;: &quot;fa-rotate-0&quot;, &quot;icon&quot;: &quot;info-sign&quot;, &quot;iconColor&quot;: &quot;red&quot;, &quot;markerColor&quot;: &quot;white&quot;, &quot;prefix&quot;: &quot;glyphicon&quot;}\n            );\n            marker_9c440aa000f37ec4d2c778ffe1aaa3c3.setIcon(icon_16345e3bd64d3e210afec16a4ca94219);\n        \n    \n            var marker_48b770c868ae7ddbaadbc57e46f792f1 = L.marker(\n                [28.56230197, -80.57735648],\n                {}\n            ).addTo(marker_cluster_fc5d5465a587b88785a92da72965d1dd);\n        \n    \n            var icon_43ed37b64b8d812350ef18de43c25bac = L.AwesomeMarkers.icon(\n                {&quot;extraClasses&quot;: &quot;fa-rotate-0&quot;, &quot;icon&quot;: &quot;info-sign&quot;, &quot;iconColor&quot;: &quot;red&quot;, &quot;markerColor&quot;: &quot;white&quot;, &quot;prefix&quot;: &quot;glyphicon&quot;}\n            );\n            marker_48b770c868ae7ddbaadbc57e46f792f1.setIcon(icon_43ed37b64b8d812350ef18de43c25bac);\n        \n    \n            var marker_4483a00c3946bca3554724861b663f3e = L.marker(\n                [28.56230197, -80.57735648],\n                {}\n            ).addTo(marker_cluster_fc5d5465a587b88785a92da72965d1dd);\n        \n    \n            var icon_73d63309953d70fddeaeb909c5e755e3 = L.AwesomeMarkers.icon(\n                {&quot;extraClasses&quot;: &quot;fa-rotate-0&quot;, &quot;icon&quot;: &quot;info-sign&quot;, &quot;iconColor&quot;: &quot;red&quot;, &quot;markerColor&quot;: &quot;white&quot;, &quot;prefix&quot;: &quot;glyphicon&quot;}\n            );\n            marker_4483a00c3946bca3554724861b663f3e.setIcon(icon_73d63309953d70fddeaeb909c5e755e3);\n        \n    \n            var marker_79fb9456aae3fd166bef7fe7f5b72cfe = L.marker(\n                [28.56230197, -80.57735648],\n                {}\n            ).addTo(marker_cluster_fc5d5465a587b88785a92da72965d1dd);\n        \n    \n            var icon_2c76699e5761fa619b94ead8b672ba67 = L.AwesomeMarkers.icon(\n                {&quot;extraClasses&quot;: &quot;fa-rotate-0&quot;, &quot;icon&quot;: &quot;info-sign&quot;, &quot;iconColor&quot;: &quot;red&quot;, &quot;markerColor&quot;: &quot;white&quot;, &quot;prefix&quot;: &quot;glyphicon&quot;}\n            );\n            marker_79fb9456aae3fd166bef7fe7f5b72cfe.setIcon(icon_2c76699e5761fa619b94ead8b672ba67);\n        \n    \n            var marker_b8ad9925a78f5cbdd0a7477f7fad4336 = L.marker(\n                [28.56230197, -80.57735648],\n                {}\n            ).addTo(marker_cluster_fc5d5465a587b88785a92da72965d1dd);\n        \n    \n            var icon_cd0568d10243b9b0cbdc92a579e68f78 = L.AwesomeMarkers.icon(\n                {&quot;extraClasses&quot;: &quot;fa-rotate-0&quot;, &quot;icon&quot;: &quot;info-sign&quot;, &quot;iconColor&quot;: &quot;red&quot;, &quot;markerColor&quot;: &quot;white&quot;, &quot;prefix&quot;: &quot;glyphicon&quot;}\n            );\n            marker_b8ad9925a78f5cbdd0a7477f7fad4336.setIcon(icon_cd0568d10243b9b0cbdc92a579e68f78);\n        \n    \n            var marker_b5b49036fa009cd34ff21fcd6ce0c2d2 = L.marker(\n                [28.56230197, -80.57735648],\n                {}\n            ).addTo(marker_cluster_fc5d5465a587b88785a92da72965d1dd);\n        \n    \n            var icon_3720e5434273ad3a7825d308bba9d554 = L.AwesomeMarkers.icon(\n                {&quot;extraClasses&quot;: &quot;fa-rotate-0&quot;, &quot;icon&quot;: &quot;info-sign&quot;, &quot;iconColor&quot;: &quot;red&quot;, &quot;markerColor&quot;: &quot;white&quot;, &quot;prefix&quot;: &quot;glyphicon&quot;}\n            );\n            marker_b5b49036fa009cd34ff21fcd6ce0c2d2.setIcon(icon_3720e5434273ad3a7825d308bba9d554);\n        \n    \n            var marker_bccad583bc0ef406109f597db233a090 = L.marker(\n                [28.56230197, -80.57735648],\n                {}\n            ).addTo(marker_cluster_fc5d5465a587b88785a92da72965d1dd);\n        \n    \n            var icon_1e3ec5aa5d24d7c7e1f5156afdb132b2 = L.AwesomeMarkers.icon(\n                {&quot;extraClasses&quot;: &quot;fa-rotate-0&quot;, &quot;icon&quot;: &quot;info-sign&quot;, &quot;iconColor&quot;: &quot;red&quot;, &quot;markerColor&quot;: &quot;white&quot;, &quot;prefix&quot;: &quot;glyphicon&quot;}\n            );\n            marker_bccad583bc0ef406109f597db233a090.setIcon(icon_1e3ec5aa5d24d7c7e1f5156afdb132b2);\n        \n    \n            var marker_1d33a3100c6fc5aa380111c85ae535f8 = L.marker(\n                [28.56230197, -80.57735648],\n                {}\n            ).addTo(marker_cluster_fc5d5465a587b88785a92da72965d1dd);\n        \n    \n            var icon_48940c2da33fbeb6ea2932bc094c5c4e = L.AwesomeMarkers.icon(\n                {&quot;extraClasses&quot;: &quot;fa-rotate-0&quot;, &quot;icon&quot;: &quot;info-sign&quot;, &quot;iconColor&quot;: &quot;red&quot;, &quot;markerColor&quot;: &quot;white&quot;, &quot;prefix&quot;: &quot;glyphicon&quot;}\n            );\n            marker_1d33a3100c6fc5aa380111c85ae535f8.setIcon(icon_48940c2da33fbeb6ea2932bc094c5c4e);\n        \n    \n            var marker_da15c4319827dcd49ce9fa7df257be24 = L.marker(\n                [28.56230197, -80.57735648],\n                {}\n            ).addTo(marker_cluster_fc5d5465a587b88785a92da72965d1dd);\n        \n    \n            var icon_f5552d1a85f67415b6e262e28af33e6e = L.AwesomeMarkers.icon(\n                {&quot;extraClasses&quot;: &quot;fa-rotate-0&quot;, &quot;icon&quot;: &quot;info-sign&quot;, &quot;iconColor&quot;: &quot;red&quot;, &quot;markerColor&quot;: &quot;white&quot;, &quot;prefix&quot;: &quot;glyphicon&quot;}\n            );\n            marker_da15c4319827dcd49ce9fa7df257be24.setIcon(icon_f5552d1a85f67415b6e262e28af33e6e);\n        \n    \n            var marker_3a7cce6a5a11b2c7b2c17996f56f0362 = L.marker(\n                [28.56230197, -80.57735648],\n                {}\n            ).addTo(marker_cluster_fc5d5465a587b88785a92da72965d1dd);\n        \n    \n            var icon_f090ca3aaaaedb02129d840b34630012 = L.AwesomeMarkers.icon(\n                {&quot;extraClasses&quot;: &quot;fa-rotate-0&quot;, &quot;icon&quot;: &quot;info-sign&quot;, &quot;iconColor&quot;: &quot;green&quot;, &quot;markerColor&quot;: &quot;white&quot;, &quot;prefix&quot;: &quot;glyphicon&quot;}\n            );\n            marker_3a7cce6a5a11b2c7b2c17996f56f0362.setIcon(icon_f090ca3aaaaedb02129d840b34630012);\n        \n    \n            var marker_11d643aae902c0785b9f34d78b920639 = L.marker(\n                [28.56230197, -80.57735648],\n                {}\n            ).addTo(marker_cluster_fc5d5465a587b88785a92da72965d1dd);\n        \n    \n            var icon_f3db0108f7fd5edf1593b7896166b1aa = L.AwesomeMarkers.icon(\n                {&quot;extraClasses&quot;: &quot;fa-rotate-0&quot;, &quot;icon&quot;: &quot;info-sign&quot;, &quot;iconColor&quot;: &quot;green&quot;, &quot;markerColor&quot;: &quot;white&quot;, &quot;prefix&quot;: &quot;glyphicon&quot;}\n            );\n            marker_11d643aae902c0785b9f34d78b920639.setIcon(icon_f3db0108f7fd5edf1593b7896166b1aa);\n        \n    \n            var marker_b77d2c1208aa02d5af4a214c1c93f463 = L.marker(\n                [28.56230197, -80.57735648],\n                {}\n            ).addTo(marker_cluster_fc5d5465a587b88785a92da72965d1dd);\n        \n    \n            var icon_168cc393ed076d37224b9f96a121832d = L.AwesomeMarkers.icon(\n                {&quot;extraClasses&quot;: &quot;fa-rotate-0&quot;, &quot;icon&quot;: &quot;info-sign&quot;, &quot;iconColor&quot;: &quot;red&quot;, &quot;markerColor&quot;: &quot;white&quot;, &quot;prefix&quot;: &quot;glyphicon&quot;}\n            );\n            marker_b77d2c1208aa02d5af4a214c1c93f463.setIcon(icon_168cc393ed076d37224b9f96a121832d);\n        \n    \n            var marker_d24a4b885fa3d04d51585edd86d2a794 = L.marker(\n                [28.56230197, -80.57735648],\n                {}\n            ).addTo(marker_cluster_fc5d5465a587b88785a92da72965d1dd);\n        \n    \n            var icon_6bd809104e085dd0d8a5b0d4b076a6ac = L.AwesomeMarkers.icon(\n                {&quot;extraClasses&quot;: &quot;fa-rotate-0&quot;, &quot;icon&quot;: &quot;info-sign&quot;, &quot;iconColor&quot;: &quot;green&quot;, &quot;markerColor&quot;: &quot;white&quot;, &quot;prefix&quot;: &quot;glyphicon&quot;}\n            );\n            marker_d24a4b885fa3d04d51585edd86d2a794.setIcon(icon_6bd809104e085dd0d8a5b0d4b076a6ac);\n        \n    \n            var marker_47df843f11c6eb3372986409b218c1c4 = L.marker(\n                [28.56230197, -80.57735648],\n                {}\n            ).addTo(marker_cluster_fc5d5465a587b88785a92da72965d1dd);\n        \n    \n            var icon_67619ab20e2259293b91fa564caaa255 = L.AwesomeMarkers.icon(\n                {&quot;extraClasses&quot;: &quot;fa-rotate-0&quot;, &quot;icon&quot;: &quot;info-sign&quot;, &quot;iconColor&quot;: &quot;green&quot;, &quot;markerColor&quot;: &quot;white&quot;, &quot;prefix&quot;: &quot;glyphicon&quot;}\n            );\n            marker_47df843f11c6eb3372986409b218c1c4.setIcon(icon_67619ab20e2259293b91fa564caaa255);\n        \n    \n            var marker_d3d0ef106495c43cb22fc399a137720a = L.marker(\n                [28.56230197, -80.57735648],\n                {}\n            ).addTo(marker_cluster_fc5d5465a587b88785a92da72965d1dd);\n        \n    \n            var icon_559491eaa66a3b11ced6063b688e6f92 = L.AwesomeMarkers.icon(\n                {&quot;extraClasses&quot;: &quot;fa-rotate-0&quot;, &quot;icon&quot;: &quot;info-sign&quot;, &quot;iconColor&quot;: &quot;green&quot;, &quot;markerColor&quot;: &quot;white&quot;, &quot;prefix&quot;: &quot;glyphicon&quot;}\n            );\n            marker_d3d0ef106495c43cb22fc399a137720a.setIcon(icon_559491eaa66a3b11ced6063b688e6f92);\n        \n    \n            var marker_ae99ba7ac2d19326edbf286b7aeabc40 = L.marker(\n                [28.56230197, -80.57735648],\n                {}\n            ).addTo(marker_cluster_fc5d5465a587b88785a92da72965d1dd);\n        \n    \n            var icon_ec0481374a76f6e3b22205b8f40de143 = L.AwesomeMarkers.icon(\n                {&quot;extraClasses&quot;: &quot;fa-rotate-0&quot;, &quot;icon&quot;: &quot;info-sign&quot;, &quot;iconColor&quot;: &quot;red&quot;, &quot;markerColor&quot;: &quot;white&quot;, &quot;prefix&quot;: &quot;glyphicon&quot;}\n            );\n            marker_ae99ba7ac2d19326edbf286b7aeabc40.setIcon(icon_ec0481374a76f6e3b22205b8f40de143);\n        \n    \n            var marker_fa63df7b79452e5fac9be557a9600693 = L.marker(\n                [28.56230197, -80.57735648],\n                {}\n            ).addTo(marker_cluster_fc5d5465a587b88785a92da72965d1dd);\n        \n    \n            var icon_79e40a0f661ddea87d7e3b4508ef72c6 = L.AwesomeMarkers.icon(\n                {&quot;extraClasses&quot;: &quot;fa-rotate-0&quot;, &quot;icon&quot;: &quot;info-sign&quot;, &quot;iconColor&quot;: &quot;green&quot;, &quot;markerColor&quot;: &quot;white&quot;, &quot;prefix&quot;: &quot;glyphicon&quot;}\n            );\n            marker_fa63df7b79452e5fac9be557a9600693.setIcon(icon_79e40a0f661ddea87d7e3b4508ef72c6);\n        \n    \n            var marker_566706dc39cb23ff1a0fb1d6af4b8c56 = L.marker(\n                [28.56230197, -80.57735648],\n                {}\n            ).addTo(marker_cluster_fc5d5465a587b88785a92da72965d1dd);\n        \n    \n            var icon_f6321c2bba3e1d183515c902bfaa83c5 = L.AwesomeMarkers.icon(\n                {&quot;extraClasses&quot;: &quot;fa-rotate-0&quot;, &quot;icon&quot;: &quot;info-sign&quot;, &quot;iconColor&quot;: &quot;green&quot;, &quot;markerColor&quot;: &quot;white&quot;, &quot;prefix&quot;: &quot;glyphicon&quot;}\n            );\n            marker_566706dc39cb23ff1a0fb1d6af4b8c56.setIcon(icon_f6321c2bba3e1d183515c902bfaa83c5);\n        \n    \n            var marker_20e605903f1cd958a18c82c6ec1c6c5f = L.marker(\n                [34.63283416, -120.6107455],\n                {}\n            ).addTo(marker_cluster_fc5d5465a587b88785a92da72965d1dd);\n        \n    \n            var icon_7e2023b9125d7c12c26167063c5d84a7 = L.AwesomeMarkers.icon(\n                {&quot;extraClasses&quot;: &quot;fa-rotate-0&quot;, &quot;icon&quot;: &quot;info-sign&quot;, &quot;iconColor&quot;: &quot;red&quot;, &quot;markerColor&quot;: &quot;white&quot;, &quot;prefix&quot;: &quot;glyphicon&quot;}\n            );\n            marker_20e605903f1cd958a18c82c6ec1c6c5f.setIcon(icon_7e2023b9125d7c12c26167063c5d84a7);\n        \n    \n            var marker_c101e01acc963442e8bc225ef9f5535b = L.marker(\n                [34.63283416, -120.6107455],\n                {}\n            ).addTo(marker_cluster_fc5d5465a587b88785a92da72965d1dd);\n        \n    \n            var icon_944d693b1e981ccff829728df633c2e9 = L.AwesomeMarkers.icon(\n                {&quot;extraClasses&quot;: &quot;fa-rotate-0&quot;, &quot;icon&quot;: &quot;info-sign&quot;, &quot;iconColor&quot;: &quot;red&quot;, &quot;markerColor&quot;: &quot;white&quot;, &quot;prefix&quot;: &quot;glyphicon&quot;}\n            );\n            marker_c101e01acc963442e8bc225ef9f5535b.setIcon(icon_944d693b1e981ccff829728df633c2e9);\n        \n    \n            var marker_3e0fb3f401c326087c764630620f9235 = L.marker(\n                [34.63283416, -120.6107455],\n                {}\n            ).addTo(marker_cluster_fc5d5465a587b88785a92da72965d1dd);\n        \n    \n            var icon_135b71cfcc7d4775b9a1688df565001d = L.AwesomeMarkers.icon(\n                {&quot;extraClasses&quot;: &quot;fa-rotate-0&quot;, &quot;icon&quot;: &quot;info-sign&quot;, &quot;iconColor&quot;: &quot;green&quot;, &quot;markerColor&quot;: &quot;white&quot;, &quot;prefix&quot;: &quot;glyphicon&quot;}\n            );\n            marker_3e0fb3f401c326087c764630620f9235.setIcon(icon_135b71cfcc7d4775b9a1688df565001d);\n        \n    \n            var marker_e88e0cebb202323667245471fff4d66a = L.marker(\n                [34.63283416, -120.6107455],\n                {}\n            ).addTo(marker_cluster_fc5d5465a587b88785a92da72965d1dd);\n        \n    \n            var icon_d3c16369864dafcae68a1ae1bfda7435 = L.AwesomeMarkers.icon(\n                {&quot;extraClasses&quot;: &quot;fa-rotate-0&quot;, &quot;icon&quot;: &quot;info-sign&quot;, &quot;iconColor&quot;: &quot;green&quot;, &quot;markerColor&quot;: &quot;white&quot;, &quot;prefix&quot;: &quot;glyphicon&quot;}\n            );\n            marker_e88e0cebb202323667245471fff4d66a.setIcon(icon_d3c16369864dafcae68a1ae1bfda7435);\n        \n    \n            var marker_f27ffd7d8d9525ffea2fb1daa3569af1 = L.marker(\n                [34.63283416, -120.6107455],\n                {}\n            ).addTo(marker_cluster_fc5d5465a587b88785a92da72965d1dd);\n        \n    \n            var icon_b4fde11ffb6408544e2812d8497c9603 = L.AwesomeMarkers.icon(\n                {&quot;extraClasses&quot;: &quot;fa-rotate-0&quot;, &quot;icon&quot;: &quot;info-sign&quot;, &quot;iconColor&quot;: &quot;green&quot;, &quot;markerColor&quot;: &quot;white&quot;, &quot;prefix&quot;: &quot;glyphicon&quot;}\n            );\n            marker_f27ffd7d8d9525ffea2fb1daa3569af1.setIcon(icon_b4fde11ffb6408544e2812d8497c9603);\n        \n    \n            var marker_e8850eaf2b7caca084882e8cd6595d05 = L.marker(\n                [34.63283416, -120.6107455],\n                {}\n            ).addTo(marker_cluster_fc5d5465a587b88785a92da72965d1dd);\n        \n    \n            var icon_051c24702ecae033d2b63341207a6bf0 = L.AwesomeMarkers.icon(\n                {&quot;extraClasses&quot;: &quot;fa-rotate-0&quot;, &quot;icon&quot;: &quot;info-sign&quot;, &quot;iconColor&quot;: &quot;green&quot;, &quot;markerColor&quot;: &quot;white&quot;, &quot;prefix&quot;: &quot;glyphicon&quot;}\n            );\n            marker_e8850eaf2b7caca084882e8cd6595d05.setIcon(icon_051c24702ecae033d2b63341207a6bf0);\n        \n    \n            var marker_4bc36a9f9ac70560e9ee4ecdd0d9caa0 = L.marker(\n                [34.63283416, -120.6107455],\n                {}\n            ).addTo(marker_cluster_fc5d5465a587b88785a92da72965d1dd);\n        \n    \n            var icon_a42f895c11d1ba0a0f9191c37d7ec4ea = L.AwesomeMarkers.icon(\n                {&quot;extraClasses&quot;: &quot;fa-rotate-0&quot;, &quot;icon&quot;: &quot;info-sign&quot;, &quot;iconColor&quot;: &quot;red&quot;, &quot;markerColor&quot;: &quot;white&quot;, &quot;prefix&quot;: &quot;glyphicon&quot;}\n            );\n            marker_4bc36a9f9ac70560e9ee4ecdd0d9caa0.setIcon(icon_a42f895c11d1ba0a0f9191c37d7ec4ea);\n        \n    \n            var marker_23345f661bcaffa2de095d00e07273e6 = L.marker(\n                [34.63283416, -120.6107455],\n                {}\n            ).addTo(marker_cluster_fc5d5465a587b88785a92da72965d1dd);\n        \n    \n            var icon_fa1ff50eb043f41ddadbeb4afdaac74f = L.AwesomeMarkers.icon(\n                {&quot;extraClasses&quot;: &quot;fa-rotate-0&quot;, &quot;icon&quot;: &quot;info-sign&quot;, &quot;iconColor&quot;: &quot;red&quot;, &quot;markerColor&quot;: &quot;white&quot;, &quot;prefix&quot;: &quot;glyphicon&quot;}\n            );\n            marker_23345f661bcaffa2de095d00e07273e6.setIcon(icon_fa1ff50eb043f41ddadbeb4afdaac74f);\n        \n    \n            var marker_6548124e1c86a3e6146153c2d39a8518 = L.marker(\n                [34.63283416, -120.6107455],\n                {}\n            ).addTo(marker_cluster_fc5d5465a587b88785a92da72965d1dd);\n        \n    \n            var icon_cf885ecf2fcc403444aeac1da700ca4b = L.AwesomeMarkers.icon(\n                {&quot;extraClasses&quot;: &quot;fa-rotate-0&quot;, &quot;icon&quot;: &quot;info-sign&quot;, &quot;iconColor&quot;: &quot;red&quot;, &quot;markerColor&quot;: &quot;white&quot;, &quot;prefix&quot;: &quot;glyphicon&quot;}\n            );\n            marker_6548124e1c86a3e6146153c2d39a8518.setIcon(icon_cf885ecf2fcc403444aeac1da700ca4b);\n        \n    \n            var marker_dc2f5ff34c236584de6ba118e20dc08f = L.marker(\n                [34.63283416, -120.6107455],\n                {}\n            ).addTo(marker_cluster_fc5d5465a587b88785a92da72965d1dd);\n        \n    \n            var icon_394191b52198ece79d331dbf556e2867 = L.AwesomeMarkers.icon(\n                {&quot;extraClasses&quot;: &quot;fa-rotate-0&quot;, &quot;icon&quot;: &quot;info-sign&quot;, &quot;iconColor&quot;: &quot;red&quot;, &quot;markerColor&quot;: &quot;white&quot;, &quot;prefix&quot;: &quot;glyphicon&quot;}\n            );\n            marker_dc2f5ff34c236584de6ba118e20dc08f.setIcon(icon_394191b52198ece79d331dbf556e2867);\n        \n    \n            var marker_95f899ad6682fea3d484691f80b16613 = L.marker(\n                [28.57325457, -80.64689529],\n                {}\n            ).addTo(marker_cluster_fc5d5465a587b88785a92da72965d1dd);\n        \n    \n            var icon_7f1dd2c3cf6e36d13c6c32658a1da258 = L.AwesomeMarkers.icon(\n                {&quot;extraClasses&quot;: &quot;fa-rotate-0&quot;, &quot;icon&quot;: &quot;info-sign&quot;, &quot;iconColor&quot;: &quot;green&quot;, &quot;markerColor&quot;: &quot;white&quot;, &quot;prefix&quot;: &quot;glyphicon&quot;}\n            );\n            marker_95f899ad6682fea3d484691f80b16613.setIcon(icon_7f1dd2c3cf6e36d13c6c32658a1da258);\n        \n    \n            var marker_819eeabff8a8b3733a097e93b3b69cfa = L.marker(\n                [28.57325457, -80.64689529],\n                {}\n            ).addTo(marker_cluster_fc5d5465a587b88785a92da72965d1dd);\n        \n    \n            var icon_f9fe97de2c777ca2004a7700ae3d30ad = L.AwesomeMarkers.icon(\n                {&quot;extraClasses&quot;: &quot;fa-rotate-0&quot;, &quot;icon&quot;: &quot;info-sign&quot;, &quot;iconColor&quot;: &quot;red&quot;, &quot;markerColor&quot;: &quot;white&quot;, &quot;prefix&quot;: &quot;glyphicon&quot;}\n            );\n            marker_819eeabff8a8b3733a097e93b3b69cfa.setIcon(icon_f9fe97de2c777ca2004a7700ae3d30ad);\n        \n    \n            var marker_7ed02a7235b3cdbce09b49bd10624ecb = L.marker(\n                [28.57325457, -80.64689529],\n                {}\n            ).addTo(marker_cluster_fc5d5465a587b88785a92da72965d1dd);\n        \n    \n            var icon_4995e874e276a04282874112c1b6d681 = L.AwesomeMarkers.icon(\n                {&quot;extraClasses&quot;: &quot;fa-rotate-0&quot;, &quot;icon&quot;: &quot;info-sign&quot;, &quot;iconColor&quot;: &quot;green&quot;, &quot;markerColor&quot;: &quot;white&quot;, &quot;prefix&quot;: &quot;glyphicon&quot;}\n            );\n            marker_7ed02a7235b3cdbce09b49bd10624ecb.setIcon(icon_4995e874e276a04282874112c1b6d681);\n        \n    \n            var marker_5f8a339f283270564b04ba3532fc38ab = L.marker(\n                [28.57325457, -80.64689529],\n                {}\n            ).addTo(marker_cluster_fc5d5465a587b88785a92da72965d1dd);\n        \n    \n            var icon_da7f24768280fc76205759b6cb3d7871 = L.AwesomeMarkers.icon(\n                {&quot;extraClasses&quot;: &quot;fa-rotate-0&quot;, &quot;icon&quot;: &quot;info-sign&quot;, &quot;iconColor&quot;: &quot;green&quot;, &quot;markerColor&quot;: &quot;white&quot;, &quot;prefix&quot;: &quot;glyphicon&quot;}\n            );\n            marker_5f8a339f283270564b04ba3532fc38ab.setIcon(icon_da7f24768280fc76205759b6cb3d7871);\n        \n    \n            var marker_380a4c2a3dee9d29cd44df9588a918ae = L.marker(\n                [28.57325457, -80.64689529],\n                {}\n            ).addTo(marker_cluster_fc5d5465a587b88785a92da72965d1dd);\n        \n    \n            var icon_6bc315de1c53e8c38a7ec859eca42628 = L.AwesomeMarkers.icon(\n                {&quot;extraClasses&quot;: &quot;fa-rotate-0&quot;, &quot;icon&quot;: &quot;info-sign&quot;, &quot;iconColor&quot;: &quot;red&quot;, &quot;markerColor&quot;: &quot;white&quot;, &quot;prefix&quot;: &quot;glyphicon&quot;}\n            );\n            marker_380a4c2a3dee9d29cd44df9588a918ae.setIcon(icon_6bc315de1c53e8c38a7ec859eca42628);\n        \n    \n            var marker_32b43adb2d41917e4fe7d36bb8438b43 = L.marker(\n                [28.57325457, -80.64689529],\n                {}\n            ).addTo(marker_cluster_fc5d5465a587b88785a92da72965d1dd);\n        \n    \n            var icon_1251eb28c7b69052e82ff05b605fc074 = L.AwesomeMarkers.icon(\n                {&quot;extraClasses&quot;: &quot;fa-rotate-0&quot;, &quot;icon&quot;: &quot;info-sign&quot;, &quot;iconColor&quot;: &quot;green&quot;, &quot;markerColor&quot;: &quot;white&quot;, &quot;prefix&quot;: &quot;glyphicon&quot;}\n            );\n            marker_32b43adb2d41917e4fe7d36bb8438b43.setIcon(icon_1251eb28c7b69052e82ff05b605fc074);\n        \n    \n            var marker_34a742778a4b7daacc00d76f90011651 = L.marker(\n                [28.57325457, -80.64689529],\n                {}\n            ).addTo(marker_cluster_fc5d5465a587b88785a92da72965d1dd);\n        \n    \n            var icon_88a335642815181057242e412a0379ad = L.AwesomeMarkers.icon(\n                {&quot;extraClasses&quot;: &quot;fa-rotate-0&quot;, &quot;icon&quot;: &quot;info-sign&quot;, &quot;iconColor&quot;: &quot;green&quot;, &quot;markerColor&quot;: &quot;white&quot;, &quot;prefix&quot;: &quot;glyphicon&quot;}\n            );\n            marker_34a742778a4b7daacc00d76f90011651.setIcon(icon_88a335642815181057242e412a0379ad);\n        \n    \n            var marker_b60cfe61cfe8dc090e8d831b42dfdda1 = L.marker(\n                [28.57325457, -80.64689529],\n                {}\n            ).addTo(marker_cluster_fc5d5465a587b88785a92da72965d1dd);\n        \n    \n            var icon_23f60893771216943e127c508228f775 = L.AwesomeMarkers.icon(\n                {&quot;extraClasses&quot;: &quot;fa-rotate-0&quot;, &quot;icon&quot;: &quot;info-sign&quot;, &quot;iconColor&quot;: &quot;red&quot;, &quot;markerColor&quot;: &quot;white&quot;, &quot;prefix&quot;: &quot;glyphicon&quot;}\n            );\n            marker_b60cfe61cfe8dc090e8d831b42dfdda1.setIcon(icon_23f60893771216943e127c508228f775);\n        \n    \n            var marker_96ce880fe70f7e514efa39d91b09fd90 = L.marker(\n                [28.57325457, -80.64689529],\n                {}\n            ).addTo(marker_cluster_fc5d5465a587b88785a92da72965d1dd);\n        \n    \n            var icon_f404b42d59585e58b46446e50897685a = L.AwesomeMarkers.icon(\n                {&quot;extraClasses&quot;: &quot;fa-rotate-0&quot;, &quot;icon&quot;: &quot;info-sign&quot;, &quot;iconColor&quot;: &quot;green&quot;, &quot;markerColor&quot;: &quot;white&quot;, &quot;prefix&quot;: &quot;glyphicon&quot;}\n            );\n            marker_96ce880fe70f7e514efa39d91b09fd90.setIcon(icon_f404b42d59585e58b46446e50897685a);\n        \n    \n            var marker_216f3f0c987c542c5e93d11f7ee19851 = L.marker(\n                [28.57325457, -80.64689529],\n                {}\n            ).addTo(marker_cluster_fc5d5465a587b88785a92da72965d1dd);\n        \n    \n            var icon_43e0b892c517d19fc646365757bc79ce = L.AwesomeMarkers.icon(\n                {&quot;extraClasses&quot;: &quot;fa-rotate-0&quot;, &quot;icon&quot;: &quot;info-sign&quot;, &quot;iconColor&quot;: &quot;green&quot;, &quot;markerColor&quot;: &quot;white&quot;, &quot;prefix&quot;: &quot;glyphicon&quot;}\n            );\n            marker_216f3f0c987c542c5e93d11f7ee19851.setIcon(icon_43e0b892c517d19fc646365757bc79ce);\n        \n    \n            var marker_3becb0eee65060a07c6e74608bd5aa1b = L.marker(\n                [28.57325457, -80.64689529],\n                {}\n            ).addTo(marker_cluster_fc5d5465a587b88785a92da72965d1dd);\n        \n    \n            var icon_c2bc517288cdcec421388df883c2f1d2 = L.AwesomeMarkers.icon(\n                {&quot;extraClasses&quot;: &quot;fa-rotate-0&quot;, &quot;icon&quot;: &quot;info-sign&quot;, &quot;iconColor&quot;: &quot;green&quot;, &quot;markerColor&quot;: &quot;white&quot;, &quot;prefix&quot;: &quot;glyphicon&quot;}\n            );\n            marker_3becb0eee65060a07c6e74608bd5aa1b.setIcon(icon_c2bc517288cdcec421388df883c2f1d2);\n        \n    \n            var marker_b137f95be09824f0f20b70ebf56a7b7f = L.marker(\n                [28.57325457, -80.64689529],\n                {}\n            ).addTo(marker_cluster_fc5d5465a587b88785a92da72965d1dd);\n        \n    \n            var icon_2bc6f0c6360c9a6cec47812cade6abfb = L.AwesomeMarkers.icon(\n                {&quot;extraClasses&quot;: &quot;fa-rotate-0&quot;, &quot;icon&quot;: &quot;info-sign&quot;, &quot;iconColor&quot;: &quot;green&quot;, &quot;markerColor&quot;: &quot;white&quot;, &quot;prefix&quot;: &quot;glyphicon&quot;}\n            );\n            marker_b137f95be09824f0f20b70ebf56a7b7f.setIcon(icon_2bc6f0c6360c9a6cec47812cade6abfb);\n        \n    \n            var marker_056f1ea2fc2de1403003a1487dd00c4e = L.marker(\n                [28.57325457, -80.64689529],\n                {}\n            ).addTo(marker_cluster_fc5d5465a587b88785a92da72965d1dd);\n        \n    \n            var icon_a00b2c65d40e7108e96d648f31e0d2a4 = L.AwesomeMarkers.icon(\n                {&quot;extraClasses&quot;: &quot;fa-rotate-0&quot;, &quot;icon&quot;: &quot;info-sign&quot;, &quot;iconColor&quot;: &quot;green&quot;, &quot;markerColor&quot;: &quot;white&quot;, &quot;prefix&quot;: &quot;glyphicon&quot;}\n            );\n            marker_056f1ea2fc2de1403003a1487dd00c4e.setIcon(icon_a00b2c65d40e7108e96d648f31e0d2a4);\n        \n    \n            var marker_c5ed23069fbddf6260bb8cf3fdd520ca = L.marker(\n                [28.56319718, -80.57682003],\n                {}\n            ).addTo(marker_cluster_fc5d5465a587b88785a92da72965d1dd);\n        \n    \n            var icon_0475f081f60f1ad5febefadb536facd3 = L.AwesomeMarkers.icon(\n                {&quot;extraClasses&quot;: &quot;fa-rotate-0&quot;, &quot;icon&quot;: &quot;info-sign&quot;, &quot;iconColor&quot;: &quot;green&quot;, &quot;markerColor&quot;: &quot;white&quot;, &quot;prefix&quot;: &quot;glyphicon&quot;}\n            );\n            marker_c5ed23069fbddf6260bb8cf3fdd520ca.setIcon(icon_0475f081f60f1ad5febefadb536facd3);\n        \n    \n            var marker_88057566cbee046bdd0ae4636b3f1d0d = L.marker(\n                [28.56319718, -80.57682003],\n                {}\n            ).addTo(marker_cluster_fc5d5465a587b88785a92da72965d1dd);\n        \n    \n            var icon_8a0b77e68e9f4c61335f1a2438f087a0 = L.AwesomeMarkers.icon(\n                {&quot;extraClasses&quot;: &quot;fa-rotate-0&quot;, &quot;icon&quot;: &quot;info-sign&quot;, &quot;iconColor&quot;: &quot;green&quot;, &quot;markerColor&quot;: &quot;white&quot;, &quot;prefix&quot;: &quot;glyphicon&quot;}\n            );\n            marker_88057566cbee046bdd0ae4636b3f1d0d.setIcon(icon_8a0b77e68e9f4c61335f1a2438f087a0);\n        \n    \n            var marker_fe613efde5a37f7256c118580c227e15 = L.marker(\n                [28.56319718, -80.57682003],\n                {}\n            ).addTo(marker_cluster_fc5d5465a587b88785a92da72965d1dd);\n        \n    \n            var icon_0d4d64ef022f44c881e8185111a95405 = L.AwesomeMarkers.icon(\n                {&quot;extraClasses&quot;: &quot;fa-rotate-0&quot;, &quot;icon&quot;: &quot;info-sign&quot;, &quot;iconColor&quot;: &quot;red&quot;, &quot;markerColor&quot;: &quot;white&quot;, &quot;prefix&quot;: &quot;glyphicon&quot;}\n            );\n            marker_fe613efde5a37f7256c118580c227e15.setIcon(icon_0d4d64ef022f44c881e8185111a95405);\n        \n    \n            var marker_53bfbb1fd770e29e593697092e4a7460 = L.marker(\n                [28.56319718, -80.57682003],\n                {}\n            ).addTo(marker_cluster_fc5d5465a587b88785a92da72965d1dd);\n        \n    \n            var icon_429e3fa79e8f45db4eceb3bc2eab2109 = L.AwesomeMarkers.icon(\n                {&quot;extraClasses&quot;: &quot;fa-rotate-0&quot;, &quot;icon&quot;: &quot;info-sign&quot;, &quot;iconColor&quot;: &quot;red&quot;, &quot;markerColor&quot;: &quot;white&quot;, &quot;prefix&quot;: &quot;glyphicon&quot;}\n            );\n            marker_53bfbb1fd770e29e593697092e4a7460.setIcon(icon_429e3fa79e8f45db4eceb3bc2eab2109);\n        \n    \n            var marker_2b64f7c93bbeab9f4e20af7d0af234a6 = L.marker(\n                [28.56319718, -80.57682003],\n                {}\n            ).addTo(marker_cluster_fc5d5465a587b88785a92da72965d1dd);\n        \n    \n            var icon_82eced3abc24688b752bb1e93b8b66f6 = L.AwesomeMarkers.icon(\n                {&quot;extraClasses&quot;: &quot;fa-rotate-0&quot;, &quot;icon&quot;: &quot;info-sign&quot;, &quot;iconColor&quot;: &quot;red&quot;, &quot;markerColor&quot;: &quot;white&quot;, &quot;prefix&quot;: &quot;glyphicon&quot;}\n            );\n            marker_2b64f7c93bbeab9f4e20af7d0af234a6.setIcon(icon_82eced3abc24688b752bb1e93b8b66f6);\n        \n    \n            var marker_ff525ceaf85b558181f4c6562670ef44 = L.marker(\n                [28.56319718, -80.57682003],\n                {}\n            ).addTo(marker_cluster_fc5d5465a587b88785a92da72965d1dd);\n        \n    \n            var icon_16a2b837255d0ec772742015e13d308f = L.AwesomeMarkers.icon(\n                {&quot;extraClasses&quot;: &quot;fa-rotate-0&quot;, &quot;icon&quot;: &quot;info-sign&quot;, &quot;iconColor&quot;: &quot;green&quot;, &quot;markerColor&quot;: &quot;white&quot;, &quot;prefix&quot;: &quot;glyphicon&quot;}\n            );\n            marker_ff525ceaf85b558181f4c6562670ef44.setIcon(icon_16a2b837255d0ec772742015e13d308f);\n        \n    \n            var marker_09a5c7c6c632e8e7e2b94337539b6a14 = L.marker(\n                [28.56319718, -80.57682003],\n                {}\n            ).addTo(marker_cluster_fc5d5465a587b88785a92da72965d1dd);\n        \n    \n            var icon_767028ba0d37d55bef587c6e5b2d20d6 = L.AwesomeMarkers.icon(\n                {&quot;extraClasses&quot;: &quot;fa-rotate-0&quot;, &quot;icon&quot;: &quot;info-sign&quot;, &quot;iconColor&quot;: &quot;red&quot;, &quot;markerColor&quot;: &quot;white&quot;, &quot;prefix&quot;: &quot;glyphicon&quot;}\n            );\n            marker_09a5c7c6c632e8e7e2b94337539b6a14.setIcon(icon_767028ba0d37d55bef587c6e5b2d20d6);\n        \n    \n            var mouse_position_f9011e25ed8cc143ceb87c634f44bed4 = new L.Control.MousePosition(\n                {&quot;emptyString&quot;: &quot;NaN&quot;, &quot;lngFirst&quot;: false, &quot;numDigits&quot;: 20, &quot;position&quot;: &quot;topright&quot;, &quot;prefix&quot;: &quot;Lat:&quot;, &quot;separator&quot;: &quot; Long: &quot;}\n            );\n            mouse_position_f9011e25ed8cc143ceb87c634f44bed4.options[&quot;latFormatter&quot;] =\n                function(num) {return L.Util.formatNum(num, 5);};;\n            mouse_position_f9011e25ed8cc143ceb87c634f44bed4.options[&quot;lngFormatter&quot;] =\n                function(num) {return L.Util.formatNum(num, 5);};;\n            map_c4d7c0e15bf4ba574a819fb59776da28.addControl(mouse_position_f9011e25ed8cc143ceb87c634f44bed4);\n        \n    \n            var poly_line_9767a66a9e1317c1ed3b6ea916ecea2d = L.polyline(\n                [[28.562302, -80.577356], [28.59112, -80.61999]],\n                {&quot;bubblingMouseEvents&quot;: true, &quot;color&quot;: &quot;#3388ff&quot;, &quot;dashArray&quot;: null, &quot;dashOffset&quot;: null, &quot;fill&quot;: false, &quot;fillColor&quot;: &quot;#3388ff&quot;, &quot;fillOpacity&quot;: 0.2, &quot;fillRule&quot;: &quot;evenodd&quot;, &quot;lineCap&quot;: &quot;round&quot;, &quot;lineJoin&quot;: &quot;round&quot;, &quot;noClip&quot;: false, &quot;opacity&quot;: 1.0, &quot;smoothFactor&quot;: 1.0, &quot;stroke&quot;: true, &quot;weight&quot;: 1}\n            ).addTo(map_c4d7c0e15bf4ba574a819fb59776da28);\n        \n&lt;/script&gt;\" style=\"position:absolute;width:100%;height:100%;left:0;top:0;border:none !important;\" allowfullscreen webkitallowfullscreen mozallowfullscreen></iframe></div></div>"
     },
     "metadata": {}
    }
   ]
  },
  {
   "cell_type": "markdown",
   "source": "Your updated map with distance line should look like the following screenshot:\n",
   "metadata": {
    "cell_id": "00064-bc816e3c-15c5-4f5f-8e11-8f2b21b64672",
    "deepnote_cell_type": "markdown",
    "deepnote_cell_height": 52.390625
   }
  },
  {
   "cell_type": "markdown",
   "source": "<center>\n    <img src=\"https://cf-courses-data.s3.us.cloud-object-storage.appdomain.cloud/IBM-DS0321EN-SkillsNetwork/labs/module_3/images/launch_site_marker_distance.png\" />\n</center>\n",
   "metadata": {
    "cell_id": "00065-17485829-83d8-4074-a47b-96006c96c47f",
    "deepnote_cell_type": "markdown",
    "deepnote_cell_height": 440.78125
   }
  },
  {
   "cell_type": "markdown",
   "source": "*TODO:* Similarly, you can draw a line betwee a launch site to its closest city, railway, highway, etc. You need to use `MousePosition` to find the their coordinates on the map first\n",
   "metadata": {
    "cell_id": "00066-9998f3e6-95ef-45c4-959a-60e695e2c234",
    "deepnote_cell_type": "markdown",
    "deepnote_cell_height": 74.796875
   }
  },
  {
   "cell_type": "markdown",
   "source": "A railway map symbol may look like this:\n",
   "metadata": {
    "cell_id": "00067-2d5b29a6-f07d-44f2-849e-d2339ecad39d",
    "deepnote_cell_type": "markdown",
    "deepnote_cell_height": 52.390625
   }
  },
  {
   "cell_type": "markdown",
   "source": "<center>\n    <img src=\"https://cf-courses-data.s3.us.cloud-object-storage.appdomain.cloud/IBM-DS0321EN-SkillsNetwork/labs/module_3/images/railway.png\" />\n</center>\n",
   "metadata": {
    "cell_id": "00068-4156c18f-7a38-4271-ab5f-1f440a1cb92f",
    "deepnote_cell_type": "markdown",
    "deepnote_cell_height": 180
   }
  },
  {
   "cell_type": "markdown",
   "source": "A highway map symbol may look like this:\n",
   "metadata": {
    "cell_id": "00069-7485cecf-8f72-408f-bc27-4151a6ed6d31",
    "deepnote_cell_type": "markdown",
    "deepnote_cell_height": 52.390625
   }
  },
  {
   "cell_type": "markdown",
   "source": "<center>\n    <img src=\"https://cf-courses-data.s3.us.cloud-object-storage.appdomain.cloud/IBM-DS0321EN-SkillsNetwork/labs/module_3/images/highway.png\" />\n</center>\n",
   "metadata": {
    "cell_id": "00070-7a0504a9-d1cb-439e-a1dc-1862a07c0a5b",
    "deepnote_cell_type": "markdown",
    "deepnote_cell_height": 274
   }
  },
  {
   "cell_type": "markdown",
   "source": "A city map symbol may look like this:\n",
   "metadata": {
    "cell_id": "00071-9514c462-6a4a-4225-9c56-3cbb1b2f1552",
    "deepnote_cell_type": "markdown",
    "deepnote_cell_height": 52.390625
   }
  },
  {
   "cell_type": "markdown",
   "source": "<center>\n    <img src=\"https://cf-courses-data.s3.us.cloud-object-storage.appdomain.cloud/IBM-DS0321EN-SkillsNetwork/labs/module_3/images/city.png\" />\n</center>\n",
   "metadata": {
    "cell_id": "00072-320080c1-edd9-4016-b918-39a023805797",
    "deepnote_cell_type": "markdown",
    "deepnote_cell_height": 142
   }
  },
  {
   "cell_type": "code",
   "metadata": {
    "cell_id": "00073-ba20df27-a2f6-4868-8f5b-d819362a6335",
    "deepnote_to_be_reexecuted": false,
    "source_hash": "ca719b82",
    "execution_start": 1656567337962,
    "execution_millis": 1,
    "deepnote_cell_type": "code",
    "deepnote_cell_height": 153
   },
   "source": "# Create a marker with distance to a closest city, railway, highway, etc.\n# Draw a line between the marker to the launch site\nclosest_highway = 28.56335, -80.57085\nclosest_railroad = 28.57206, -80.58525\nclosest_city = 28.10473, -80.64531",
   "execution_count": 19,
   "outputs": []
  },
  {
   "cell_type": "code",
   "metadata": {
    "cell_id": "00074-d5967b15-e363-4e3e-b191-27ada81ea428",
    "deepnote_to_be_reexecuted": false,
    "source_hash": "114e49c8",
    "execution_start": 1656567680900,
    "execution_millis": 7,
    "deepnote_cell_type": "code",
    "deepnote_cell_height": 241.078125
   },
   "source": "highway_distance = calculate_distance(launch_site_lat, launch_site_lon, closest_highway[0], closest_highway[1])\nprint('highway_distance:',highway_distance)\nrailroad_istance = calculate_distance(launch_site_lat, launch_site_lon, closest_railroad[0], closest_railroad[1])\nprint('railroad_istance:',railroad_istance)\ncity_distance = calculate_distance(launch_site_lat, launch_site_lon, closest_city[0], closest_city[1])\nprint('city_distance:',city_distance)",
   "execution_count": 22,
   "outputs": [
    {
     "name": "stdout",
     "text": "highway_distance: 0.6461880763256931\nrailroad_istance: 1.3314378832303038\ncity_distance: 51.32864612692812\n",
     "output_type": "stream"
    }
   ]
  },
  {
   "cell_type": "code",
   "metadata": {
    "cell_id": "00075-28a1d88f-736c-4daa-99d0-58b9e0d1194b",
    "deepnote_to_be_reexecuted": false,
    "source_hash": "9cdd5376",
    "execution_start": 1656567683884,
    "execution_millis": 10,
    "deepnote_cell_type": "code",
    "deepnote_cell_height": 1279.1875,
    "deepnote_output_heights": [
     480.1875
    ]
   },
   "source": "distance_marker = folium.Marker(\n   closest_highway,\n   icon=DivIcon(\n       icon_size=(20,20),\n       icon_anchor=(0,0),\n       html='<div style=\"font-size: 12; color:#d35400;\"><b>%s</b></div>' % \"{:10.2f} KM\".format(highway_distance),\n       )\n   )\nsite_map.add_child(distance_marker)\ncoordinates = [[launch_site_lat,launch_site_lon],closest_highway]\nlines=folium.PolyLine(locations=coordinates, weight=1)\nsite_map.add_child(lines)\n\ndistance_marker = folium.Marker(\n   closest_railroad,\n   icon=DivIcon(\n       icon_size=(20,20),\n       icon_anchor=(0,0),\n       html='<div style=\"font-size: 12; color:#d35400;\"><b>%s</b></div>' % \"{:10.2f} KM\".format(railroad_istance),\n       )\n   )\nsite_map.add_child(distance_marker)\n\ncoordinates = [[launch_site_lat,launch_site_lon],closest_railroad]\nlines=folium.PolyLine(locations=coordinates, weight=1)\nsite_map.add_child(lines)\n\ndistance_marker = folium.Marker(\n   closest_city,\n   icon=DivIcon(\n       icon_size=(20,20),\n       icon_anchor=(0,0),\n       html='<div style=\"font-size: 12; color:#d35400;\"><b>%s</b></div>' % \"{:10.2f} KM\".format(city_distance),\n       )\n   )\nsite_map.add_child(distance_marker)\n\ncoordinates = [[launch_site_lat,launch_site_lon],closest_city]\nlines=folium.PolyLine(locations=coordinates, weight=1)\nsite_map.add_child(lines)",
   "execution_count": 23,
   "outputs": [
    {
     "output_type": "execute_result",
     "execution_count": 23,
     "data": {
      "text/plain": "<folium.folium.Map at 0x7f782f9f5a30>",
      "text/html": "<div style=\"width:100%;\"><div style=\"position:relative;width:100%;height:0;padding-bottom:60%;\"><span style=\"color:#565656\">Make this Notebook Trusted to load map: File -> Trust Notebook</span><iframe srcdoc=\"&lt;!DOCTYPE html&gt;\n&lt;head&gt;    \n    &lt;meta http-equiv=&quot;content-type&quot; content=&quot;text/html; charset=UTF-8&quot; /&gt;\n    \n        &lt;script&gt;\n            L_NO_TOUCH = false;\n            L_DISABLE_3D = false;\n        &lt;/script&gt;\n    \n    &lt;style&gt;html, body {width: 100%;height: 100%;margin: 0;padding: 0;}&lt;/style&gt;\n    &lt;style&gt;#map {position:absolute;top:0;bottom:0;right:0;left:0;}&lt;/style&gt;\n    &lt;script src=&quot;https://cdn.jsdelivr.net/npm/leaflet@1.6.0/dist/leaflet.js&quot;&gt;&lt;/script&gt;\n    &lt;script src=&quot;https://code.jquery.com/jquery-1.12.4.min.js&quot;&gt;&lt;/script&gt;\n    &lt;script src=&quot;https://maxcdn.bootstrapcdn.com/bootstrap/3.2.0/js/bootstrap.min.js&quot;&gt;&lt;/script&gt;\n    &lt;script src=&quot;https://cdnjs.cloudflare.com/ajax/libs/Leaflet.awesome-markers/2.0.2/leaflet.awesome-markers.js&quot;&gt;&lt;/script&gt;\n    &lt;link rel=&quot;stylesheet&quot; href=&quot;https://cdn.jsdelivr.net/npm/leaflet@1.6.0/dist/leaflet.css&quot;/&gt;\n    &lt;link rel=&quot;stylesheet&quot; href=&quot;https://maxcdn.bootstrapcdn.com/bootstrap/3.2.0/css/bootstrap.min.css&quot;/&gt;\n    &lt;link rel=&quot;stylesheet&quot; href=&quot;https://maxcdn.bootstrapcdn.com/bootstrap/3.2.0/css/bootstrap-theme.min.css&quot;/&gt;\n    &lt;link rel=&quot;stylesheet&quot; href=&quot;https://maxcdn.bootstrapcdn.com/font-awesome/4.6.3/css/font-awesome.min.css&quot;/&gt;\n    &lt;link rel=&quot;stylesheet&quot; href=&quot;https://cdnjs.cloudflare.com/ajax/libs/Leaflet.awesome-markers/2.0.2/leaflet.awesome-markers.css&quot;/&gt;\n    &lt;link rel=&quot;stylesheet&quot; href=&quot;https://cdn.jsdelivr.net/gh/python-visualization/folium/folium/templates/leaflet.awesome.rotate.min.css&quot;/&gt;\n    \n            &lt;meta name=&quot;viewport&quot; content=&quot;width=device-width,\n                initial-scale=1.0, maximum-scale=1.0, user-scalable=no&quot; /&gt;\n            &lt;style&gt;\n                #map_c4d7c0e15bf4ba574a819fb59776da28 {\n                    position: relative;\n                    width: 100.0%;\n                    height: 100.0%;\n                    left: 0.0%;\n                    top: 0.0%;\n                }\n            &lt;/style&gt;\n        \n    &lt;script src=&quot;https://cdnjs.cloudflare.com/ajax/libs/leaflet.markercluster/1.1.0/leaflet.markercluster.js&quot;&gt;&lt;/script&gt;\n    &lt;link rel=&quot;stylesheet&quot; href=&quot;https://cdnjs.cloudflare.com/ajax/libs/leaflet.markercluster/1.1.0/MarkerCluster.css&quot;/&gt;\n    &lt;link rel=&quot;stylesheet&quot; href=&quot;https://cdnjs.cloudflare.com/ajax/libs/leaflet.markercluster/1.1.0/MarkerCluster.Default.css&quot;/&gt;\n    &lt;script src=&quot;https://cdn.jsdelivr.net/gh/ardhi/Leaflet.MousePosition/src/L.Control.MousePosition.min.js&quot;&gt;&lt;/script&gt;\n    &lt;link rel=&quot;stylesheet&quot; href=&quot;https://cdn.jsdelivr.net/gh/ardhi/Leaflet.MousePosition/src/L.Control.MousePosition.min.css&quot;/&gt;\n&lt;/head&gt;\n&lt;body&gt;    \n    \n            &lt;div class=&quot;folium-map&quot; id=&quot;map_c4d7c0e15bf4ba574a819fb59776da28&quot; &gt;&lt;/div&gt;\n        \n&lt;/body&gt;\n&lt;script&gt;    \n    \n            var map_c4d7c0e15bf4ba574a819fb59776da28 = L.map(\n                &quot;map_c4d7c0e15bf4ba574a819fb59776da28&quot;,\n                {\n                    center: [29.559684888503615, -95.0830971930759],\n                    crs: L.CRS.EPSG3857,\n                    zoom: 5,\n                    zoomControl: true,\n                    preferCanvas: false,\n                }\n            );\n\n            \n\n        \n    \n            var tile_layer_e19753bcbdf6f95aa0451e307612d5c9 = L.tileLayer(\n                &quot;https://{s}.tile.openstreetmap.org/{z}/{x}/{y}.png&quot;,\n                {&quot;attribution&quot;: &quot;Data by \\u0026copy; \\u003ca href=\\&quot;http://openstreetmap.org\\&quot;\\u003eOpenStreetMap\\u003c/a\\u003e, under \\u003ca href=\\&quot;http://www.openstreetmap.org/copyright\\&quot;\\u003eODbL\\u003c/a\\u003e.&quot;, &quot;detectRetina&quot;: false, &quot;maxNativeZoom&quot;: 18, &quot;maxZoom&quot;: 18, &quot;minZoom&quot;: 0, &quot;noWrap&quot;: false, &quot;opacity&quot;: 1, &quot;subdomains&quot;: &quot;abc&quot;, &quot;tms&quot;: false}\n            ).addTo(map_c4d7c0e15bf4ba574a819fb59776da28);\n        \n    \n            var circle_9a2dd9ba1727e6709304522178b0980f = L.circle(\n                [28.56230197, -80.57735648],\n                {&quot;bubblingMouseEvents&quot;: true, &quot;color&quot;: &quot;#d35400&quot;, &quot;dashArray&quot;: null, &quot;dashOffset&quot;: null, &quot;fill&quot;: true, &quot;fillColor&quot;: &quot;#d35400&quot;, &quot;fillOpacity&quot;: 0.2, &quot;fillRule&quot;: &quot;evenodd&quot;, &quot;lineCap&quot;: &quot;round&quot;, &quot;lineJoin&quot;: &quot;round&quot;, &quot;opacity&quot;: 1.0, &quot;radius&quot;: 1000, &quot;stroke&quot;: true, &quot;weight&quot;: 3}\n            ).addTo(map_c4d7c0e15bf4ba574a819fb59776da28);\n        \n    \n        var popup_edf17813207416af02158b23e180af45 = L.popup({&quot;maxWidth&quot;: &quot;100%&quot;});\n\n        \n            var html_aff7c86cd31f5beb9fb64d4d2e8eb863 = $(`&lt;div id=&quot;html_aff7c86cd31f5beb9fb64d4d2e8eb863&quot; style=&quot;width: 100.0%; height: 100.0%;&quot;&gt;CCAFS LC-40&lt;/div&gt;`)[0];\n            popup_edf17813207416af02158b23e180af45.setContent(html_aff7c86cd31f5beb9fb64d4d2e8eb863);\n        \n\n        circle_9a2dd9ba1727e6709304522178b0980f.bindPopup(popup_edf17813207416af02158b23e180af45)\n        ;\n\n        \n    \n    \n            var marker_85ae247116669446673da0096831ea5e = L.marker(\n                [28.56230197, -80.57735648],\n                {}\n            ).addTo(map_c4d7c0e15bf4ba574a819fb59776da28);\n        \n    \n            var div_icon_ea38d5a9f6abfb2d71b5624327709004 = L.divIcon({&quot;className&quot;: &quot;empty&quot;, &quot;html&quot;: &quot;\\u003cdiv style=\\&quot;font-size: 12; color:#d35400;\\&quot;\\u003e\\u003cb\\u003eCCAFS LC-40\\u003c/b\\u003e\\u003c/div\\u003e&quot;, &quot;iconAnchor&quot;: [0, 0], &quot;iconSize&quot;: [20, 20]});\n            marker_85ae247116669446673da0096831ea5e.setIcon(div_icon_ea38d5a9f6abfb2d71b5624327709004);\n        \n    \n            var circle_dd0a3b3e09afe4d96dd1d0a4ef16322a = L.circle(\n                [28.56319718, -80.57682003],\n                {&quot;bubblingMouseEvents&quot;: true, &quot;color&quot;: &quot;#d35400&quot;, &quot;dashArray&quot;: null, &quot;dashOffset&quot;: null, &quot;fill&quot;: true, &quot;fillColor&quot;: &quot;#d35400&quot;, &quot;fillOpacity&quot;: 0.2, &quot;fillRule&quot;: &quot;evenodd&quot;, &quot;lineCap&quot;: &quot;round&quot;, &quot;lineJoin&quot;: &quot;round&quot;, &quot;opacity&quot;: 1.0, &quot;radius&quot;: 1000, &quot;stroke&quot;: true, &quot;weight&quot;: 3}\n            ).addTo(map_c4d7c0e15bf4ba574a819fb59776da28);\n        \n    \n        var popup_50952ab8f3bd013bea64e4e88464d85c = L.popup({&quot;maxWidth&quot;: &quot;100%&quot;});\n\n        \n            var html_d4a8c8d3101ea921319f9042ed48ea15 = $(`&lt;div id=&quot;html_d4a8c8d3101ea921319f9042ed48ea15&quot; style=&quot;width: 100.0%; height: 100.0%;&quot;&gt;CCAFS SLC-40&lt;/div&gt;`)[0];\n            popup_50952ab8f3bd013bea64e4e88464d85c.setContent(html_d4a8c8d3101ea921319f9042ed48ea15);\n        \n\n        circle_dd0a3b3e09afe4d96dd1d0a4ef16322a.bindPopup(popup_50952ab8f3bd013bea64e4e88464d85c)\n        ;\n\n        \n    \n    \n            var marker_f0e94b3b99e4cf8f18869247d8235d29 = L.marker(\n                [28.56319718, -80.57682003],\n                {}\n            ).addTo(map_c4d7c0e15bf4ba574a819fb59776da28);\n        \n    \n            var div_icon_dff0024387c4275fc334efcdb0a32917 = L.divIcon({&quot;className&quot;: &quot;empty&quot;, &quot;html&quot;: &quot;\\u003cdiv style=\\&quot;font-size: 12; color:#d35400;\\&quot;\\u003e\\u003cb\\u003eCCAFS SLC-40\\u003c/b\\u003e\\u003c/div\\u003e&quot;, &quot;iconAnchor&quot;: [0, 0], &quot;iconSize&quot;: [20, 20]});\n            marker_f0e94b3b99e4cf8f18869247d8235d29.setIcon(div_icon_dff0024387c4275fc334efcdb0a32917);\n        \n    \n            var circle_2a468d07af7f5542792e60df9e4d7609 = L.circle(\n                [28.57325457, -80.64689529],\n                {&quot;bubblingMouseEvents&quot;: true, &quot;color&quot;: &quot;#d35400&quot;, &quot;dashArray&quot;: null, &quot;dashOffset&quot;: null, &quot;fill&quot;: true, &quot;fillColor&quot;: &quot;#d35400&quot;, &quot;fillOpacity&quot;: 0.2, &quot;fillRule&quot;: &quot;evenodd&quot;, &quot;lineCap&quot;: &quot;round&quot;, &quot;lineJoin&quot;: &quot;round&quot;, &quot;opacity&quot;: 1.0, &quot;radius&quot;: 1000, &quot;stroke&quot;: true, &quot;weight&quot;: 3}\n            ).addTo(map_c4d7c0e15bf4ba574a819fb59776da28);\n        \n    \n        var popup_54f24431a77de83ad7bb5cf698df3fc6 = L.popup({&quot;maxWidth&quot;: &quot;100%&quot;});\n\n        \n            var html_a4b3ef64a769feeb6f318488de01af5c = $(`&lt;div id=&quot;html_a4b3ef64a769feeb6f318488de01af5c&quot; style=&quot;width: 100.0%; height: 100.0%;&quot;&gt;KSC LC-39A&lt;/div&gt;`)[0];\n            popup_54f24431a77de83ad7bb5cf698df3fc6.setContent(html_a4b3ef64a769feeb6f318488de01af5c);\n        \n\n        circle_2a468d07af7f5542792e60df9e4d7609.bindPopup(popup_54f24431a77de83ad7bb5cf698df3fc6)\n        ;\n\n        \n    \n    \n            var marker_a5900f72c48ba40a4172f5159db67212 = L.marker(\n                [28.57325457, -80.64689529],\n                {}\n            ).addTo(map_c4d7c0e15bf4ba574a819fb59776da28);\n        \n    \n            var div_icon_577196be5330e6c23d7b7a70a13de1ff = L.divIcon({&quot;className&quot;: &quot;empty&quot;, &quot;html&quot;: &quot;\\u003cdiv style=\\&quot;font-size: 12; color:#d35400;\\&quot;\\u003e\\u003cb\\u003eKSC LC-39A\\u003c/b\\u003e\\u003c/div\\u003e&quot;, &quot;iconAnchor&quot;: [0, 0], &quot;iconSize&quot;: [20, 20]});\n            marker_a5900f72c48ba40a4172f5159db67212.setIcon(div_icon_577196be5330e6c23d7b7a70a13de1ff);\n        \n    \n            var circle_6e26dcd6938361e683e04e248946679f = L.circle(\n                [34.63283416, -120.6107455],\n                {&quot;bubblingMouseEvents&quot;: true, &quot;color&quot;: &quot;#d35400&quot;, &quot;dashArray&quot;: null, &quot;dashOffset&quot;: null, &quot;fill&quot;: true, &quot;fillColor&quot;: &quot;#d35400&quot;, &quot;fillOpacity&quot;: 0.2, &quot;fillRule&quot;: &quot;evenodd&quot;, &quot;lineCap&quot;: &quot;round&quot;, &quot;lineJoin&quot;: &quot;round&quot;, &quot;opacity&quot;: 1.0, &quot;radius&quot;: 1000, &quot;stroke&quot;: true, &quot;weight&quot;: 3}\n            ).addTo(map_c4d7c0e15bf4ba574a819fb59776da28);\n        \n    \n        var popup_edc27e7218e38a401f33306be09f86eb = L.popup({&quot;maxWidth&quot;: &quot;100%&quot;});\n\n        \n            var html_1984e07ce01affc7f972fe1397b2f814 = $(`&lt;div id=&quot;html_1984e07ce01affc7f972fe1397b2f814&quot; style=&quot;width: 100.0%; height: 100.0%;&quot;&gt;VAFB SLC-4E&lt;/div&gt;`)[0];\n            popup_edc27e7218e38a401f33306be09f86eb.setContent(html_1984e07ce01affc7f972fe1397b2f814);\n        \n\n        circle_6e26dcd6938361e683e04e248946679f.bindPopup(popup_edc27e7218e38a401f33306be09f86eb)\n        ;\n\n        \n    \n    \n            var marker_23e288a134a2f053236a32cde9c8df58 = L.marker(\n                [34.63283416, -120.6107455],\n                {}\n            ).addTo(map_c4d7c0e15bf4ba574a819fb59776da28);\n        \n    \n            var div_icon_85fe4e94abaf612357beb3255df5d9a5 = L.divIcon({&quot;className&quot;: &quot;empty&quot;, &quot;html&quot;: &quot;\\u003cdiv style=\\&quot;font-size: 12; color:#d35400;\\&quot;\\u003e\\u003cb\\u003eVAFB SLC-4E\\u003c/b\\u003e\\u003c/div\\u003e&quot;, &quot;iconAnchor&quot;: [0, 0], &quot;iconSize&quot;: [20, 20]});\n            marker_23e288a134a2f053236a32cde9c8df58.setIcon(div_icon_85fe4e94abaf612357beb3255df5d9a5);\n        \n    \n            var marker_cluster_fc5d5465a587b88785a92da72965d1dd = L.markerClusterGroup(\n                {}\n            );\n            map_c4d7c0e15bf4ba574a819fb59776da28.addLayer(marker_cluster_fc5d5465a587b88785a92da72965d1dd);\n        \n    \n            var marker_12c9090153d337c5c7338ab6a90a16e0 = L.marker(\n                [28.56230197, -80.57735648],\n                {}\n            ).addTo(marker_cluster_fc5d5465a587b88785a92da72965d1dd);\n        \n    \n            var icon_4e1070f44ef0273036102132bcb2a6ea = L.AwesomeMarkers.icon(\n                {&quot;extraClasses&quot;: &quot;fa-rotate-0&quot;, &quot;icon&quot;: &quot;info-sign&quot;, &quot;iconColor&quot;: &quot;red&quot;, &quot;markerColor&quot;: &quot;white&quot;, &quot;prefix&quot;: &quot;glyphicon&quot;}\n            );\n            marker_12c9090153d337c5c7338ab6a90a16e0.setIcon(icon_4e1070f44ef0273036102132bcb2a6ea);\n        \n    \n            var marker_c148023bf0d26da90df45eadf64f4816 = L.marker(\n                [28.56230197, -80.57735648],\n                {}\n            ).addTo(marker_cluster_fc5d5465a587b88785a92da72965d1dd);\n        \n    \n            var icon_6a6a4c437e1d950b5a0669b90b9565bd = L.AwesomeMarkers.icon(\n                {&quot;extraClasses&quot;: &quot;fa-rotate-0&quot;, &quot;icon&quot;: &quot;info-sign&quot;, &quot;iconColor&quot;: &quot;red&quot;, &quot;markerColor&quot;: &quot;white&quot;, &quot;prefix&quot;: &quot;glyphicon&quot;}\n            );\n            marker_c148023bf0d26da90df45eadf64f4816.setIcon(icon_6a6a4c437e1d950b5a0669b90b9565bd);\n        \n    \n            var marker_7c6ab1318484b2160cfe731fdab0bef4 = L.marker(\n                [28.56230197, -80.57735648],\n                {}\n            ).addTo(marker_cluster_fc5d5465a587b88785a92da72965d1dd);\n        \n    \n            var icon_9fced1e18824083519017ece6b1d02ff = L.AwesomeMarkers.icon(\n                {&quot;extraClasses&quot;: &quot;fa-rotate-0&quot;, &quot;icon&quot;: &quot;info-sign&quot;, &quot;iconColor&quot;: &quot;red&quot;, &quot;markerColor&quot;: &quot;white&quot;, &quot;prefix&quot;: &quot;glyphicon&quot;}\n            );\n            marker_7c6ab1318484b2160cfe731fdab0bef4.setIcon(icon_9fced1e18824083519017ece6b1d02ff);\n        \n    \n            var marker_d870a3039f54255d70e93e62e9b62ec3 = L.marker(\n                [28.56230197, -80.57735648],\n                {}\n            ).addTo(marker_cluster_fc5d5465a587b88785a92da72965d1dd);\n        \n    \n            var icon_5b00989f51d246d5f5ecc75772ce7a21 = L.AwesomeMarkers.icon(\n                {&quot;extraClasses&quot;: &quot;fa-rotate-0&quot;, &quot;icon&quot;: &quot;info-sign&quot;, &quot;iconColor&quot;: &quot;red&quot;, &quot;markerColor&quot;: &quot;white&quot;, &quot;prefix&quot;: &quot;glyphicon&quot;}\n            );\n            marker_d870a3039f54255d70e93e62e9b62ec3.setIcon(icon_5b00989f51d246d5f5ecc75772ce7a21);\n        \n    \n            var marker_78b417a64e13289288a0c28e12a44216 = L.marker(\n                [28.56230197, -80.57735648],\n                {}\n            ).addTo(marker_cluster_fc5d5465a587b88785a92da72965d1dd);\n        \n    \n            var icon_61ba0976cd88af2cbd4b1d6f47892dd1 = L.AwesomeMarkers.icon(\n                {&quot;extraClasses&quot;: &quot;fa-rotate-0&quot;, &quot;icon&quot;: &quot;info-sign&quot;, &quot;iconColor&quot;: &quot;red&quot;, &quot;markerColor&quot;: &quot;white&quot;, &quot;prefix&quot;: &quot;glyphicon&quot;}\n            );\n            marker_78b417a64e13289288a0c28e12a44216.setIcon(icon_61ba0976cd88af2cbd4b1d6f47892dd1);\n        \n    \n            var marker_49467c2a8290726e388450fcc10f2b09 = L.marker(\n                [28.56230197, -80.57735648],\n                {}\n            ).addTo(marker_cluster_fc5d5465a587b88785a92da72965d1dd);\n        \n    \n            var icon_1479236b9b58d70d14354560c0a6a6b5 = L.AwesomeMarkers.icon(\n                {&quot;extraClasses&quot;: &quot;fa-rotate-0&quot;, &quot;icon&quot;: &quot;info-sign&quot;, &quot;iconColor&quot;: &quot;red&quot;, &quot;markerColor&quot;: &quot;white&quot;, &quot;prefix&quot;: &quot;glyphicon&quot;}\n            );\n            marker_49467c2a8290726e388450fcc10f2b09.setIcon(icon_1479236b9b58d70d14354560c0a6a6b5);\n        \n    \n            var marker_9fffd56c0b426f831d8d763e65bb4d1f = L.marker(\n                [28.56230197, -80.57735648],\n                {}\n            ).addTo(marker_cluster_fc5d5465a587b88785a92da72965d1dd);\n        \n    \n            var icon_579f4873cfd59ddd23a351c5e62673da = L.AwesomeMarkers.icon(\n                {&quot;extraClasses&quot;: &quot;fa-rotate-0&quot;, &quot;icon&quot;: &quot;info-sign&quot;, &quot;iconColor&quot;: &quot;red&quot;, &quot;markerColor&quot;: &quot;white&quot;, &quot;prefix&quot;: &quot;glyphicon&quot;}\n            );\n            marker_9fffd56c0b426f831d8d763e65bb4d1f.setIcon(icon_579f4873cfd59ddd23a351c5e62673da);\n        \n    \n            var marker_3a538321374a16c9ae1d5ea705dc3b97 = L.marker(\n                [28.56230197, -80.57735648],\n                {}\n            ).addTo(marker_cluster_fc5d5465a587b88785a92da72965d1dd);\n        \n    \n            var icon_b5c677340edf67494feee762db15cd66 = L.AwesomeMarkers.icon(\n                {&quot;extraClasses&quot;: &quot;fa-rotate-0&quot;, &quot;icon&quot;: &quot;info-sign&quot;, &quot;iconColor&quot;: &quot;red&quot;, &quot;markerColor&quot;: &quot;white&quot;, &quot;prefix&quot;: &quot;glyphicon&quot;}\n            );\n            marker_3a538321374a16c9ae1d5ea705dc3b97.setIcon(icon_b5c677340edf67494feee762db15cd66);\n        \n    \n            var marker_9c440aa000f37ec4d2c778ffe1aaa3c3 = L.marker(\n                [28.56230197, -80.57735648],\n                {}\n            ).addTo(marker_cluster_fc5d5465a587b88785a92da72965d1dd);\n        \n    \n            var icon_16345e3bd64d3e210afec16a4ca94219 = L.AwesomeMarkers.icon(\n                {&quot;extraClasses&quot;: &quot;fa-rotate-0&quot;, &quot;icon&quot;: &quot;info-sign&quot;, &quot;iconColor&quot;: &quot;red&quot;, &quot;markerColor&quot;: &quot;white&quot;, &quot;prefix&quot;: &quot;glyphicon&quot;}\n            );\n            marker_9c440aa000f37ec4d2c778ffe1aaa3c3.setIcon(icon_16345e3bd64d3e210afec16a4ca94219);\n        \n    \n            var marker_48b770c868ae7ddbaadbc57e46f792f1 = L.marker(\n                [28.56230197, -80.57735648],\n                {}\n            ).addTo(marker_cluster_fc5d5465a587b88785a92da72965d1dd);\n        \n    \n            var icon_43ed37b64b8d812350ef18de43c25bac = L.AwesomeMarkers.icon(\n                {&quot;extraClasses&quot;: &quot;fa-rotate-0&quot;, &quot;icon&quot;: &quot;info-sign&quot;, &quot;iconColor&quot;: &quot;red&quot;, &quot;markerColor&quot;: &quot;white&quot;, &quot;prefix&quot;: &quot;glyphicon&quot;}\n            );\n            marker_48b770c868ae7ddbaadbc57e46f792f1.setIcon(icon_43ed37b64b8d812350ef18de43c25bac);\n        \n    \n            var marker_4483a00c3946bca3554724861b663f3e = L.marker(\n                [28.56230197, -80.57735648],\n                {}\n            ).addTo(marker_cluster_fc5d5465a587b88785a92da72965d1dd);\n        \n    \n            var icon_73d63309953d70fddeaeb909c5e755e3 = L.AwesomeMarkers.icon(\n                {&quot;extraClasses&quot;: &quot;fa-rotate-0&quot;, &quot;icon&quot;: &quot;info-sign&quot;, &quot;iconColor&quot;: &quot;red&quot;, &quot;markerColor&quot;: &quot;white&quot;, &quot;prefix&quot;: &quot;glyphicon&quot;}\n            );\n            marker_4483a00c3946bca3554724861b663f3e.setIcon(icon_73d63309953d70fddeaeb909c5e755e3);\n        \n    \n            var marker_79fb9456aae3fd166bef7fe7f5b72cfe = L.marker(\n                [28.56230197, -80.57735648],\n                {}\n            ).addTo(marker_cluster_fc5d5465a587b88785a92da72965d1dd);\n        \n    \n            var icon_2c76699e5761fa619b94ead8b672ba67 = L.AwesomeMarkers.icon(\n                {&quot;extraClasses&quot;: &quot;fa-rotate-0&quot;, &quot;icon&quot;: &quot;info-sign&quot;, &quot;iconColor&quot;: &quot;red&quot;, &quot;markerColor&quot;: &quot;white&quot;, &quot;prefix&quot;: &quot;glyphicon&quot;}\n            );\n            marker_79fb9456aae3fd166bef7fe7f5b72cfe.setIcon(icon_2c76699e5761fa619b94ead8b672ba67);\n        \n    \n            var marker_b8ad9925a78f5cbdd0a7477f7fad4336 = L.marker(\n                [28.56230197, -80.57735648],\n                {}\n            ).addTo(marker_cluster_fc5d5465a587b88785a92da72965d1dd);\n        \n    \n            var icon_cd0568d10243b9b0cbdc92a579e68f78 = L.AwesomeMarkers.icon(\n                {&quot;extraClasses&quot;: &quot;fa-rotate-0&quot;, &quot;icon&quot;: &quot;info-sign&quot;, &quot;iconColor&quot;: &quot;red&quot;, &quot;markerColor&quot;: &quot;white&quot;, &quot;prefix&quot;: &quot;glyphicon&quot;}\n            );\n            marker_b8ad9925a78f5cbdd0a7477f7fad4336.setIcon(icon_cd0568d10243b9b0cbdc92a579e68f78);\n        \n    \n            var marker_b5b49036fa009cd34ff21fcd6ce0c2d2 = L.marker(\n                [28.56230197, -80.57735648],\n                {}\n            ).addTo(marker_cluster_fc5d5465a587b88785a92da72965d1dd);\n        \n    \n            var icon_3720e5434273ad3a7825d308bba9d554 = L.AwesomeMarkers.icon(\n                {&quot;extraClasses&quot;: &quot;fa-rotate-0&quot;, &quot;icon&quot;: &quot;info-sign&quot;, &quot;iconColor&quot;: &quot;red&quot;, &quot;markerColor&quot;: &quot;white&quot;, &quot;prefix&quot;: &quot;glyphicon&quot;}\n            );\n            marker_b5b49036fa009cd34ff21fcd6ce0c2d2.setIcon(icon_3720e5434273ad3a7825d308bba9d554);\n        \n    \n            var marker_bccad583bc0ef406109f597db233a090 = L.marker(\n                [28.56230197, -80.57735648],\n                {}\n            ).addTo(marker_cluster_fc5d5465a587b88785a92da72965d1dd);\n        \n    \n            var icon_1e3ec5aa5d24d7c7e1f5156afdb132b2 = L.AwesomeMarkers.icon(\n                {&quot;extraClasses&quot;: &quot;fa-rotate-0&quot;, &quot;icon&quot;: &quot;info-sign&quot;, &quot;iconColor&quot;: &quot;red&quot;, &quot;markerColor&quot;: &quot;white&quot;, &quot;prefix&quot;: &quot;glyphicon&quot;}\n            );\n            marker_bccad583bc0ef406109f597db233a090.setIcon(icon_1e3ec5aa5d24d7c7e1f5156afdb132b2);\n        \n    \n            var marker_1d33a3100c6fc5aa380111c85ae535f8 = L.marker(\n                [28.56230197, -80.57735648],\n                {}\n            ).addTo(marker_cluster_fc5d5465a587b88785a92da72965d1dd);\n        \n    \n            var icon_48940c2da33fbeb6ea2932bc094c5c4e = L.AwesomeMarkers.icon(\n                {&quot;extraClasses&quot;: &quot;fa-rotate-0&quot;, &quot;icon&quot;: &quot;info-sign&quot;, &quot;iconColor&quot;: &quot;red&quot;, &quot;markerColor&quot;: &quot;white&quot;, &quot;prefix&quot;: &quot;glyphicon&quot;}\n            );\n            marker_1d33a3100c6fc5aa380111c85ae535f8.setIcon(icon_48940c2da33fbeb6ea2932bc094c5c4e);\n        \n    \n            var marker_da15c4319827dcd49ce9fa7df257be24 = L.marker(\n                [28.56230197, -80.57735648],\n                {}\n            ).addTo(marker_cluster_fc5d5465a587b88785a92da72965d1dd);\n        \n    \n            var icon_f5552d1a85f67415b6e262e28af33e6e = L.AwesomeMarkers.icon(\n                {&quot;extraClasses&quot;: &quot;fa-rotate-0&quot;, &quot;icon&quot;: &quot;info-sign&quot;, &quot;iconColor&quot;: &quot;red&quot;, &quot;markerColor&quot;: &quot;white&quot;, &quot;prefix&quot;: &quot;glyphicon&quot;}\n            );\n            marker_da15c4319827dcd49ce9fa7df257be24.setIcon(icon_f5552d1a85f67415b6e262e28af33e6e);\n        \n    \n            var marker_3a7cce6a5a11b2c7b2c17996f56f0362 = L.marker(\n                [28.56230197, -80.57735648],\n                {}\n            ).addTo(marker_cluster_fc5d5465a587b88785a92da72965d1dd);\n        \n    \n            var icon_f090ca3aaaaedb02129d840b34630012 = L.AwesomeMarkers.icon(\n                {&quot;extraClasses&quot;: &quot;fa-rotate-0&quot;, &quot;icon&quot;: &quot;info-sign&quot;, &quot;iconColor&quot;: &quot;green&quot;, &quot;markerColor&quot;: &quot;white&quot;, &quot;prefix&quot;: &quot;glyphicon&quot;}\n            );\n            marker_3a7cce6a5a11b2c7b2c17996f56f0362.setIcon(icon_f090ca3aaaaedb02129d840b34630012);\n        \n    \n            var marker_11d643aae902c0785b9f34d78b920639 = L.marker(\n                [28.56230197, -80.57735648],\n                {}\n            ).addTo(marker_cluster_fc5d5465a587b88785a92da72965d1dd);\n        \n    \n            var icon_f3db0108f7fd5edf1593b7896166b1aa = L.AwesomeMarkers.icon(\n                {&quot;extraClasses&quot;: &quot;fa-rotate-0&quot;, &quot;icon&quot;: &quot;info-sign&quot;, &quot;iconColor&quot;: &quot;green&quot;, &quot;markerColor&quot;: &quot;white&quot;, &quot;prefix&quot;: &quot;glyphicon&quot;}\n            );\n            marker_11d643aae902c0785b9f34d78b920639.setIcon(icon_f3db0108f7fd5edf1593b7896166b1aa);\n        \n    \n            var marker_b77d2c1208aa02d5af4a214c1c93f463 = L.marker(\n                [28.56230197, -80.57735648],\n                {}\n            ).addTo(marker_cluster_fc5d5465a587b88785a92da72965d1dd);\n        \n    \n            var icon_168cc393ed076d37224b9f96a121832d = L.AwesomeMarkers.icon(\n                {&quot;extraClasses&quot;: &quot;fa-rotate-0&quot;, &quot;icon&quot;: &quot;info-sign&quot;, &quot;iconColor&quot;: &quot;red&quot;, &quot;markerColor&quot;: &quot;white&quot;, &quot;prefix&quot;: &quot;glyphicon&quot;}\n            );\n            marker_b77d2c1208aa02d5af4a214c1c93f463.setIcon(icon_168cc393ed076d37224b9f96a121832d);\n        \n    \n            var marker_d24a4b885fa3d04d51585edd86d2a794 = L.marker(\n                [28.56230197, -80.57735648],\n                {}\n            ).addTo(marker_cluster_fc5d5465a587b88785a92da72965d1dd);\n        \n    \n            var icon_6bd809104e085dd0d8a5b0d4b076a6ac = L.AwesomeMarkers.icon(\n                {&quot;extraClasses&quot;: &quot;fa-rotate-0&quot;, &quot;icon&quot;: &quot;info-sign&quot;, &quot;iconColor&quot;: &quot;green&quot;, &quot;markerColor&quot;: &quot;white&quot;, &quot;prefix&quot;: &quot;glyphicon&quot;}\n            );\n            marker_d24a4b885fa3d04d51585edd86d2a794.setIcon(icon_6bd809104e085dd0d8a5b0d4b076a6ac);\n        \n    \n            var marker_47df843f11c6eb3372986409b218c1c4 = L.marker(\n                [28.56230197, -80.57735648],\n                {}\n            ).addTo(marker_cluster_fc5d5465a587b88785a92da72965d1dd);\n        \n    \n            var icon_67619ab20e2259293b91fa564caaa255 = L.AwesomeMarkers.icon(\n                {&quot;extraClasses&quot;: &quot;fa-rotate-0&quot;, &quot;icon&quot;: &quot;info-sign&quot;, &quot;iconColor&quot;: &quot;green&quot;, &quot;markerColor&quot;: &quot;white&quot;, &quot;prefix&quot;: &quot;glyphicon&quot;}\n            );\n            marker_47df843f11c6eb3372986409b218c1c4.setIcon(icon_67619ab20e2259293b91fa564caaa255);\n        \n    \n            var marker_d3d0ef106495c43cb22fc399a137720a = L.marker(\n                [28.56230197, -80.57735648],\n                {}\n            ).addTo(marker_cluster_fc5d5465a587b88785a92da72965d1dd);\n        \n    \n            var icon_559491eaa66a3b11ced6063b688e6f92 = L.AwesomeMarkers.icon(\n                {&quot;extraClasses&quot;: &quot;fa-rotate-0&quot;, &quot;icon&quot;: &quot;info-sign&quot;, &quot;iconColor&quot;: &quot;green&quot;, &quot;markerColor&quot;: &quot;white&quot;, &quot;prefix&quot;: &quot;glyphicon&quot;}\n            );\n            marker_d3d0ef106495c43cb22fc399a137720a.setIcon(icon_559491eaa66a3b11ced6063b688e6f92);\n        \n    \n            var marker_ae99ba7ac2d19326edbf286b7aeabc40 = L.marker(\n                [28.56230197, -80.57735648],\n                {}\n            ).addTo(marker_cluster_fc5d5465a587b88785a92da72965d1dd);\n        \n    \n            var icon_ec0481374a76f6e3b22205b8f40de143 = L.AwesomeMarkers.icon(\n                {&quot;extraClasses&quot;: &quot;fa-rotate-0&quot;, &quot;icon&quot;: &quot;info-sign&quot;, &quot;iconColor&quot;: &quot;red&quot;, &quot;markerColor&quot;: &quot;white&quot;, &quot;prefix&quot;: &quot;glyphicon&quot;}\n            );\n            marker_ae99ba7ac2d19326edbf286b7aeabc40.setIcon(icon_ec0481374a76f6e3b22205b8f40de143);\n        \n    \n            var marker_fa63df7b79452e5fac9be557a9600693 = L.marker(\n                [28.56230197, -80.57735648],\n                {}\n            ).addTo(marker_cluster_fc5d5465a587b88785a92da72965d1dd);\n        \n    \n            var icon_79e40a0f661ddea87d7e3b4508ef72c6 = L.AwesomeMarkers.icon(\n                {&quot;extraClasses&quot;: &quot;fa-rotate-0&quot;, &quot;icon&quot;: &quot;info-sign&quot;, &quot;iconColor&quot;: &quot;green&quot;, &quot;markerColor&quot;: &quot;white&quot;, &quot;prefix&quot;: &quot;glyphicon&quot;}\n            );\n            marker_fa63df7b79452e5fac9be557a9600693.setIcon(icon_79e40a0f661ddea87d7e3b4508ef72c6);\n        \n    \n            var marker_566706dc39cb23ff1a0fb1d6af4b8c56 = L.marker(\n                [28.56230197, -80.57735648],\n                {}\n            ).addTo(marker_cluster_fc5d5465a587b88785a92da72965d1dd);\n        \n    \n            var icon_f6321c2bba3e1d183515c902bfaa83c5 = L.AwesomeMarkers.icon(\n                {&quot;extraClasses&quot;: &quot;fa-rotate-0&quot;, &quot;icon&quot;: &quot;info-sign&quot;, &quot;iconColor&quot;: &quot;green&quot;, &quot;markerColor&quot;: &quot;white&quot;, &quot;prefix&quot;: &quot;glyphicon&quot;}\n            );\n            marker_566706dc39cb23ff1a0fb1d6af4b8c56.setIcon(icon_f6321c2bba3e1d183515c902bfaa83c5);\n        \n    \n            var marker_20e605903f1cd958a18c82c6ec1c6c5f = L.marker(\n                [34.63283416, -120.6107455],\n                {}\n            ).addTo(marker_cluster_fc5d5465a587b88785a92da72965d1dd);\n        \n    \n            var icon_7e2023b9125d7c12c26167063c5d84a7 = L.AwesomeMarkers.icon(\n                {&quot;extraClasses&quot;: &quot;fa-rotate-0&quot;, &quot;icon&quot;: &quot;info-sign&quot;, &quot;iconColor&quot;: &quot;red&quot;, &quot;markerColor&quot;: &quot;white&quot;, &quot;prefix&quot;: &quot;glyphicon&quot;}\n            );\n            marker_20e605903f1cd958a18c82c6ec1c6c5f.setIcon(icon_7e2023b9125d7c12c26167063c5d84a7);\n        \n    \n            var marker_c101e01acc963442e8bc225ef9f5535b = L.marker(\n                [34.63283416, -120.6107455],\n                {}\n            ).addTo(marker_cluster_fc5d5465a587b88785a92da72965d1dd);\n        \n    \n            var icon_944d693b1e981ccff829728df633c2e9 = L.AwesomeMarkers.icon(\n                {&quot;extraClasses&quot;: &quot;fa-rotate-0&quot;, &quot;icon&quot;: &quot;info-sign&quot;, &quot;iconColor&quot;: &quot;red&quot;, &quot;markerColor&quot;: &quot;white&quot;, &quot;prefix&quot;: &quot;glyphicon&quot;}\n            );\n            marker_c101e01acc963442e8bc225ef9f5535b.setIcon(icon_944d693b1e981ccff829728df633c2e9);\n        \n    \n            var marker_3e0fb3f401c326087c764630620f9235 = L.marker(\n                [34.63283416, -120.6107455],\n                {}\n            ).addTo(marker_cluster_fc5d5465a587b88785a92da72965d1dd);\n        \n    \n            var icon_135b71cfcc7d4775b9a1688df565001d = L.AwesomeMarkers.icon(\n                {&quot;extraClasses&quot;: &quot;fa-rotate-0&quot;, &quot;icon&quot;: &quot;info-sign&quot;, &quot;iconColor&quot;: &quot;green&quot;, &quot;markerColor&quot;: &quot;white&quot;, &quot;prefix&quot;: &quot;glyphicon&quot;}\n            );\n            marker_3e0fb3f401c326087c764630620f9235.setIcon(icon_135b71cfcc7d4775b9a1688df565001d);\n        \n    \n            var marker_e88e0cebb202323667245471fff4d66a = L.marker(\n                [34.63283416, -120.6107455],\n                {}\n            ).addTo(marker_cluster_fc5d5465a587b88785a92da72965d1dd);\n        \n    \n            var icon_d3c16369864dafcae68a1ae1bfda7435 = L.AwesomeMarkers.icon(\n                {&quot;extraClasses&quot;: &quot;fa-rotate-0&quot;, &quot;icon&quot;: &quot;info-sign&quot;, &quot;iconColor&quot;: &quot;green&quot;, &quot;markerColor&quot;: &quot;white&quot;, &quot;prefix&quot;: &quot;glyphicon&quot;}\n            );\n            marker_e88e0cebb202323667245471fff4d66a.setIcon(icon_d3c16369864dafcae68a1ae1bfda7435);\n        \n    \n            var marker_f27ffd7d8d9525ffea2fb1daa3569af1 = L.marker(\n                [34.63283416, -120.6107455],\n                {}\n            ).addTo(marker_cluster_fc5d5465a587b88785a92da72965d1dd);\n        \n    \n            var icon_b4fde11ffb6408544e2812d8497c9603 = L.AwesomeMarkers.icon(\n                {&quot;extraClasses&quot;: &quot;fa-rotate-0&quot;, &quot;icon&quot;: &quot;info-sign&quot;, &quot;iconColor&quot;: &quot;green&quot;, &quot;markerColor&quot;: &quot;white&quot;, &quot;prefix&quot;: &quot;glyphicon&quot;}\n            );\n            marker_f27ffd7d8d9525ffea2fb1daa3569af1.setIcon(icon_b4fde11ffb6408544e2812d8497c9603);\n        \n    \n            var marker_e8850eaf2b7caca084882e8cd6595d05 = L.marker(\n                [34.63283416, -120.6107455],\n                {}\n            ).addTo(marker_cluster_fc5d5465a587b88785a92da72965d1dd);\n        \n    \n            var icon_051c24702ecae033d2b63341207a6bf0 = L.AwesomeMarkers.icon(\n                {&quot;extraClasses&quot;: &quot;fa-rotate-0&quot;, &quot;icon&quot;: &quot;info-sign&quot;, &quot;iconColor&quot;: &quot;green&quot;, &quot;markerColor&quot;: &quot;white&quot;, &quot;prefix&quot;: &quot;glyphicon&quot;}\n            );\n            marker_e8850eaf2b7caca084882e8cd6595d05.setIcon(icon_051c24702ecae033d2b63341207a6bf0);\n        \n    \n            var marker_4bc36a9f9ac70560e9ee4ecdd0d9caa0 = L.marker(\n                [34.63283416, -120.6107455],\n                {}\n            ).addTo(marker_cluster_fc5d5465a587b88785a92da72965d1dd);\n        \n    \n            var icon_a42f895c11d1ba0a0f9191c37d7ec4ea = L.AwesomeMarkers.icon(\n                {&quot;extraClasses&quot;: &quot;fa-rotate-0&quot;, &quot;icon&quot;: &quot;info-sign&quot;, &quot;iconColor&quot;: &quot;red&quot;, &quot;markerColor&quot;: &quot;white&quot;, &quot;prefix&quot;: &quot;glyphicon&quot;}\n            );\n            marker_4bc36a9f9ac70560e9ee4ecdd0d9caa0.setIcon(icon_a42f895c11d1ba0a0f9191c37d7ec4ea);\n        \n    \n            var marker_23345f661bcaffa2de095d00e07273e6 = L.marker(\n                [34.63283416, -120.6107455],\n                {}\n            ).addTo(marker_cluster_fc5d5465a587b88785a92da72965d1dd);\n        \n    \n            var icon_fa1ff50eb043f41ddadbeb4afdaac74f = L.AwesomeMarkers.icon(\n                {&quot;extraClasses&quot;: &quot;fa-rotate-0&quot;, &quot;icon&quot;: &quot;info-sign&quot;, &quot;iconColor&quot;: &quot;red&quot;, &quot;markerColor&quot;: &quot;white&quot;, &quot;prefix&quot;: &quot;glyphicon&quot;}\n            );\n            marker_23345f661bcaffa2de095d00e07273e6.setIcon(icon_fa1ff50eb043f41ddadbeb4afdaac74f);\n        \n    \n            var marker_6548124e1c86a3e6146153c2d39a8518 = L.marker(\n                [34.63283416, -120.6107455],\n                {}\n            ).addTo(marker_cluster_fc5d5465a587b88785a92da72965d1dd);\n        \n    \n            var icon_cf885ecf2fcc403444aeac1da700ca4b = L.AwesomeMarkers.icon(\n                {&quot;extraClasses&quot;: &quot;fa-rotate-0&quot;, &quot;icon&quot;: &quot;info-sign&quot;, &quot;iconColor&quot;: &quot;red&quot;, &quot;markerColor&quot;: &quot;white&quot;, &quot;prefix&quot;: &quot;glyphicon&quot;}\n            );\n            marker_6548124e1c86a3e6146153c2d39a8518.setIcon(icon_cf885ecf2fcc403444aeac1da700ca4b);\n        \n    \n            var marker_dc2f5ff34c236584de6ba118e20dc08f = L.marker(\n                [34.63283416, -120.6107455],\n                {}\n            ).addTo(marker_cluster_fc5d5465a587b88785a92da72965d1dd);\n        \n    \n            var icon_394191b52198ece79d331dbf556e2867 = L.AwesomeMarkers.icon(\n                {&quot;extraClasses&quot;: &quot;fa-rotate-0&quot;, &quot;icon&quot;: &quot;info-sign&quot;, &quot;iconColor&quot;: &quot;red&quot;, &quot;markerColor&quot;: &quot;white&quot;, &quot;prefix&quot;: &quot;glyphicon&quot;}\n            );\n            marker_dc2f5ff34c236584de6ba118e20dc08f.setIcon(icon_394191b52198ece79d331dbf556e2867);\n        \n    \n            var marker_95f899ad6682fea3d484691f80b16613 = L.marker(\n                [28.57325457, -80.64689529],\n                {}\n            ).addTo(marker_cluster_fc5d5465a587b88785a92da72965d1dd);\n        \n    \n            var icon_7f1dd2c3cf6e36d13c6c32658a1da258 = L.AwesomeMarkers.icon(\n                {&quot;extraClasses&quot;: &quot;fa-rotate-0&quot;, &quot;icon&quot;: &quot;info-sign&quot;, &quot;iconColor&quot;: &quot;green&quot;, &quot;markerColor&quot;: &quot;white&quot;, &quot;prefix&quot;: &quot;glyphicon&quot;}\n            );\n            marker_95f899ad6682fea3d484691f80b16613.setIcon(icon_7f1dd2c3cf6e36d13c6c32658a1da258);\n        \n    \n            var marker_819eeabff8a8b3733a097e93b3b69cfa = L.marker(\n                [28.57325457, -80.64689529],\n                {}\n            ).addTo(marker_cluster_fc5d5465a587b88785a92da72965d1dd);\n        \n    \n            var icon_f9fe97de2c777ca2004a7700ae3d30ad = L.AwesomeMarkers.icon(\n                {&quot;extraClasses&quot;: &quot;fa-rotate-0&quot;, &quot;icon&quot;: &quot;info-sign&quot;, &quot;iconColor&quot;: &quot;red&quot;, &quot;markerColor&quot;: &quot;white&quot;, &quot;prefix&quot;: &quot;glyphicon&quot;}\n            );\n            marker_819eeabff8a8b3733a097e93b3b69cfa.setIcon(icon_f9fe97de2c777ca2004a7700ae3d30ad);\n        \n    \n            var marker_7ed02a7235b3cdbce09b49bd10624ecb = L.marker(\n                [28.57325457, -80.64689529],\n                {}\n            ).addTo(marker_cluster_fc5d5465a587b88785a92da72965d1dd);\n        \n    \n            var icon_4995e874e276a04282874112c1b6d681 = L.AwesomeMarkers.icon(\n                {&quot;extraClasses&quot;: &quot;fa-rotate-0&quot;, &quot;icon&quot;: &quot;info-sign&quot;, &quot;iconColor&quot;: &quot;green&quot;, &quot;markerColor&quot;: &quot;white&quot;, &quot;prefix&quot;: &quot;glyphicon&quot;}\n            );\n            marker_7ed02a7235b3cdbce09b49bd10624ecb.setIcon(icon_4995e874e276a04282874112c1b6d681);\n        \n    \n            var marker_5f8a339f283270564b04ba3532fc38ab = L.marker(\n                [28.57325457, -80.64689529],\n                {}\n            ).addTo(marker_cluster_fc5d5465a587b88785a92da72965d1dd);\n        \n    \n            var icon_da7f24768280fc76205759b6cb3d7871 = L.AwesomeMarkers.icon(\n                {&quot;extraClasses&quot;: &quot;fa-rotate-0&quot;, &quot;icon&quot;: &quot;info-sign&quot;, &quot;iconColor&quot;: &quot;green&quot;, &quot;markerColor&quot;: &quot;white&quot;, &quot;prefix&quot;: &quot;glyphicon&quot;}\n            );\n            marker_5f8a339f283270564b04ba3532fc38ab.setIcon(icon_da7f24768280fc76205759b6cb3d7871);\n        \n    \n            var marker_380a4c2a3dee9d29cd44df9588a918ae = L.marker(\n                [28.57325457, -80.64689529],\n                {}\n            ).addTo(marker_cluster_fc5d5465a587b88785a92da72965d1dd);\n        \n    \n            var icon_6bc315de1c53e8c38a7ec859eca42628 = L.AwesomeMarkers.icon(\n                {&quot;extraClasses&quot;: &quot;fa-rotate-0&quot;, &quot;icon&quot;: &quot;info-sign&quot;, &quot;iconColor&quot;: &quot;red&quot;, &quot;markerColor&quot;: &quot;white&quot;, &quot;prefix&quot;: &quot;glyphicon&quot;}\n            );\n            marker_380a4c2a3dee9d29cd44df9588a918ae.setIcon(icon_6bc315de1c53e8c38a7ec859eca42628);\n        \n    \n            var marker_32b43adb2d41917e4fe7d36bb8438b43 = L.marker(\n                [28.57325457, -80.64689529],\n                {}\n            ).addTo(marker_cluster_fc5d5465a587b88785a92da72965d1dd);\n        \n    \n            var icon_1251eb28c7b69052e82ff05b605fc074 = L.AwesomeMarkers.icon(\n                {&quot;extraClasses&quot;: &quot;fa-rotate-0&quot;, &quot;icon&quot;: &quot;info-sign&quot;, &quot;iconColor&quot;: &quot;green&quot;, &quot;markerColor&quot;: &quot;white&quot;, &quot;prefix&quot;: &quot;glyphicon&quot;}\n            );\n            marker_32b43adb2d41917e4fe7d36bb8438b43.setIcon(icon_1251eb28c7b69052e82ff05b605fc074);\n        \n    \n            var marker_34a742778a4b7daacc00d76f90011651 = L.marker(\n                [28.57325457, -80.64689529],\n                {}\n            ).addTo(marker_cluster_fc5d5465a587b88785a92da72965d1dd);\n        \n    \n            var icon_88a335642815181057242e412a0379ad = L.AwesomeMarkers.icon(\n                {&quot;extraClasses&quot;: &quot;fa-rotate-0&quot;, &quot;icon&quot;: &quot;info-sign&quot;, &quot;iconColor&quot;: &quot;green&quot;, &quot;markerColor&quot;: &quot;white&quot;, &quot;prefix&quot;: &quot;glyphicon&quot;}\n            );\n            marker_34a742778a4b7daacc00d76f90011651.setIcon(icon_88a335642815181057242e412a0379ad);\n        \n    \n            var marker_b60cfe61cfe8dc090e8d831b42dfdda1 = L.marker(\n                [28.57325457, -80.64689529],\n                {}\n            ).addTo(marker_cluster_fc5d5465a587b88785a92da72965d1dd);\n        \n    \n            var icon_23f60893771216943e127c508228f775 = L.AwesomeMarkers.icon(\n                {&quot;extraClasses&quot;: &quot;fa-rotate-0&quot;, &quot;icon&quot;: &quot;info-sign&quot;, &quot;iconColor&quot;: &quot;red&quot;, &quot;markerColor&quot;: &quot;white&quot;, &quot;prefix&quot;: &quot;glyphicon&quot;}\n            );\n            marker_b60cfe61cfe8dc090e8d831b42dfdda1.setIcon(icon_23f60893771216943e127c508228f775);\n        \n    \n            var marker_96ce880fe70f7e514efa39d91b09fd90 = L.marker(\n                [28.57325457, -80.64689529],\n                {}\n            ).addTo(marker_cluster_fc5d5465a587b88785a92da72965d1dd);\n        \n    \n            var icon_f404b42d59585e58b46446e50897685a = L.AwesomeMarkers.icon(\n                {&quot;extraClasses&quot;: &quot;fa-rotate-0&quot;, &quot;icon&quot;: &quot;info-sign&quot;, &quot;iconColor&quot;: &quot;green&quot;, &quot;markerColor&quot;: &quot;white&quot;, &quot;prefix&quot;: &quot;glyphicon&quot;}\n            );\n            marker_96ce880fe70f7e514efa39d91b09fd90.setIcon(icon_f404b42d59585e58b46446e50897685a);\n        \n    \n            var marker_216f3f0c987c542c5e93d11f7ee19851 = L.marker(\n                [28.57325457, -80.64689529],\n                {}\n            ).addTo(marker_cluster_fc5d5465a587b88785a92da72965d1dd);\n        \n    \n            var icon_43e0b892c517d19fc646365757bc79ce = L.AwesomeMarkers.icon(\n                {&quot;extraClasses&quot;: &quot;fa-rotate-0&quot;, &quot;icon&quot;: &quot;info-sign&quot;, &quot;iconColor&quot;: &quot;green&quot;, &quot;markerColor&quot;: &quot;white&quot;, &quot;prefix&quot;: &quot;glyphicon&quot;}\n            );\n            marker_216f3f0c987c542c5e93d11f7ee19851.setIcon(icon_43e0b892c517d19fc646365757bc79ce);\n        \n    \n            var marker_3becb0eee65060a07c6e74608bd5aa1b = L.marker(\n                [28.57325457, -80.64689529],\n                {}\n            ).addTo(marker_cluster_fc5d5465a587b88785a92da72965d1dd);\n        \n    \n            var icon_c2bc517288cdcec421388df883c2f1d2 = L.AwesomeMarkers.icon(\n                {&quot;extraClasses&quot;: &quot;fa-rotate-0&quot;, &quot;icon&quot;: &quot;info-sign&quot;, &quot;iconColor&quot;: &quot;green&quot;, &quot;markerColor&quot;: &quot;white&quot;, &quot;prefix&quot;: &quot;glyphicon&quot;}\n            );\n            marker_3becb0eee65060a07c6e74608bd5aa1b.setIcon(icon_c2bc517288cdcec421388df883c2f1d2);\n        \n    \n            var marker_b137f95be09824f0f20b70ebf56a7b7f = L.marker(\n                [28.57325457, -80.64689529],\n                {}\n            ).addTo(marker_cluster_fc5d5465a587b88785a92da72965d1dd);\n        \n    \n            var icon_2bc6f0c6360c9a6cec47812cade6abfb = L.AwesomeMarkers.icon(\n                {&quot;extraClasses&quot;: &quot;fa-rotate-0&quot;, &quot;icon&quot;: &quot;info-sign&quot;, &quot;iconColor&quot;: &quot;green&quot;, &quot;markerColor&quot;: &quot;white&quot;, &quot;prefix&quot;: &quot;glyphicon&quot;}\n            );\n            marker_b137f95be09824f0f20b70ebf56a7b7f.setIcon(icon_2bc6f0c6360c9a6cec47812cade6abfb);\n        \n    \n            var marker_056f1ea2fc2de1403003a1487dd00c4e = L.marker(\n                [28.57325457, -80.64689529],\n                {}\n            ).addTo(marker_cluster_fc5d5465a587b88785a92da72965d1dd);\n        \n    \n            var icon_a00b2c65d40e7108e96d648f31e0d2a4 = L.AwesomeMarkers.icon(\n                {&quot;extraClasses&quot;: &quot;fa-rotate-0&quot;, &quot;icon&quot;: &quot;info-sign&quot;, &quot;iconColor&quot;: &quot;green&quot;, &quot;markerColor&quot;: &quot;white&quot;, &quot;prefix&quot;: &quot;glyphicon&quot;}\n            );\n            marker_056f1ea2fc2de1403003a1487dd00c4e.setIcon(icon_a00b2c65d40e7108e96d648f31e0d2a4);\n        \n    \n            var marker_c5ed23069fbddf6260bb8cf3fdd520ca = L.marker(\n                [28.56319718, -80.57682003],\n                {}\n            ).addTo(marker_cluster_fc5d5465a587b88785a92da72965d1dd);\n        \n    \n            var icon_0475f081f60f1ad5febefadb536facd3 = L.AwesomeMarkers.icon(\n                {&quot;extraClasses&quot;: &quot;fa-rotate-0&quot;, &quot;icon&quot;: &quot;info-sign&quot;, &quot;iconColor&quot;: &quot;green&quot;, &quot;markerColor&quot;: &quot;white&quot;, &quot;prefix&quot;: &quot;glyphicon&quot;}\n            );\n            marker_c5ed23069fbddf6260bb8cf3fdd520ca.setIcon(icon_0475f081f60f1ad5febefadb536facd3);\n        \n    \n            var marker_88057566cbee046bdd0ae4636b3f1d0d = L.marker(\n                [28.56319718, -80.57682003],\n                {}\n            ).addTo(marker_cluster_fc5d5465a587b88785a92da72965d1dd);\n        \n    \n            var icon_8a0b77e68e9f4c61335f1a2438f087a0 = L.AwesomeMarkers.icon(\n                {&quot;extraClasses&quot;: &quot;fa-rotate-0&quot;, &quot;icon&quot;: &quot;info-sign&quot;, &quot;iconColor&quot;: &quot;green&quot;, &quot;markerColor&quot;: &quot;white&quot;, &quot;prefix&quot;: &quot;glyphicon&quot;}\n            );\n            marker_88057566cbee046bdd0ae4636b3f1d0d.setIcon(icon_8a0b77e68e9f4c61335f1a2438f087a0);\n        \n    \n            var marker_fe613efde5a37f7256c118580c227e15 = L.marker(\n                [28.56319718, -80.57682003],\n                {}\n            ).addTo(marker_cluster_fc5d5465a587b88785a92da72965d1dd);\n        \n    \n            var icon_0d4d64ef022f44c881e8185111a95405 = L.AwesomeMarkers.icon(\n                {&quot;extraClasses&quot;: &quot;fa-rotate-0&quot;, &quot;icon&quot;: &quot;info-sign&quot;, &quot;iconColor&quot;: &quot;red&quot;, &quot;markerColor&quot;: &quot;white&quot;, &quot;prefix&quot;: &quot;glyphicon&quot;}\n            );\n            marker_fe613efde5a37f7256c118580c227e15.setIcon(icon_0d4d64ef022f44c881e8185111a95405);\n        \n    \n            var marker_53bfbb1fd770e29e593697092e4a7460 = L.marker(\n                [28.56319718, -80.57682003],\n                {}\n            ).addTo(marker_cluster_fc5d5465a587b88785a92da72965d1dd);\n        \n    \n            var icon_429e3fa79e8f45db4eceb3bc2eab2109 = L.AwesomeMarkers.icon(\n                {&quot;extraClasses&quot;: &quot;fa-rotate-0&quot;, &quot;icon&quot;: &quot;info-sign&quot;, &quot;iconColor&quot;: &quot;red&quot;, &quot;markerColor&quot;: &quot;white&quot;, &quot;prefix&quot;: &quot;glyphicon&quot;}\n            );\n            marker_53bfbb1fd770e29e593697092e4a7460.setIcon(icon_429e3fa79e8f45db4eceb3bc2eab2109);\n        \n    \n            var marker_2b64f7c93bbeab9f4e20af7d0af234a6 = L.marker(\n                [28.56319718, -80.57682003],\n                {}\n            ).addTo(marker_cluster_fc5d5465a587b88785a92da72965d1dd);\n        \n    \n            var icon_82eced3abc24688b752bb1e93b8b66f6 = L.AwesomeMarkers.icon(\n                {&quot;extraClasses&quot;: &quot;fa-rotate-0&quot;, &quot;icon&quot;: &quot;info-sign&quot;, &quot;iconColor&quot;: &quot;red&quot;, &quot;markerColor&quot;: &quot;white&quot;, &quot;prefix&quot;: &quot;glyphicon&quot;}\n            );\n            marker_2b64f7c93bbeab9f4e20af7d0af234a6.setIcon(icon_82eced3abc24688b752bb1e93b8b66f6);\n        \n    \n            var marker_ff525ceaf85b558181f4c6562670ef44 = L.marker(\n                [28.56319718, -80.57682003],\n                {}\n            ).addTo(marker_cluster_fc5d5465a587b88785a92da72965d1dd);\n        \n    \n            var icon_16a2b837255d0ec772742015e13d308f = L.AwesomeMarkers.icon(\n                {&quot;extraClasses&quot;: &quot;fa-rotate-0&quot;, &quot;icon&quot;: &quot;info-sign&quot;, &quot;iconColor&quot;: &quot;green&quot;, &quot;markerColor&quot;: &quot;white&quot;, &quot;prefix&quot;: &quot;glyphicon&quot;}\n            );\n            marker_ff525ceaf85b558181f4c6562670ef44.setIcon(icon_16a2b837255d0ec772742015e13d308f);\n        \n    \n            var marker_09a5c7c6c632e8e7e2b94337539b6a14 = L.marker(\n                [28.56319718, -80.57682003],\n                {}\n            ).addTo(marker_cluster_fc5d5465a587b88785a92da72965d1dd);\n        \n    \n            var icon_767028ba0d37d55bef587c6e5b2d20d6 = L.AwesomeMarkers.icon(\n                {&quot;extraClasses&quot;: &quot;fa-rotate-0&quot;, &quot;icon&quot;: &quot;info-sign&quot;, &quot;iconColor&quot;: &quot;red&quot;, &quot;markerColor&quot;: &quot;white&quot;, &quot;prefix&quot;: &quot;glyphicon&quot;}\n            );\n            marker_09a5c7c6c632e8e7e2b94337539b6a14.setIcon(icon_767028ba0d37d55bef587c6e5b2d20d6);\n        \n    \n            var mouse_position_f9011e25ed8cc143ceb87c634f44bed4 = new L.Control.MousePosition(\n                {&quot;emptyString&quot;: &quot;NaN&quot;, &quot;lngFirst&quot;: false, &quot;numDigits&quot;: 20, &quot;position&quot;: &quot;topright&quot;, &quot;prefix&quot;: &quot;Lat:&quot;, &quot;separator&quot;: &quot; Long: &quot;}\n            );\n            mouse_position_f9011e25ed8cc143ceb87c634f44bed4.options[&quot;latFormatter&quot;] =\n                function(num) {return L.Util.formatNum(num, 5);};;\n            mouse_position_f9011e25ed8cc143ceb87c634f44bed4.options[&quot;lngFormatter&quot;] =\n                function(num) {return L.Util.formatNum(num, 5);};;\n            map_c4d7c0e15bf4ba574a819fb59776da28.addControl(mouse_position_f9011e25ed8cc143ceb87c634f44bed4);\n        \n    \n            var poly_line_9767a66a9e1317c1ed3b6ea916ecea2d = L.polyline(\n                [[28.562302, -80.577356], [28.59112, -80.61999]],\n                {&quot;bubblingMouseEvents&quot;: true, &quot;color&quot;: &quot;#3388ff&quot;, &quot;dashArray&quot;: null, &quot;dashOffset&quot;: null, &quot;fill&quot;: false, &quot;fillColor&quot;: &quot;#3388ff&quot;, &quot;fillOpacity&quot;: 0.2, &quot;fillRule&quot;: &quot;evenodd&quot;, &quot;lineCap&quot;: &quot;round&quot;, &quot;lineJoin&quot;: &quot;round&quot;, &quot;noClip&quot;: false, &quot;opacity&quot;: 1.0, &quot;smoothFactor&quot;: 1.0, &quot;stroke&quot;: true, &quot;weight&quot;: 1}\n            ).addTo(map_c4d7c0e15bf4ba574a819fb59776da28);\n        \n    \n            var marker_2f077d34c2fe1829c2a612696f02f700 = L.marker(\n                [28.56335, -80.57085],\n                {}\n            ).addTo(map_c4d7c0e15bf4ba574a819fb59776da28);\n        \n    \n            var div_icon_7b52237cb51b26eea40a8a62190742fa = L.divIcon({&quot;className&quot;: &quot;empty&quot;, &quot;html&quot;: &quot;\\u003cdiv style=\\&quot;font-size: 12; color:#d35400;\\&quot;\\u003e\\u003cb\\u003e      0.65 KM\\u003c/b\\u003e\\u003c/div\\u003e&quot;, &quot;iconAnchor&quot;: [0, 0], &quot;iconSize&quot;: [20, 20]});\n            marker_2f077d34c2fe1829c2a612696f02f700.setIcon(div_icon_7b52237cb51b26eea40a8a62190742fa);\n        \n    \n            var poly_line_16e736cf8f425e8d185fa65daa70a5ef = L.polyline(\n                [[28.562302, -80.577356], [28.56335, -80.57085]],\n                {&quot;bubblingMouseEvents&quot;: true, &quot;color&quot;: &quot;#3388ff&quot;, &quot;dashArray&quot;: null, &quot;dashOffset&quot;: null, &quot;fill&quot;: false, &quot;fillColor&quot;: &quot;#3388ff&quot;, &quot;fillOpacity&quot;: 0.2, &quot;fillRule&quot;: &quot;evenodd&quot;, &quot;lineCap&quot;: &quot;round&quot;, &quot;lineJoin&quot;: &quot;round&quot;, &quot;noClip&quot;: false, &quot;opacity&quot;: 1.0, &quot;smoothFactor&quot;: 1.0, &quot;stroke&quot;: true, &quot;weight&quot;: 1}\n            ).addTo(map_c4d7c0e15bf4ba574a819fb59776da28);\n        \n    \n            var marker_fc02d863a04f3a6bd86ab119f663483b = L.marker(\n                [28.57206, -80.58525],\n                {}\n            ).addTo(map_c4d7c0e15bf4ba574a819fb59776da28);\n        \n    \n            var div_icon_9bd5bf2a7504bc36f73f2a9a300dd8ab = L.divIcon({&quot;className&quot;: &quot;empty&quot;, &quot;html&quot;: &quot;\\u003cdiv style=\\&quot;font-size: 12; color:#d35400;\\&quot;\\u003e\\u003cb\\u003e      1.33 KM\\u003c/b\\u003e\\u003c/div\\u003e&quot;, &quot;iconAnchor&quot;: [0, 0], &quot;iconSize&quot;: [20, 20]});\n            marker_fc02d863a04f3a6bd86ab119f663483b.setIcon(div_icon_9bd5bf2a7504bc36f73f2a9a300dd8ab);\n        \n    \n            var poly_line_b699153513c68426f213cdd51afc7463 = L.polyline(\n                [[28.562302, -80.577356], [28.57206, -80.58525]],\n                {&quot;bubblingMouseEvents&quot;: true, &quot;color&quot;: &quot;#3388ff&quot;, &quot;dashArray&quot;: null, &quot;dashOffset&quot;: null, &quot;fill&quot;: false, &quot;fillColor&quot;: &quot;#3388ff&quot;, &quot;fillOpacity&quot;: 0.2, &quot;fillRule&quot;: &quot;evenodd&quot;, &quot;lineCap&quot;: &quot;round&quot;, &quot;lineJoin&quot;: &quot;round&quot;, &quot;noClip&quot;: false, &quot;opacity&quot;: 1.0, &quot;smoothFactor&quot;: 1.0, &quot;stroke&quot;: true, &quot;weight&quot;: 1}\n            ).addTo(map_c4d7c0e15bf4ba574a819fb59776da28);\n        \n    \n            var marker_292eb79e8dd3e1e762600c470bfe7e00 = L.marker(\n                [28.10473, -80.64531],\n                {}\n            ).addTo(map_c4d7c0e15bf4ba574a819fb59776da28);\n        \n    \n            var div_icon_6caa5d32824690eee53bdb4a5b66d81a = L.divIcon({&quot;className&quot;: &quot;empty&quot;, &quot;html&quot;: &quot;\\u003cdiv style=\\&quot;font-size: 12; color:#d35400;\\&quot;\\u003e\\u003cb\\u003e     51.33 KM\\u003c/b\\u003e\\u003c/div\\u003e&quot;, &quot;iconAnchor&quot;: [0, 0], &quot;iconSize&quot;: [20, 20]});\n            marker_292eb79e8dd3e1e762600c470bfe7e00.setIcon(div_icon_6caa5d32824690eee53bdb4a5b66d81a);\n        \n    \n            var poly_line_c41cb2612df845a11e4a264f5927d353 = L.polyline(\n                [[28.562302, -80.577356], [28.10473, -80.64531]],\n                {&quot;bubblingMouseEvents&quot;: true, &quot;color&quot;: &quot;#3388ff&quot;, &quot;dashArray&quot;: null, &quot;dashOffset&quot;: null, &quot;fill&quot;: false, &quot;fillColor&quot;: &quot;#3388ff&quot;, &quot;fillOpacity&quot;: 0.2, &quot;fillRule&quot;: &quot;evenodd&quot;, &quot;lineCap&quot;: &quot;round&quot;, &quot;lineJoin&quot;: &quot;round&quot;, &quot;noClip&quot;: false, &quot;opacity&quot;: 1.0, &quot;smoothFactor&quot;: 1.0, &quot;stroke&quot;: true, &quot;weight&quot;: 1}\n            ).addTo(map_c4d7c0e15bf4ba574a819fb59776da28);\n        \n    \n            var marker_83e7a1ac2072215a7c8dba1c823cf5b5 = L.marker(\n                [28.56335, -80.57085],\n                {}\n            ).addTo(map_c4d7c0e15bf4ba574a819fb59776da28);\n        \n    \n            var div_icon_5fc323555338f97c1f17863994076088 = L.divIcon({&quot;className&quot;: &quot;empty&quot;, &quot;html&quot;: &quot;\\u003cdiv style=\\&quot;font-size: 12; color:#d35400;\\&quot;\\u003e\\u003cb\\u003e      0.65 KM\\u003c/b\\u003e\\u003c/div\\u003e&quot;, &quot;iconAnchor&quot;: [0, 0], &quot;iconSize&quot;: [20, 20]});\n            marker_83e7a1ac2072215a7c8dba1c823cf5b5.setIcon(div_icon_5fc323555338f97c1f17863994076088);\n        \n    \n            var poly_line_27fd69645ae50b7c2fffe63cc080d1af = L.polyline(\n                [[28.562302, -80.577356], [28.56335, -80.57085]],\n                {&quot;bubblingMouseEvents&quot;: true, &quot;color&quot;: &quot;#3388ff&quot;, &quot;dashArray&quot;: null, &quot;dashOffset&quot;: null, &quot;fill&quot;: false, &quot;fillColor&quot;: &quot;#3388ff&quot;, &quot;fillOpacity&quot;: 0.2, &quot;fillRule&quot;: &quot;evenodd&quot;, &quot;lineCap&quot;: &quot;round&quot;, &quot;lineJoin&quot;: &quot;round&quot;, &quot;noClip&quot;: false, &quot;opacity&quot;: 1.0, &quot;smoothFactor&quot;: 1.0, &quot;stroke&quot;: true, &quot;weight&quot;: 1}\n            ).addTo(map_c4d7c0e15bf4ba574a819fb59776da28);\n        \n    \n            var marker_9d7b83f4783e61b0fc530a525a6eb727 = L.marker(\n                [28.57206, -80.58525],\n                {}\n            ).addTo(map_c4d7c0e15bf4ba574a819fb59776da28);\n        \n    \n            var div_icon_dcc38008ad471cdf4197a5670618a297 = L.divIcon({&quot;className&quot;: &quot;empty&quot;, &quot;html&quot;: &quot;\\u003cdiv style=\\&quot;font-size: 12; color:#d35400;\\&quot;\\u003e\\u003cb\\u003e      1.33 KM\\u003c/b\\u003e\\u003c/div\\u003e&quot;, &quot;iconAnchor&quot;: [0, 0], &quot;iconSize&quot;: [20, 20]});\n            marker_9d7b83f4783e61b0fc530a525a6eb727.setIcon(div_icon_dcc38008ad471cdf4197a5670618a297);\n        \n    \n            var poly_line_40ffec1417248cdd9dc781fb12c8d999 = L.polyline(\n                [[28.562302, -80.577356], [28.57206, -80.58525]],\n                {&quot;bubblingMouseEvents&quot;: true, &quot;color&quot;: &quot;#3388ff&quot;, &quot;dashArray&quot;: null, &quot;dashOffset&quot;: null, &quot;fill&quot;: false, &quot;fillColor&quot;: &quot;#3388ff&quot;, &quot;fillOpacity&quot;: 0.2, &quot;fillRule&quot;: &quot;evenodd&quot;, &quot;lineCap&quot;: &quot;round&quot;, &quot;lineJoin&quot;: &quot;round&quot;, &quot;noClip&quot;: false, &quot;opacity&quot;: 1.0, &quot;smoothFactor&quot;: 1.0, &quot;stroke&quot;: true, &quot;weight&quot;: 1}\n            ).addTo(map_c4d7c0e15bf4ba574a819fb59776da28);\n        \n    \n            var marker_aa5eb1ff85c20b184fef234fa5ec751e = L.marker(\n                [28.10473, -80.64531],\n                {}\n            ).addTo(map_c4d7c0e15bf4ba574a819fb59776da28);\n        \n    \n            var div_icon_19dda81c4e386ec0076e98a6a8f4cf81 = L.divIcon({&quot;className&quot;: &quot;empty&quot;, &quot;html&quot;: &quot;\\u003cdiv style=\\&quot;font-size: 12; color:#d35400;\\&quot;\\u003e\\u003cb\\u003e     51.33 KM\\u003c/b\\u003e\\u003c/div\\u003e&quot;, &quot;iconAnchor&quot;: [0, 0], &quot;iconSize&quot;: [20, 20]});\n            marker_aa5eb1ff85c20b184fef234fa5ec751e.setIcon(div_icon_19dda81c4e386ec0076e98a6a8f4cf81);\n        \n    \n            var poly_line_1062401348e455db9c71e0a8d215e6da = L.polyline(\n                [[28.562302, -80.577356], [28.10473, -80.64531]],\n                {&quot;bubblingMouseEvents&quot;: true, &quot;color&quot;: &quot;#3388ff&quot;, &quot;dashArray&quot;: null, &quot;dashOffset&quot;: null, &quot;fill&quot;: false, &quot;fillColor&quot;: &quot;#3388ff&quot;, &quot;fillOpacity&quot;: 0.2, &quot;fillRule&quot;: &quot;evenodd&quot;, &quot;lineCap&quot;: &quot;round&quot;, &quot;lineJoin&quot;: &quot;round&quot;, &quot;noClip&quot;: false, &quot;opacity&quot;: 1.0, &quot;smoothFactor&quot;: 1.0, &quot;stroke&quot;: true, &quot;weight&quot;: 1}\n            ).addTo(map_c4d7c0e15bf4ba574a819fb59776da28);\n        \n&lt;/script&gt;\" style=\"position:absolute;width:100%;height:100%;left:0;top:0;border:none !important;\" allowfullscreen webkitallowfullscreen mozallowfullscreen></iframe></div></div>"
     },
     "metadata": {}
    }
   ]
  },
  {
   "cell_type": "markdown",
   "source": "After you plot distance lines to the proximities, you can answer the following questions easily:\n\n*   Are launch sites in close proximity to railways?\n*   Are launch sites in close proximity to highways?\n*   Are launch sites in close proximity to coastline?\n*   Do launch sites keep certain distance away from cities?\n\nAlso please try to explain your findings.\n",
   "metadata": {
    "cell_id": "00076-2a54ec32-65b2-4ca2-a98e-79819ca99c21",
    "owner_user_id": "d2daf00e-103f-41b7-a109-7eb2cb21323b",
    "deepnote_cell_type": "markdown",
    "deepnote_cell_height": 201.390625
   }
  },
  {
   "cell_type": "markdown",
   "source": "# Next Steps:\n\nNow you have discovered many interesting insights related to the launch sites' location using folium, in a very interactive way. Next, you will need to build a dashboard using Ploty Dash on detailed launch records.\n",
   "metadata": {
    "cell_id": "00077-b13ad737-ed2f-4137-b9e6-348202803579",
    "deepnote_cell_type": "markdown",
    "deepnote_cell_height": 142.796875
   }
  },
  {
   "cell_type": "markdown",
   "source": "## Authors\n",
   "metadata": {
    "cell_id": "00078-095a5fcc-b6ee-4d3e-8c29-ba40c821f96d",
    "deepnote_cell_type": "markdown",
    "deepnote_cell_height": 70
   }
  },
  {
   "cell_type": "markdown",
   "source": "[Yan Luo](https://www.linkedin.com/in/yan-luo-96288783/?utm_medium=Exinfluencer&utm_source=Exinfluencer&utm_content=000026UJ&utm_term=10006555&utm_id=NA-SkillsNetwork-Channel-SkillsNetworkCoursesIBMDS0321ENSkillsNetwork26802033-2022-01-01)\n",
   "metadata": {
    "cell_id": "00079-bd652ed1-6b98-4c4a-941e-ca481a611d1f",
    "deepnote_cell_type": "markdown",
    "deepnote_cell_height": 52.390625
   }
  },
  {
   "cell_type": "markdown",
   "source": "### Other Contributors\n",
   "metadata": {
    "cell_id": "00080-929ab38a-989b-43a9-96ea-567b716c22e2",
    "deepnote_cell_type": "markdown",
    "deepnote_cell_height": 62
   }
  },
  {
   "cell_type": "markdown",
   "source": "Joseph Santarcangelo\n",
   "metadata": {
    "cell_id": "00081-672719c6-358b-46e3-8188-bc873ae7ac44",
    "deepnote_cell_type": "markdown",
    "deepnote_cell_height": 52.390625
   }
  },
  {
   "cell_type": "markdown",
   "source": "## Change Log\n",
   "metadata": {
    "cell_id": "00082-9cbe79e5-fe2d-4b71-8c1a-383211a37993",
    "deepnote_cell_type": "markdown",
    "deepnote_cell_height": 70
   }
  },
  {
   "cell_type": "markdown",
   "source": "| Date (YYYY-MM-DD) | Version | Changed By | Change Description          |\n| ----------------- | ------- | ---------- | --------------------------- |\n| 2021-05-26        | 1.0     | Yan        | Created the initial version |\n",
   "metadata": {
    "cell_id": "00083-dd277762-674a-435c-a356-559430e57be3",
    "deepnote_cell_type": "markdown",
    "deepnote_cell_height": 78.796875
   }
  },
  {
   "cell_type": "markdown",
   "source": "Copyright © 2021 IBM Corporation. All rights reserved.\n",
   "metadata": {
    "cell_id": "00084-27c6744c-42d7-4686-b8e5-4df65609e73d",
    "deepnote_cell_type": "markdown",
    "deepnote_cell_height": 52.390625
   }
  },
  {
   "cell_type": "markdown",
   "source": "<a style='text-decoration:none;line-height:16px;display:flex;color:#5B5B62;padding:10px;justify-content:end;' href='https://deepnote.com?utm_source=created-in-deepnote-cell&projectId=e034ffd6-cd30-4d3e-9f21-269a32dbb4ee' target=\"_blank\">\n<img alt='Created in deepnote.com' style='display:inline;max-height:16px;margin:0px;margin-right:7.5px;' src='data:image/svg+xml;base64,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' > </img>\nCreated in <span style='font-weight:600;margin-left:4px;'>Deepnote</span></a>",
   "metadata": {
    "tags": [],
    "created_in_deepnote_cell": true,
    "deepnote_cell_type": "markdown"
   }
  }
 ],
 "nbformat": 4,
 "nbformat_minor": 4,
 "metadata": {
  "kernelspec": {
   "display_name": "Python 3",
   "language": "python",
   "name": "python3"
  },
  "language_info": {
   "codemirror_mode": {
    "name": "ipython",
    "version": 3
   },
   "file_extension": ".py",
   "mimetype": "text/x-python",
   "name": "python",
   "nbconvert_exporter": "python",
   "pygments_lexer": "ipython3",
   "version": "3.8.8"
  },
  "papermill": {
   "duration": 142.196942,
   "end_time": "2020-09-19T06:29:13.341578",
   "environment_variables": {},
   "exception": null,
   "input_path": "__notebook__.ipynb",
   "output_path": "__notebook__.ipynb",
   "parameters": {},
   "start_time": "2020-09-19T06:26:51.144636",
   "version": "2.1.0"
  },
  "deepnote_notebook_id": "92e21f8c-2886-4fdf-bd48-c942d5979ec9",
  "deepnote": {},
  "deepnote_execution_queue": []
 }
}